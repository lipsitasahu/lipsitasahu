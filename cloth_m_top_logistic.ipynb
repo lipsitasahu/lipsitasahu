{
  "nbformat": 4,
  "nbformat_minor": 0,
  "metadata": {
    "kernelspec": {
      "display_name": "Python 3",
      "language": "python",
      "name": "python3"
    },
    "language_info": {
      "codemirror_mode": {
        "name": "ipython",
        "version": 3
      },
      "file_extension": ".py",
      "mimetype": "text/x-python",
      "name": "python",
      "nbconvert_exporter": "python",
      "pygments_lexer": "ipython3",
      "version": "3.7.3"
    },
    "colab": {
      "name": "cloth_m_top_logistic.ipynb",
      "provenance": [],
      "include_colab_link": true
    }
  },
  "cells": [
    {
      "cell_type": "markdown",
      "metadata": {
        "id": "view-in-github",
        "colab_type": "text"
      },
      "source": [
        "<a href=\"https://colab.research.google.com/github/lipsitasahu/lipsitasahu/blob/main/cloth_m_top_logistic.ipynb\" target=\"_parent\"><img src=\"https://colab.research.google.com/assets/colab-badge.svg\" alt=\"Open In Colab\"/></a>"
      ]
    },
    {
      "cell_type": "code",
      "metadata": {
        "id": "ke4kGvnZmiHT",
        "outputId": "abe34d0d-0874-4e5d-aaf7-caa725b8ec28"
      },
      "source": [
        "import pandas as pd\n",
        "import numpy as np\n",
        "from sklearn.linear_model import LogisticRegression\n",
        "import matplotlib.pyplot as plt   \n",
        "import seaborn as sns\n",
        "from sklearn.model_selection import train_test_split\n",
        "from sklearn import metrics\n",
        "%matplotlib inline"
      ],
      "execution_count": null,
      "outputs": [
        {
          "output_type": "stream",
          "text": [
            "C:\\Users\\lipsita\\Anaconda3\\lib\\site-packages\\statsmodels\\tools\\_testing.py:19: FutureWarning: pandas.util.testing is deprecated. Use the functions in the public API at pandas.testing instead.\n",
            "  import pandas.util.testing as tm\n"
          ],
          "name": "stderr"
        }
      ]
    },
    {
      "cell_type": "code",
      "metadata": {
        "id": "A-RNRoWSmiHl"
      },
      "source": [
        "cloth_df=pd.read_csv(\"Dataset_m_top_final.csv\")"
      ],
      "execution_count": null,
      "outputs": []
    },
    {
      "cell_type": "code",
      "metadata": {
        "id": "vQzXbuO9miHn",
        "outputId": "99e66d4a-aadc-471c-e117-6894291c1003"
      },
      "source": [
        "cloth_df.head()"
      ],
      "execution_count": null,
      "outputs": [
        {
          "output_type": "execute_result",
          "data": {
            "text/html": [
              "<div>\n",
              "<style scoped>\n",
              "    .dataframe tbody tr th:only-of-type {\n",
              "        vertical-align: middle;\n",
              "    }\n",
              "\n",
              "    .dataframe tbody tr th {\n",
              "        vertical-align: top;\n",
              "    }\n",
              "\n",
              "    .dataframe thead th {\n",
              "        text-align: right;\n",
              "    }\n",
              "</style>\n",
              "<table border=\"1\" class=\"dataframe\">\n",
              "  <thead>\n",
              "    <tr style=\"text-align: right;\">\n",
              "      <th></th>\n",
              "      <th>ImgID</th>\n",
              "      <th>BodySize</th>\n",
              "      <th>Complexion</th>\n",
              "      <th>Occasion</th>\n",
              "      <th>DressColor</th>\n",
              "      <th>DressDesign</th>\n",
              "      <th>Matching</th>\n",
              "    </tr>\n",
              "  </thead>\n",
              "  <tbody>\n",
              "    <tr>\n",
              "      <th>0</th>\n",
              "      <td>photo-1492447166138-50c3889fccb1</td>\n",
              "      <td>L</td>\n",
              "      <td>Very Fair</td>\n",
              "      <td>Casual</td>\n",
              "      <td>Black&amp;White</td>\n",
              "      <td>Cuban Collar Shirt</td>\n",
              "      <td>Y</td>\n",
              "    </tr>\n",
              "    <tr>\n",
              "      <th>1</th>\n",
              "      <td>Img_4</td>\n",
              "      <td>XL</td>\n",
              "      <td>Fair</td>\n",
              "      <td>Casual</td>\n",
              "      <td>Blue&amp;White</td>\n",
              "      <td>Linen Shirt</td>\n",
              "      <td>N</td>\n",
              "    </tr>\n",
              "    <tr>\n",
              "      <th>2</th>\n",
              "      <td>image_51</td>\n",
              "      <td>M</td>\n",
              "      <td>Medium</td>\n",
              "      <td>Casual</td>\n",
              "      <td>LightBlue</td>\n",
              "      <td>Overshirt</td>\n",
              "      <td>N</td>\n",
              "    </tr>\n",
              "    <tr>\n",
              "      <th>3</th>\n",
              "      <td>image_52</td>\n",
              "      <td>M</td>\n",
              "      <td>Very Fair</td>\n",
              "      <td>Casual</td>\n",
              "      <td>Muddy Brown</td>\n",
              "      <td>Linen Shirt</td>\n",
              "      <td>Y</td>\n",
              "    </tr>\n",
              "    <tr>\n",
              "      <th>4</th>\n",
              "      <td>image_53</td>\n",
              "      <td>S</td>\n",
              "      <td>Fair</td>\n",
              "      <td>Wedding</td>\n",
              "      <td>White&amp;Pink</td>\n",
              "      <td>Overshirt</td>\n",
              "      <td>Y</td>\n",
              "    </tr>\n",
              "  </tbody>\n",
              "</table>\n",
              "</div>"
            ],
            "text/plain": [
              "                              ImgID BodySize Complexion Occasion   DressColor  \\\n",
              "0  photo-1492447166138-50c3889fccb1        L  Very Fair   Casual  Black&White   \n",
              "1                             Img_4       XL       Fair   Casual   Blue&White   \n",
              "2                          image_51        M     Medium   Casual    LightBlue   \n",
              "3                          image_52        M  Very Fair   Casual  Muddy Brown   \n",
              "4                          image_53        S       Fair  Wedding   White&Pink   \n",
              "\n",
              "          DressDesign Matching  \n",
              "0  Cuban Collar Shirt        Y  \n",
              "1         Linen Shirt        N  \n",
              "2           Overshirt        N  \n",
              "3         Linen Shirt        Y  \n",
              "4           Overshirt        Y  "
            ]
          },
          "metadata": {
            "tags": []
          },
          "execution_count": 3
        }
      ]
    },
    {
      "cell_type": "code",
      "metadata": {
        "id": "rerBLNHumiHo",
        "outputId": "e3eb966e-ed1f-43d4-de16-91696bb7f7e0"
      },
      "source": [
        "cloth_df.iloc[12:13]"
      ],
      "execution_count": null,
      "outputs": [
        {
          "output_type": "execute_result",
          "data": {
            "text/html": [
              "<div>\n",
              "<style scoped>\n",
              "    .dataframe tbody tr th:only-of-type {\n",
              "        vertical-align: middle;\n",
              "    }\n",
              "\n",
              "    .dataframe tbody tr th {\n",
              "        vertical-align: top;\n",
              "    }\n",
              "\n",
              "    .dataframe thead th {\n",
              "        text-align: right;\n",
              "    }\n",
              "</style>\n",
              "<table border=\"1\" class=\"dataframe\">\n",
              "  <thead>\n",
              "    <tr style=\"text-align: right;\">\n",
              "      <th></th>\n",
              "      <th>ImgID</th>\n",
              "      <th>BodySize</th>\n",
              "      <th>Complexion</th>\n",
              "      <th>Occasion</th>\n",
              "      <th>DressColor</th>\n",
              "      <th>DressDesign</th>\n",
              "      <th>Matching</th>\n",
              "    </tr>\n",
              "  </thead>\n",
              "  <tbody>\n",
              "    <tr>\n",
              "      <th>12</th>\n",
              "      <td>image_61</td>\n",
              "      <td>L</td>\n",
              "      <td>Very Fair</td>\n",
              "      <td>Casual</td>\n",
              "      <td>Black&amp;White&amp;Green</td>\n",
              "      <td>Linen Shirt</td>\n",
              "      <td>Y</td>\n",
              "    </tr>\n",
              "  </tbody>\n",
              "</table>\n",
              "</div>"
            ],
            "text/plain": [
              "       ImgID BodySize Complexion Occasion         DressColor  DressDesign  \\\n",
              "12  image_61        L  Very Fair   Casual  Black&White&Green  Linen Shirt   \n",
              "\n",
              "   Matching  \n",
              "12        Y  "
            ]
          },
          "metadata": {
            "tags": []
          },
          "execution_count": 4
        }
      ]
    },
    {
      "cell_type": "code",
      "metadata": {
        "id": "NABKGjVjmiHp",
        "outputId": "b218b216-3ee9-4400-a95a-cfdcf082bfad"
      },
      "source": [
        "cloth_df.shape"
      ],
      "execution_count": null,
      "outputs": [
        {
          "output_type": "execute_result",
          "data": {
            "text/plain": [
              "(355, 7)"
            ]
          },
          "metadata": {
            "tags": []
          },
          "execution_count": 5
        }
      ]
    },
    {
      "cell_type": "code",
      "metadata": {
        "id": "twnrcXtjmiHr",
        "outputId": "ca7fa622-085a-4777-d6b0-d0906e9e590b"
      },
      "source": [
        "cloth_df.info()"
      ],
      "execution_count": null,
      "outputs": [
        {
          "output_type": "stream",
          "text": [
            "<class 'pandas.core.frame.DataFrame'>\n",
            "RangeIndex: 355 entries, 0 to 354\n",
            "Data columns (total 7 columns):\n",
            " #   Column       Non-Null Count  Dtype \n",
            "---  ------       --------------  ----- \n",
            " 0   ImgID        355 non-null    object\n",
            " 1   BodySize     355 non-null    object\n",
            " 2   Complexion   355 non-null    object\n",
            " 3   Occasion     355 non-null    object\n",
            " 4   DressColor   355 non-null    object\n",
            " 5   DressDesign  355 non-null    object\n",
            " 6   Matching     355 non-null    object\n",
            "dtypes: object(7)\n",
            "memory usage: 19.5+ KB\n"
          ],
          "name": "stdout"
        }
      ]
    },
    {
      "cell_type": "code",
      "metadata": {
        "id": "95bDClPMmiHs",
        "outputId": "5881c51f-ee0c-4b35-e669-a63e012833b0"
      },
      "source": [
        "cloth_df.columns"
      ],
      "execution_count": null,
      "outputs": [
        {
          "output_type": "execute_result",
          "data": {
            "text/plain": [
              "Index(['ImgID', 'BodySize', 'Complexion', 'Occasion', 'DressColor',\n",
              "       'DressDesign', 'Matching'],\n",
              "      dtype='object')"
            ]
          },
          "metadata": {
            "tags": []
          },
          "execution_count": 7
        }
      ]
    },
    {
      "cell_type": "code",
      "metadata": {
        "id": "DQpau2o-miHt"
      },
      "source": [
        "cloth_df.drop('ImgID', inplace=True, axis=1)"
      ],
      "execution_count": null,
      "outputs": []
    },
    {
      "cell_type": "code",
      "metadata": {
        "id": "-WmduQ18miHt",
        "outputId": "def5c6d7-82ee-4b97-b1e3-9951d247b768"
      },
      "source": [
        "cloth_df.tail()"
      ],
      "execution_count": null,
      "outputs": [
        {
          "output_type": "execute_result",
          "data": {
            "text/html": [
              "<div>\n",
              "<style scoped>\n",
              "    .dataframe tbody tr th:only-of-type {\n",
              "        vertical-align: middle;\n",
              "    }\n",
              "\n",
              "    .dataframe tbody tr th {\n",
              "        vertical-align: top;\n",
              "    }\n",
              "\n",
              "    .dataframe thead th {\n",
              "        text-align: right;\n",
              "    }\n",
              "</style>\n",
              "<table border=\"1\" class=\"dataframe\">\n",
              "  <thead>\n",
              "    <tr style=\"text-align: right;\">\n",
              "      <th></th>\n",
              "      <th>BodySize</th>\n",
              "      <th>Complexion</th>\n",
              "      <th>Occasion</th>\n",
              "      <th>DressColor</th>\n",
              "      <th>DressDesign</th>\n",
              "      <th>Matching</th>\n",
              "    </tr>\n",
              "  </thead>\n",
              "  <tbody>\n",
              "    <tr>\n",
              "      <th>350</th>\n",
              "      <td>XL</td>\n",
              "      <td>Olive</td>\n",
              "      <td>Party</td>\n",
              "      <td>Blue&amp;White</td>\n",
              "      <td>Oxford Button-Down Shirt</td>\n",
              "      <td>N</td>\n",
              "    </tr>\n",
              "    <tr>\n",
              "      <th>351</th>\n",
              "      <td>S</td>\n",
              "      <td>Very Fair</td>\n",
              "      <td>Formal</td>\n",
              "      <td>White</td>\n",
              "      <td>Classic Short Sleeve Shirt</td>\n",
              "      <td>Y</td>\n",
              "    </tr>\n",
              "    <tr>\n",
              "      <th>352</th>\n",
              "      <td>L</td>\n",
              "      <td>Medium</td>\n",
              "      <td>Casual</td>\n",
              "      <td>Blue&amp;White</td>\n",
              "      <td>Casual Shirts</td>\n",
              "      <td>N</td>\n",
              "    </tr>\n",
              "    <tr>\n",
              "      <th>353</th>\n",
              "      <td>XL</td>\n",
              "      <td>Fair</td>\n",
              "      <td>Sports</td>\n",
              "      <td>White</td>\n",
              "      <td>Oxford Button-Down Shirt</td>\n",
              "      <td>Y</td>\n",
              "    </tr>\n",
              "    <tr>\n",
              "      <th>354</th>\n",
              "      <td>XL</td>\n",
              "      <td>Brown</td>\n",
              "      <td>Sports</td>\n",
              "      <td>Blue</td>\n",
              "      <td>Classic Short Sleeve Shirt</td>\n",
              "      <td>Y</td>\n",
              "    </tr>\n",
              "  </tbody>\n",
              "</table>\n",
              "</div>"
            ],
            "text/plain": [
              "    BodySize Complexion Occasion  DressColor                 DressDesign  \\\n",
              "350       XL      Olive    Party  Blue&White    Oxford Button-Down Shirt   \n",
              "351        S  Very Fair   Formal       White  Classic Short Sleeve Shirt   \n",
              "352        L     Medium   Casual  Blue&White               Casual Shirts   \n",
              "353       XL       Fair   Sports       White    Oxford Button-Down Shirt   \n",
              "354       XL      Brown   Sports        Blue  Classic Short Sleeve Shirt   \n",
              "\n",
              "    Matching  \n",
              "350        N  \n",
              "351        Y  \n",
              "352        N  \n",
              "353        Y  \n",
              "354        Y  "
            ]
          },
          "metadata": {
            "tags": []
          },
          "execution_count": 9
        }
      ]
    },
    {
      "cell_type": "code",
      "metadata": {
        "id": "98YvfyrOmiHu"
      },
      "source": [
        "import category_encoders as ce"
      ],
      "execution_count": null,
      "outputs": []
    },
    {
      "cell_type": "code",
      "metadata": {
        "id": "chyR1D09miHu",
        "outputId": "e1e73c91-6c40-43f1-a64e-2b2dc1de62a7"
      },
      "source": [
        "cloth_df['BodySize'].value_counts()"
      ],
      "execution_count": null,
      "outputs": [
        {
          "output_type": "execute_result",
          "data": {
            "text/plain": [
              "XL     154\n",
              "L       72\n",
              "M       71\n",
              "XXL     41\n",
              "S       16\n",
              "XS       1\n",
              "Name: BodySize, dtype: int64"
            ]
          },
          "metadata": {
            "tags": []
          },
          "execution_count": 11
        }
      ]
    },
    {
      "cell_type": "code",
      "metadata": {
        "id": "tkIHk7JvmiHv",
        "outputId": "fa60e348-1cee-4421-d04e-b0c66f77ee7b"
      },
      "source": [
        "cloth_df['Complexion'].value_counts()"
      ],
      "execution_count": null,
      "outputs": [
        {
          "output_type": "execute_result",
          "data": {
            "text/plain": [
              "Fair          94\n",
              "Very Fair     65\n",
              "Brown         61\n",
              "Medium        59\n",
              "Olive         53\n",
              "Dark Brown    23\n",
              "Name: Complexion, dtype: int64"
            ]
          },
          "metadata": {
            "tags": []
          },
          "execution_count": 12
        }
      ]
    },
    {
      "cell_type": "code",
      "metadata": {
        "id": "QfOJ5Qp-miHv",
        "outputId": "683c9a8b-dd2a-4f6b-9b39-7c9a6972a90f"
      },
      "source": [
        "cloth_df['Occasion'].value_counts()"
      ],
      "execution_count": null,
      "outputs": [
        {
          "output_type": "execute_result",
          "data": {
            "text/plain": [
              "Casual     141\n",
              "Formal      84\n",
              "Wedding     55\n",
              "Sports      36\n",
              "Party       27\n",
              "Winter       8\n",
              "party        3\n",
              "Ethinic      1\n",
              "Name: Occasion, dtype: int64"
            ]
          },
          "metadata": {
            "tags": []
          },
          "execution_count": 13
        }
      ]
    },
    {
      "cell_type": "code",
      "metadata": {
        "id": "BglWSCSImiHw",
        "outputId": "870b138f-5ce4-41b2-bdd8-653c7d5be743"
      },
      "source": [
        "cloth_df['DressColor'].value_counts()"
      ],
      "execution_count": null,
      "outputs": [
        {
          "output_type": "execute_result",
          "data": {
            "text/plain": [
              "Black             45\n",
              "White             38\n",
              "Blue              32\n",
              "Blue&White        31\n",
              "Black&White       31\n",
              "                  ..\n",
              "Black&Golden       1\n",
              "Mehendi            1\n",
              "DarkBlue&Black     1\n",
              "white              1\n",
              "Red&white          1\n",
              "Name: DressColor, Length: 75, dtype: int64"
            ]
          },
          "metadata": {
            "tags": []
          },
          "execution_count": 14
        }
      ]
    },
    {
      "cell_type": "code",
      "metadata": {
        "id": "z2XATWpgmiHw",
        "outputId": "636ef7f3-92fc-4f1d-84b8-9648633f1d0e"
      },
      "source": [
        "cloth_df['DressDesign'].value_counts()"
      ],
      "execution_count": null,
      "outputs": [
        {
          "output_type": "execute_result",
          "data": {
            "text/plain": [
              "Linen Shirt                   69\n",
              "Flannel Shirt                 59\n",
              "Classic Short Sleeve Shirt    50\n",
              "Polo Shirt                    42\n",
              "Oxford Button-Down Shirt      20\n",
              "Kurti                         18\n",
              "Casual Shirts                 17\n",
              "Check shirt                   13\n",
              "Sport jacket                   9\n",
              "Jacket                         8\n",
              "Blazer                         7\n",
              "Full Polo Shirt                7\n",
              "Overshirt                      5\n",
              "Kurta                          4\n",
              "T Shirt                        4\n",
              "Half Polo Shirt                4\n",
              "Half Shirt                     3\n",
              "Half Kurti                     2\n",
              "Full Shirt                     2\n",
              "Winter Wear                    2\n",
              "Flannel Shirt&Half blazer      2\n",
              "Flannel Shirt&Blazer           2\n",
              "Full Jacket                    2\n",
              "Full Kurti                     1\n",
              "Round Neck                     1\n",
              "Cuban Collar Shirt             1\n",
              "Sflannel Shirt                 1\n",
              "Name: DressDesign, dtype: int64"
            ]
          },
          "metadata": {
            "tags": []
          },
          "execution_count": 15
        }
      ]
    },
    {
      "cell_type": "code",
      "metadata": {
        "id": "9wYRAzDrmiHx",
        "outputId": "e9a148dd-1b83-4a11-cdfb-f1b8a8a7c704"
      },
      "source": [
        "cloth_df['Matching'].value_counts()"
      ],
      "execution_count": null,
      "outputs": [
        {
          "output_type": "execute_result",
          "data": {
            "text/plain": [
              "Y    229\n",
              "N    126\n",
              "Name: Matching, dtype: int64"
            ]
          },
          "metadata": {
            "tags": []
          },
          "execution_count": 16
        }
      ]
    },
    {
      "cell_type": "code",
      "metadata": {
        "id": "KaSTi56KmiHx",
        "outputId": "c3572c68-a84c-49d3-ec75-aa8531be8558"
      },
      "source": [
        "dummy_match_df=pd.get_dummies(cloth_df,drop_first=True)\n",
        "dummy_match_df.head()"
      ],
      "execution_count": null,
      "outputs": [
        {
          "output_type": "execute_result",
          "data": {
            "text/html": [
              "<div>\n",
              "<style scoped>\n",
              "    .dataframe tbody tr th:only-of-type {\n",
              "        vertical-align: middle;\n",
              "    }\n",
              "\n",
              "    .dataframe tbody tr th {\n",
              "        vertical-align: top;\n",
              "    }\n",
              "\n",
              "    .dataframe thead th {\n",
              "        text-align: right;\n",
              "    }\n",
              "</style>\n",
              "<table border=\"1\" class=\"dataframe\">\n",
              "  <thead>\n",
              "    <tr style=\"text-align: right;\">\n",
              "      <th></th>\n",
              "      <th>BodySize_M</th>\n",
              "      <th>BodySize_S</th>\n",
              "      <th>BodySize_XL</th>\n",
              "      <th>BodySize_XS</th>\n",
              "      <th>BodySize_XXL</th>\n",
              "      <th>Complexion_Dark Brown</th>\n",
              "      <th>Complexion_Fair</th>\n",
              "      <th>Complexion_Medium</th>\n",
              "      <th>Complexion_Olive</th>\n",
              "      <th>Complexion_Very Fair</th>\n",
              "      <th>...</th>\n",
              "      <th>DressDesign_Linen Shirt</th>\n",
              "      <th>DressDesign_Overshirt</th>\n",
              "      <th>DressDesign_Oxford Button-Down Shirt</th>\n",
              "      <th>DressDesign_Polo Shirt</th>\n",
              "      <th>DressDesign_Round Neck</th>\n",
              "      <th>DressDesign_Sflannel Shirt</th>\n",
              "      <th>DressDesign_Sport jacket</th>\n",
              "      <th>DressDesign_T Shirt</th>\n",
              "      <th>DressDesign_Winter Wear</th>\n",
              "      <th>Matching_Y</th>\n",
              "    </tr>\n",
              "  </thead>\n",
              "  <tbody>\n",
              "    <tr>\n",
              "      <th>0</th>\n",
              "      <td>0</td>\n",
              "      <td>0</td>\n",
              "      <td>0</td>\n",
              "      <td>0</td>\n",
              "      <td>0</td>\n",
              "      <td>0</td>\n",
              "      <td>0</td>\n",
              "      <td>0</td>\n",
              "      <td>0</td>\n",
              "      <td>1</td>\n",
              "      <td>...</td>\n",
              "      <td>0</td>\n",
              "      <td>0</td>\n",
              "      <td>0</td>\n",
              "      <td>0</td>\n",
              "      <td>0</td>\n",
              "      <td>0</td>\n",
              "      <td>0</td>\n",
              "      <td>0</td>\n",
              "      <td>0</td>\n",
              "      <td>1</td>\n",
              "    </tr>\n",
              "    <tr>\n",
              "      <th>1</th>\n",
              "      <td>0</td>\n",
              "      <td>0</td>\n",
              "      <td>1</td>\n",
              "      <td>0</td>\n",
              "      <td>0</td>\n",
              "      <td>0</td>\n",
              "      <td>1</td>\n",
              "      <td>0</td>\n",
              "      <td>0</td>\n",
              "      <td>0</td>\n",
              "      <td>...</td>\n",
              "      <td>1</td>\n",
              "      <td>0</td>\n",
              "      <td>0</td>\n",
              "      <td>0</td>\n",
              "      <td>0</td>\n",
              "      <td>0</td>\n",
              "      <td>0</td>\n",
              "      <td>0</td>\n",
              "      <td>0</td>\n",
              "      <td>0</td>\n",
              "    </tr>\n",
              "    <tr>\n",
              "      <th>2</th>\n",
              "      <td>1</td>\n",
              "      <td>0</td>\n",
              "      <td>0</td>\n",
              "      <td>0</td>\n",
              "      <td>0</td>\n",
              "      <td>0</td>\n",
              "      <td>0</td>\n",
              "      <td>1</td>\n",
              "      <td>0</td>\n",
              "      <td>0</td>\n",
              "      <td>...</td>\n",
              "      <td>0</td>\n",
              "      <td>1</td>\n",
              "      <td>0</td>\n",
              "      <td>0</td>\n",
              "      <td>0</td>\n",
              "      <td>0</td>\n",
              "      <td>0</td>\n",
              "      <td>0</td>\n",
              "      <td>0</td>\n",
              "      <td>0</td>\n",
              "    </tr>\n",
              "    <tr>\n",
              "      <th>3</th>\n",
              "      <td>1</td>\n",
              "      <td>0</td>\n",
              "      <td>0</td>\n",
              "      <td>0</td>\n",
              "      <td>0</td>\n",
              "      <td>0</td>\n",
              "      <td>0</td>\n",
              "      <td>0</td>\n",
              "      <td>0</td>\n",
              "      <td>1</td>\n",
              "      <td>...</td>\n",
              "      <td>1</td>\n",
              "      <td>0</td>\n",
              "      <td>0</td>\n",
              "      <td>0</td>\n",
              "      <td>0</td>\n",
              "      <td>0</td>\n",
              "      <td>0</td>\n",
              "      <td>0</td>\n",
              "      <td>0</td>\n",
              "      <td>1</td>\n",
              "    </tr>\n",
              "    <tr>\n",
              "      <th>4</th>\n",
              "      <td>0</td>\n",
              "      <td>1</td>\n",
              "      <td>0</td>\n",
              "      <td>0</td>\n",
              "      <td>0</td>\n",
              "      <td>0</td>\n",
              "      <td>1</td>\n",
              "      <td>0</td>\n",
              "      <td>0</td>\n",
              "      <td>0</td>\n",
              "      <td>...</td>\n",
              "      <td>0</td>\n",
              "      <td>1</td>\n",
              "      <td>0</td>\n",
              "      <td>0</td>\n",
              "      <td>0</td>\n",
              "      <td>0</td>\n",
              "      <td>0</td>\n",
              "      <td>0</td>\n",
              "      <td>0</td>\n",
              "      <td>1</td>\n",
              "    </tr>\n",
              "  </tbody>\n",
              "</table>\n",
              "<p>5 rows × 118 columns</p>\n",
              "</div>"
            ],
            "text/plain": [
              "   BodySize_M  BodySize_S  BodySize_XL  BodySize_XS  BodySize_XXL  \\\n",
              "0           0           0            0            0             0   \n",
              "1           0           0            1            0             0   \n",
              "2           1           0            0            0             0   \n",
              "3           1           0            0            0             0   \n",
              "4           0           1            0            0             0   \n",
              "\n",
              "   Complexion_Dark Brown  Complexion_Fair  Complexion_Medium  \\\n",
              "0                      0                0                  0   \n",
              "1                      0                1                  0   \n",
              "2                      0                0                  1   \n",
              "3                      0                0                  0   \n",
              "4                      0                1                  0   \n",
              "\n",
              "   Complexion_Olive  Complexion_Very Fair  ...  DressDesign_Linen Shirt  \\\n",
              "0                 0                     1  ...                        0   \n",
              "1                 0                     0  ...                        1   \n",
              "2                 0                     0  ...                        0   \n",
              "3                 0                     1  ...                        1   \n",
              "4                 0                     0  ...                        0   \n",
              "\n",
              "   DressDesign_Overshirt  DressDesign_Oxford Button-Down Shirt  \\\n",
              "0                      0                                     0   \n",
              "1                      0                                     0   \n",
              "2                      1                                     0   \n",
              "3                      0                                     0   \n",
              "4                      1                                     0   \n",
              "\n",
              "   DressDesign_Polo Shirt  DressDesign_Round Neck  DressDesign_Sflannel Shirt  \\\n",
              "0                       0                       0                           0   \n",
              "1                       0                       0                           0   \n",
              "2                       0                       0                           0   \n",
              "3                       0                       0                           0   \n",
              "4                       0                       0                           0   \n",
              "\n",
              "   DressDesign_Sport jacket  DressDesign_T Shirt  DressDesign_Winter Wear  \\\n",
              "0                         0                    0                        0   \n",
              "1                         0                    0                        0   \n",
              "2                         0                    0                        0   \n",
              "3                         0                    0                        0   \n",
              "4                         0                    0                        0   \n",
              "\n",
              "   Matching_Y  \n",
              "0           1  \n",
              "1           0  \n",
              "2           0  \n",
              "3           1  \n",
              "4           1  \n",
              "\n",
              "[5 rows x 118 columns]"
            ]
          },
          "metadata": {
            "tags": []
          },
          "execution_count": 22
        }
      ]
    },
    {
      "cell_type": "code",
      "metadata": {
        "id": "Scw5zoVKmiHy",
        "outputId": "d2dc3b6a-ee9c-41d3-a603-69799b2a62f1"
      },
      "source": [
        "array =dummy_match_df.values\n",
        "X = array[:,0:7]\n",
        "Y = array[:,8]  \n",
        "test_size = 0.30\n",
        "seed = 7  \n",
        "X_train, X_test, y_train, y_test = train_test_split(X, Y, test_size=test_size, random_state=seed)\n",
        "type(X_train)"
      ],
      "execution_count": null,
      "outputs": [
        {
          "output_type": "execute_result",
          "data": {
            "text/plain": [
              "numpy.ndarray"
            ]
          },
          "metadata": {
            "tags": []
          },
          "execution_count": 24
        }
      ]
    },
    {
      "cell_type": "code",
      "metadata": {
        "id": "59iC3udUmiHy",
        "outputId": "e7aabd72-a2ac-4830-8a16-03cbcd64dd30"
      },
      "source": [
        "model = LogisticRegression()\n",
        "model.fit(X_train, y_train)\n",
        "y_predict = model.predict(X_test)\n",
        "model_score = model.score(X_test, y_test)\n",
        "print(model_score)"
      ],
      "execution_count": null,
      "outputs": [
        {
          "output_type": "stream",
          "text": [
            "0.8411214953271028\n"
          ],
          "name": "stdout"
        },
        {
          "output_type": "stream",
          "text": [
            "C:\\Users\\lipsita\\Anaconda3\\lib\\site-packages\\sklearn\\linear_model\\logistic.py:432: FutureWarning: Default solver will be changed to 'lbfgs' in 0.22. Specify a solver to silence this warning.\n",
            "  FutureWarning)\n"
          ],
          "name": "stderr"
        }
      ]
    },
    {
      "cell_type": "code",
      "metadata": {
        "id": "Twu5vBuJmiHz"
      },
      "source": [
        ""
      ],
      "execution_count": null,
      "outputs": []
    }
  ]
}