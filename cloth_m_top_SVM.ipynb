{
  "nbformat": 4,
  "nbformat_minor": 0,
  "metadata": {
    "kernelspec": {
      "display_name": "Python 3",
      "language": "python",
      "name": "python3"
    },
    "language_info": {
      "codemirror_mode": {
        "name": "ipython",
        "version": 3
      },
      "file_extension": ".py",
      "mimetype": "text/x-python",
      "name": "python",
      "nbconvert_exporter": "python",
      "pygments_lexer": "ipython3",
      "version": "3.7.3"
    },
    "colab": {
      "name": "cloth_m_top_SVM.ipynb",
      "provenance": [],
      "include_colab_link": true
    }
  },
  "cells": [
    {
      "cell_type": "markdown",
      "metadata": {
        "id": "view-in-github",
        "colab_type": "text"
      },
      "source": [
        "<a href=\"https://colab.research.google.com/github/lipsitasahu/lipsitasahu/blob/main/cloth_m_top_SVM.ipynb\" target=\"_parent\"><img src=\"https://colab.research.google.com/assets/colab-badge.svg\" alt=\"Open In Colab\"/></a>"
      ]
    },
    {
      "cell_type": "code",
      "metadata": {
        "id": "q0OfzLMemUQs"
      },
      "source": [
        "import numpy as np\n",
        "import pandas as pd\n",
        "from sklearn.model_selection import train_test_split\n",
        "from sklearn import svm\n",
        "import matplotlib.pyplot as plt"
      ],
      "execution_count": null,
      "outputs": []
    },
    {
      "cell_type": "code",
      "metadata": {
        "id": "OKyF121KmUQ6",
        "outputId": "fd704047-0b44-4fe8-cff3-d55f926373ef"
      },
      "source": [
        "cloth_df=pd.read_csv(\"Dataset_m_top_final.csv\")\n",
        "cloth_df.head()"
      ],
      "execution_count": null,
      "outputs": [
        {
          "output_type": "execute_result",
          "data": {
            "text/html": [
              "<div>\n",
              "<style scoped>\n",
              "    .dataframe tbody tr th:only-of-type {\n",
              "        vertical-align: middle;\n",
              "    }\n",
              "\n",
              "    .dataframe tbody tr th {\n",
              "        vertical-align: top;\n",
              "    }\n",
              "\n",
              "    .dataframe thead th {\n",
              "        text-align: right;\n",
              "    }\n",
              "</style>\n",
              "<table border=\"1\" class=\"dataframe\">\n",
              "  <thead>\n",
              "    <tr style=\"text-align: right;\">\n",
              "      <th></th>\n",
              "      <th>ImgID</th>\n",
              "      <th>BodySize</th>\n",
              "      <th>Complexion</th>\n",
              "      <th>Occasion</th>\n",
              "      <th>DressColor</th>\n",
              "      <th>DressDesign</th>\n",
              "      <th>Matching</th>\n",
              "    </tr>\n",
              "  </thead>\n",
              "  <tbody>\n",
              "    <tr>\n",
              "      <th>0</th>\n",
              "      <td>photo-1492447166138-50c3889fccb1</td>\n",
              "      <td>L</td>\n",
              "      <td>Very Fair</td>\n",
              "      <td>Casual</td>\n",
              "      <td>Black&amp;White</td>\n",
              "      <td>Cuban Collar Shirt</td>\n",
              "      <td>Y</td>\n",
              "    </tr>\n",
              "    <tr>\n",
              "      <th>1</th>\n",
              "      <td>Img_4</td>\n",
              "      <td>XL</td>\n",
              "      <td>Fair</td>\n",
              "      <td>Casual</td>\n",
              "      <td>Blue&amp;White</td>\n",
              "      <td>Linen Shirt</td>\n",
              "      <td>N</td>\n",
              "    </tr>\n",
              "    <tr>\n",
              "      <th>2</th>\n",
              "      <td>image_51</td>\n",
              "      <td>M</td>\n",
              "      <td>Medium</td>\n",
              "      <td>Casual</td>\n",
              "      <td>LightBlue</td>\n",
              "      <td>Overshirt</td>\n",
              "      <td>N</td>\n",
              "    </tr>\n",
              "    <tr>\n",
              "      <th>3</th>\n",
              "      <td>image_52</td>\n",
              "      <td>M</td>\n",
              "      <td>Very Fair</td>\n",
              "      <td>Casual</td>\n",
              "      <td>Muddy Brown</td>\n",
              "      <td>Linen Shirt</td>\n",
              "      <td>Y</td>\n",
              "    </tr>\n",
              "    <tr>\n",
              "      <th>4</th>\n",
              "      <td>image_53</td>\n",
              "      <td>S</td>\n",
              "      <td>Fair</td>\n",
              "      <td>Wedding</td>\n",
              "      <td>White&amp;Pink</td>\n",
              "      <td>Overshirt</td>\n",
              "      <td>Y</td>\n",
              "    </tr>\n",
              "  </tbody>\n",
              "</table>\n",
              "</div>"
            ],
            "text/plain": [
              "                              ImgID BodySize Complexion Occasion   DressColor  \\\n",
              "0  photo-1492447166138-50c3889fccb1        L  Very Fair   Casual  Black&White   \n",
              "1                             Img_4       XL       Fair   Casual   Blue&White   \n",
              "2                          image_51        M     Medium   Casual    LightBlue   \n",
              "3                          image_52        M  Very Fair   Casual  Muddy Brown   \n",
              "4                          image_53        S       Fair  Wedding   White&Pink   \n",
              "\n",
              "          DressDesign Matching  \n",
              "0  Cuban Collar Shirt        Y  \n",
              "1         Linen Shirt        N  \n",
              "2           Overshirt        N  \n",
              "3         Linen Shirt        Y  \n",
              "4           Overshirt        Y  "
            ]
          },
          "metadata": {
            "tags": []
          },
          "execution_count": 2
        }
      ]
    },
    {
      "cell_type": "code",
      "metadata": {
        "id": "rrQYbQMmmUQ-",
        "outputId": "ccfcc43f-2d31-4794-ff3f-8ceb42d8cfea"
      },
      "source": [
        "cloth_df.shape"
      ],
      "execution_count": null,
      "outputs": [
        {
          "output_type": "execute_result",
          "data": {
            "text/plain": [
              "(355, 7)"
            ]
          },
          "metadata": {
            "tags": []
          },
          "execution_count": 3
        }
      ]
    },
    {
      "cell_type": "code",
      "metadata": {
        "id": "QQcmpwwdmUQ_",
        "outputId": "4671c50f-55e4-47e2-9231-8e47675df4e8"
      },
      "source": [
        "cloth_df.info()"
      ],
      "execution_count": null,
      "outputs": [
        {
          "output_type": "stream",
          "text": [
            "<class 'pandas.core.frame.DataFrame'>\n",
            "RangeIndex: 355 entries, 0 to 354\n",
            "Data columns (total 7 columns):\n",
            " #   Column       Non-Null Count  Dtype \n",
            "---  ------       --------------  ----- \n",
            " 0   ImgID        355 non-null    object\n",
            " 1   BodySize     355 non-null    object\n",
            " 2   Complexion   355 non-null    object\n",
            " 3   Occasion     355 non-null    object\n",
            " 4   DressColor   355 non-null    object\n",
            " 5   DressDesign  355 non-null    object\n",
            " 6   Matching     355 non-null    object\n",
            "dtypes: object(7)\n",
            "memory usage: 19.5+ KB\n"
          ],
          "name": "stdout"
        }
      ]
    },
    {
      "cell_type": "code",
      "metadata": {
        "id": "LO3WWaRmmURA",
        "outputId": "4bfbd8d0-6e0c-43c1-d927-6cd259e1f42a"
      },
      "source": [
        "cloth_df.columns"
      ],
      "execution_count": null,
      "outputs": [
        {
          "output_type": "execute_result",
          "data": {
            "text/plain": [
              "Index(['ImgID', 'BodySize', 'Complexion', 'Occasion', 'DressColor',\n",
              "       'DressDesign', 'Matching'],\n",
              "      dtype='object')"
            ]
          },
          "metadata": {
            "tags": []
          },
          "execution_count": 5
        }
      ]
    },
    {
      "cell_type": "code",
      "metadata": {
        "id": "L0smIFnfmURB",
        "outputId": "5ae46ccf-e810-4717-889c-19ef49bc6d2b"
      },
      "source": [
        "cloth_df.drop('ImgID', inplace=True, axis=1)\n",
        "cloth_df.tail()"
      ],
      "execution_count": null,
      "outputs": [
        {
          "output_type": "execute_result",
          "data": {
            "text/html": [
              "<div>\n",
              "<style scoped>\n",
              "    .dataframe tbody tr th:only-of-type {\n",
              "        vertical-align: middle;\n",
              "    }\n",
              "\n",
              "    .dataframe tbody tr th {\n",
              "        vertical-align: top;\n",
              "    }\n",
              "\n",
              "    .dataframe thead th {\n",
              "        text-align: right;\n",
              "    }\n",
              "</style>\n",
              "<table border=\"1\" class=\"dataframe\">\n",
              "  <thead>\n",
              "    <tr style=\"text-align: right;\">\n",
              "      <th></th>\n",
              "      <th>BodySize</th>\n",
              "      <th>Complexion</th>\n",
              "      <th>Occasion</th>\n",
              "      <th>DressColor</th>\n",
              "      <th>DressDesign</th>\n",
              "      <th>Matching</th>\n",
              "    </tr>\n",
              "  </thead>\n",
              "  <tbody>\n",
              "    <tr>\n",
              "      <th>350</th>\n",
              "      <td>XL</td>\n",
              "      <td>Olive</td>\n",
              "      <td>Party</td>\n",
              "      <td>Blue&amp;White</td>\n",
              "      <td>Oxford Button-Down Shirt</td>\n",
              "      <td>N</td>\n",
              "    </tr>\n",
              "    <tr>\n",
              "      <th>351</th>\n",
              "      <td>S</td>\n",
              "      <td>Very Fair</td>\n",
              "      <td>Formal</td>\n",
              "      <td>White</td>\n",
              "      <td>Classic Short Sleeve Shirt</td>\n",
              "      <td>Y</td>\n",
              "    </tr>\n",
              "    <tr>\n",
              "      <th>352</th>\n",
              "      <td>L</td>\n",
              "      <td>Medium</td>\n",
              "      <td>Casual</td>\n",
              "      <td>Blue&amp;White</td>\n",
              "      <td>Casual Shirts</td>\n",
              "      <td>N</td>\n",
              "    </tr>\n",
              "    <tr>\n",
              "      <th>353</th>\n",
              "      <td>XL</td>\n",
              "      <td>Fair</td>\n",
              "      <td>Sports</td>\n",
              "      <td>White</td>\n",
              "      <td>Oxford Button-Down Shirt</td>\n",
              "      <td>Y</td>\n",
              "    </tr>\n",
              "    <tr>\n",
              "      <th>354</th>\n",
              "      <td>XL</td>\n",
              "      <td>Brown</td>\n",
              "      <td>Sports</td>\n",
              "      <td>Blue</td>\n",
              "      <td>Classic Short Sleeve Shirt</td>\n",
              "      <td>Y</td>\n",
              "    </tr>\n",
              "  </tbody>\n",
              "</table>\n",
              "</div>"
            ],
            "text/plain": [
              "    BodySize Complexion Occasion  DressColor                 DressDesign  \\\n",
              "350       XL      Olive    Party  Blue&White    Oxford Button-Down Shirt   \n",
              "351        S  Very Fair   Formal       White  Classic Short Sleeve Shirt   \n",
              "352        L     Medium   Casual  Blue&White               Casual Shirts   \n",
              "353       XL       Fair   Sports       White    Oxford Button-Down Shirt   \n",
              "354       XL      Brown   Sports        Blue  Classic Short Sleeve Shirt   \n",
              "\n",
              "    Matching  \n",
              "350        N  \n",
              "351        Y  \n",
              "352        N  \n",
              "353        Y  \n",
              "354        Y  "
            ]
          },
          "metadata": {
            "tags": []
          },
          "execution_count": 6
        }
      ]
    },
    {
      "cell_type": "code",
      "metadata": {
        "id": "RO9OTIYgmURB",
        "outputId": "bc2353c6-7e80-43ee-bdd4-80736e01224f"
      },
      "source": [
        "import category_encoders as ce\n",
        "dummy_match_df=pd.get_dummies(cloth_df,drop_first=True)\n",
        "dummy_match_df.head()"
      ],
      "execution_count": null,
      "outputs": [
        {
          "output_type": "stream",
          "text": [
            "C:\\Users\\lipsita\\Anaconda3\\lib\\site-packages\\statsmodels\\tools\\_testing.py:19: FutureWarning: pandas.util.testing is deprecated. Use the functions in the public API at pandas.testing instead.\n",
            "  import pandas.util.testing as tm\n"
          ],
          "name": "stderr"
        },
        {
          "output_type": "execute_result",
          "data": {
            "text/html": [
              "<div>\n",
              "<style scoped>\n",
              "    .dataframe tbody tr th:only-of-type {\n",
              "        vertical-align: middle;\n",
              "    }\n",
              "\n",
              "    .dataframe tbody tr th {\n",
              "        vertical-align: top;\n",
              "    }\n",
              "\n",
              "    .dataframe thead th {\n",
              "        text-align: right;\n",
              "    }\n",
              "</style>\n",
              "<table border=\"1\" class=\"dataframe\">\n",
              "  <thead>\n",
              "    <tr style=\"text-align: right;\">\n",
              "      <th></th>\n",
              "      <th>BodySize_M</th>\n",
              "      <th>BodySize_S</th>\n",
              "      <th>BodySize_XL</th>\n",
              "      <th>BodySize_XS</th>\n",
              "      <th>BodySize_XXL</th>\n",
              "      <th>Complexion_Dark Brown</th>\n",
              "      <th>Complexion_Fair</th>\n",
              "      <th>Complexion_Medium</th>\n",
              "      <th>Complexion_Olive</th>\n",
              "      <th>Complexion_Very Fair</th>\n",
              "      <th>...</th>\n",
              "      <th>DressDesign_Linen Shirt</th>\n",
              "      <th>DressDesign_Overshirt</th>\n",
              "      <th>DressDesign_Oxford Button-Down Shirt</th>\n",
              "      <th>DressDesign_Polo Shirt</th>\n",
              "      <th>DressDesign_Round Neck</th>\n",
              "      <th>DressDesign_Sflannel Shirt</th>\n",
              "      <th>DressDesign_Sport jacket</th>\n",
              "      <th>DressDesign_T Shirt</th>\n",
              "      <th>DressDesign_Winter Wear</th>\n",
              "      <th>Matching_Y</th>\n",
              "    </tr>\n",
              "  </thead>\n",
              "  <tbody>\n",
              "    <tr>\n",
              "      <th>0</th>\n",
              "      <td>0</td>\n",
              "      <td>0</td>\n",
              "      <td>0</td>\n",
              "      <td>0</td>\n",
              "      <td>0</td>\n",
              "      <td>0</td>\n",
              "      <td>0</td>\n",
              "      <td>0</td>\n",
              "      <td>0</td>\n",
              "      <td>1</td>\n",
              "      <td>...</td>\n",
              "      <td>0</td>\n",
              "      <td>0</td>\n",
              "      <td>0</td>\n",
              "      <td>0</td>\n",
              "      <td>0</td>\n",
              "      <td>0</td>\n",
              "      <td>0</td>\n",
              "      <td>0</td>\n",
              "      <td>0</td>\n",
              "      <td>1</td>\n",
              "    </tr>\n",
              "    <tr>\n",
              "      <th>1</th>\n",
              "      <td>0</td>\n",
              "      <td>0</td>\n",
              "      <td>1</td>\n",
              "      <td>0</td>\n",
              "      <td>0</td>\n",
              "      <td>0</td>\n",
              "      <td>1</td>\n",
              "      <td>0</td>\n",
              "      <td>0</td>\n",
              "      <td>0</td>\n",
              "      <td>...</td>\n",
              "      <td>1</td>\n",
              "      <td>0</td>\n",
              "      <td>0</td>\n",
              "      <td>0</td>\n",
              "      <td>0</td>\n",
              "      <td>0</td>\n",
              "      <td>0</td>\n",
              "      <td>0</td>\n",
              "      <td>0</td>\n",
              "      <td>0</td>\n",
              "    </tr>\n",
              "    <tr>\n",
              "      <th>2</th>\n",
              "      <td>1</td>\n",
              "      <td>0</td>\n",
              "      <td>0</td>\n",
              "      <td>0</td>\n",
              "      <td>0</td>\n",
              "      <td>0</td>\n",
              "      <td>0</td>\n",
              "      <td>1</td>\n",
              "      <td>0</td>\n",
              "      <td>0</td>\n",
              "      <td>...</td>\n",
              "      <td>0</td>\n",
              "      <td>1</td>\n",
              "      <td>0</td>\n",
              "      <td>0</td>\n",
              "      <td>0</td>\n",
              "      <td>0</td>\n",
              "      <td>0</td>\n",
              "      <td>0</td>\n",
              "      <td>0</td>\n",
              "      <td>0</td>\n",
              "    </tr>\n",
              "    <tr>\n",
              "      <th>3</th>\n",
              "      <td>1</td>\n",
              "      <td>0</td>\n",
              "      <td>0</td>\n",
              "      <td>0</td>\n",
              "      <td>0</td>\n",
              "      <td>0</td>\n",
              "      <td>0</td>\n",
              "      <td>0</td>\n",
              "      <td>0</td>\n",
              "      <td>1</td>\n",
              "      <td>...</td>\n",
              "      <td>1</td>\n",
              "      <td>0</td>\n",
              "      <td>0</td>\n",
              "      <td>0</td>\n",
              "      <td>0</td>\n",
              "      <td>0</td>\n",
              "      <td>0</td>\n",
              "      <td>0</td>\n",
              "      <td>0</td>\n",
              "      <td>1</td>\n",
              "    </tr>\n",
              "    <tr>\n",
              "      <th>4</th>\n",
              "      <td>0</td>\n",
              "      <td>1</td>\n",
              "      <td>0</td>\n",
              "      <td>0</td>\n",
              "      <td>0</td>\n",
              "      <td>0</td>\n",
              "      <td>1</td>\n",
              "      <td>0</td>\n",
              "      <td>0</td>\n",
              "      <td>0</td>\n",
              "      <td>...</td>\n",
              "      <td>0</td>\n",
              "      <td>1</td>\n",
              "      <td>0</td>\n",
              "      <td>0</td>\n",
              "      <td>0</td>\n",
              "      <td>0</td>\n",
              "      <td>0</td>\n",
              "      <td>0</td>\n",
              "      <td>0</td>\n",
              "      <td>1</td>\n",
              "    </tr>\n",
              "  </tbody>\n",
              "</table>\n",
              "<p>5 rows × 118 columns</p>\n",
              "</div>"
            ],
            "text/plain": [
              "   BodySize_M  BodySize_S  BodySize_XL  BodySize_XS  BodySize_XXL  \\\n",
              "0           0           0            0            0             0   \n",
              "1           0           0            1            0             0   \n",
              "2           1           0            0            0             0   \n",
              "3           1           0            0            0             0   \n",
              "4           0           1            0            0             0   \n",
              "\n",
              "   Complexion_Dark Brown  Complexion_Fair  Complexion_Medium  \\\n",
              "0                      0                0                  0   \n",
              "1                      0                1                  0   \n",
              "2                      0                0                  1   \n",
              "3                      0                0                  0   \n",
              "4                      0                1                  0   \n",
              "\n",
              "   Complexion_Olive  Complexion_Very Fair  ...  DressDesign_Linen Shirt  \\\n",
              "0                 0                     1  ...                        0   \n",
              "1                 0                     0  ...                        1   \n",
              "2                 0                     0  ...                        0   \n",
              "3                 0                     1  ...                        1   \n",
              "4                 0                     0  ...                        0   \n",
              "\n",
              "   DressDesign_Overshirt  DressDesign_Oxford Button-Down Shirt  \\\n",
              "0                      0                                     0   \n",
              "1                      0                                     0   \n",
              "2                      1                                     0   \n",
              "3                      0                                     0   \n",
              "4                      1                                     0   \n",
              "\n",
              "   DressDesign_Polo Shirt  DressDesign_Round Neck  DressDesign_Sflannel Shirt  \\\n",
              "0                       0                       0                           0   \n",
              "1                       0                       0                           0   \n",
              "2                       0                       0                           0   \n",
              "3                       0                       0                           0   \n",
              "4                       0                       0                           0   \n",
              "\n",
              "   DressDesign_Sport jacket  DressDesign_T Shirt  DressDesign_Winter Wear  \\\n",
              "0                         0                    0                        0   \n",
              "1                         0                    0                        0   \n",
              "2                         0                    0                        0   \n",
              "3                         0                    0                        0   \n",
              "4                         0                    0                        0   \n",
              "\n",
              "   Matching_Y  \n",
              "0           1  \n",
              "1           0  \n",
              "2           0  \n",
              "3           1  \n",
              "4           1  \n",
              "\n",
              "[5 rows x 118 columns]"
            ]
          },
          "metadata": {
            "tags": []
          },
          "execution_count": 7
        }
      ]
    },
    {
      "cell_type": "code",
      "metadata": {
        "id": "z6AM4-WdmURC"
      },
      "source": [
        "clf = svm.SVC()"
      ],
      "execution_count": null,
      "outputs": []
    },
    {
      "cell_type": "code",
      "metadata": {
        "id": "ickDxXXTmURD"
      },
      "source": [
        "X,y = np.array(dummy_match_df)[ :, 1:16], np.array(dummy_match_df.Matching_Y)[:] "
      ],
      "execution_count": null,
      "outputs": []
    },
    {
      "cell_type": "code",
      "metadata": {
        "id": "r0IjQJZhmURE",
        "outputId": "1f562827-c64b-428d-ef75-804c53d5f04c"
      },
      "source": [
        "X.shape"
      ],
      "execution_count": null,
      "outputs": [
        {
          "output_type": "execute_result",
          "data": {
            "text/plain": [
              "(355, 15)"
            ]
          },
          "metadata": {
            "tags": []
          },
          "execution_count": 10
        }
      ]
    },
    {
      "cell_type": "code",
      "metadata": {
        "id": "h0mVhskQmURF",
        "outputId": "3a35fd0a-2eed-4267-efa4-b1a2a2f98fe5"
      },
      "source": [
        "y.shape"
      ],
      "execution_count": null,
      "outputs": [
        {
          "output_type": "execute_result",
          "data": {
            "text/plain": [
              "(355,)"
            ]
          },
          "metadata": {
            "tags": []
          },
          "execution_count": 11
        }
      ]
    },
    {
      "cell_type": "code",
      "metadata": {
        "id": "wq3dWnmnmURF",
        "outputId": "29b65d4f-9739-4fd9-e814-d2969e311522"
      },
      "source": [
        "y"
      ],
      "execution_count": null,
      "outputs": [
        {
          "output_type": "execute_result",
          "data": {
            "text/plain": [
              "array([1, 0, 0, 1, 1, 1, 1, 1, 0, 1, 1, 0, 1, 0, 1, 1, 1, 1, 1, 1, 0, 1,\n",
              "       0, 1, 0, 0, 1, 1, 1, 1, 0, 1, 0, 0, 1, 1, 1, 1, 1, 0, 1, 0, 1, 0,\n",
              "       0, 1, 1, 1, 1, 1, 0, 1, 1, 1, 0, 0, 1, 1, 1, 1, 1, 1, 1, 0, 0, 1,\n",
              "       1, 1, 1, 1, 1, 1, 1, 1, 1, 1, 1, 1, 1, 0, 0, 1, 1, 0, 1, 1, 0, 0,\n",
              "       1, 0, 0, 1, 1, 1, 0, 0, 1, 1, 1, 0, 0, 0, 1, 1, 0, 0, 0, 1, 1, 1,\n",
              "       1, 0, 1, 0, 1, 0, 0, 1, 1, 0, 0, 1, 1, 0, 0, 1, 1, 0, 1, 0, 0, 0,\n",
              "       1, 0, 0, 1, 0, 1, 0, 0, 1, 1, 1, 1, 1, 1, 1, 0, 1, 0, 1, 1, 0, 1,\n",
              "       1, 1, 1, 1, 1, 0, 1, 1, 0, 1, 0, 1, 1, 1, 1, 1, 0, 1, 1, 1, 1, 1,\n",
              "       1, 0, 0, 1, 1, 1, 0, 1, 1, 0, 1, 1, 1, 1, 0, 0, 1, 1, 1, 1, 1, 0,\n",
              "       1, 1, 1, 1, 1, 1, 1, 1, 1, 1, 0, 1, 1, 1, 1, 0, 1, 1, 1, 1, 0, 0,\n",
              "       1, 1, 1, 1, 0, 1, 1, 1, 0, 0, 1, 1, 1, 1, 1, 1, 1, 0, 0, 0, 1, 1,\n",
              "       1, 1, 1, 1, 1, 1, 0, 1, 1, 1, 1, 1, 0, 0, 1, 0, 1, 1, 1, 1, 1, 1,\n",
              "       1, 1, 1, 1, 1, 1, 1, 1, 0, 1, 0, 1, 1, 1, 1, 1, 1, 0, 0, 1, 1, 0,\n",
              "       1, 1, 0, 0, 1, 0, 0, 0, 1, 0, 1, 0, 0, 0, 1, 1, 0, 0, 0, 0, 1, 0,\n",
              "       0, 1, 0, 0, 0, 1, 1, 0, 0, 0, 0, 1, 1, 1, 0, 0, 0, 1, 1, 0, 0, 0,\n",
              "       0, 1, 1, 0, 0, 0, 1, 1, 0, 1, 1, 1, 0, 0, 1, 1, 1, 0, 0, 0, 0, 1,\n",
              "       0, 1, 1], dtype=uint8)"
            ]
          },
          "metadata": {
            "tags": []
          },
          "execution_count": 12
        }
      ]
    },
    {
      "cell_type": "code",
      "metadata": {
        "id": "FmpJUJ35mURG"
      },
      "source": [
        "X_train, X_test, y_train, y_test = train_test_split(X, y, test_size=0.30, random_state=1)"
      ],
      "execution_count": null,
      "outputs": []
    },
    {
      "cell_type": "code",
      "metadata": {
        "id": "BWQaD-4HmURH",
        "outputId": "377cb749-c8db-4555-a581-b205182242dc"
      },
      "source": [
        "clf.fit(X_train , y_train)"
      ],
      "execution_count": null,
      "outputs": [
        {
          "output_type": "stream",
          "text": [
            "C:\\Users\\lipsita\\Anaconda3\\lib\\site-packages\\sklearn\\svm\\base.py:193: FutureWarning: The default value of gamma will change from 'auto' to 'scale' in version 0.22 to account better for unscaled features. Set gamma explicitly to 'auto' or 'scale' to avoid this warning.\n",
            "  \"avoid this warning.\", FutureWarning)\n"
          ],
          "name": "stderr"
        },
        {
          "output_type": "execute_result",
          "data": {
            "text/plain": [
              "SVC(C=1.0, cache_size=200, class_weight=None, coef0=0.0,\n",
              "    decision_function_shape='ovr', degree=3, gamma='auto_deprecated',\n",
              "    kernel='rbf', max_iter=-1, probability=False, random_state=None,\n",
              "    shrinking=True, tol=0.001, verbose=False)"
            ]
          },
          "metadata": {
            "tags": []
          },
          "execution_count": 14
        }
      ]
    },
    {
      "cell_type": "code",
      "metadata": {
        "id": "VJh5JYPAmURH",
        "outputId": "65e92e28-094f-4e93-d149-545472cda1ba"
      },
      "source": [
        "clf.score(X_test, y_test)"
      ],
      "execution_count": null,
      "outputs": [
        {
          "output_type": "execute_result",
          "data": {
            "text/plain": [
              "0.6915887850467289"
            ]
          },
          "metadata": {
            "tags": []
          },
          "execution_count": 15
        }
      ]
    },
    {
      "cell_type": "code",
      "metadata": {
        "id": "olXnfzAlmURI",
        "outputId": "d6c97b35-4e5f-4b9c-cb69-ece48d8ff454"
      },
      "source": [
        "y_pred = clf.predict(X_test)\n",
        "pd.crosstab(y_test, y_pred)"
      ],
      "execution_count": null,
      "outputs": [
        {
          "output_type": "execute_result",
          "data": {
            "text/html": [
              "<div>\n",
              "<style scoped>\n",
              "    .dataframe tbody tr th:only-of-type {\n",
              "        vertical-align: middle;\n",
              "    }\n",
              "\n",
              "    .dataframe tbody tr th {\n",
              "        vertical-align: top;\n",
              "    }\n",
              "\n",
              "    .dataframe thead th {\n",
              "        text-align: right;\n",
              "    }\n",
              "</style>\n",
              "<table border=\"1\" class=\"dataframe\">\n",
              "  <thead>\n",
              "    <tr style=\"text-align: right;\">\n",
              "      <th>col_0</th>\n",
              "      <th>1</th>\n",
              "    </tr>\n",
              "    <tr>\n",
              "      <th>row_0</th>\n",
              "      <th></th>\n",
              "    </tr>\n",
              "  </thead>\n",
              "  <tbody>\n",
              "    <tr>\n",
              "      <th>0</th>\n",
              "      <td>33</td>\n",
              "    </tr>\n",
              "    <tr>\n",
              "      <th>1</th>\n",
              "      <td>74</td>\n",
              "    </tr>\n",
              "  </tbody>\n",
              "</table>\n",
              "</div>"
            ],
            "text/plain": [
              "col_0   1\n",
              "row_0    \n",
              "0      33\n",
              "1      74"
            ]
          },
          "metadata": {
            "tags": []
          },
          "execution_count": 17
        }
      ]
    },
    {
      "cell_type": "code",
      "metadata": {
        "id": "SjWih0H4mURJ"
      },
      "source": [
        ""
      ],
      "execution_count": null,
      "outputs": []
    }
  ]
}