{
  "nbformat": 4,
  "nbformat_minor": 0,
  "metadata": {
    "kernelspec": {
      "display_name": "Python 3",
      "language": "python",
      "name": "python3"
    },
    "language_info": {
      "codemirror_mode": {
        "name": "ipython",
        "version": 3
      },
      "file_extension": ".py",
      "mimetype": "text/x-python",
      "name": "python",
      "nbconvert_exporter": "python",
      "pygments_lexer": "ipython3",
      "version": "3.7.3"
    },
    "colab": {
      "name": "cloth_m_top_KNN.ipynb",
      "provenance": [],
      "include_colab_link": true
    }
  },
  "cells": [
    {
      "cell_type": "markdown",
      "metadata": {
        "id": "view-in-github",
        "colab_type": "text"
      },
      "source": [
        "<a href=\"https://colab.research.google.com/github/lipsitasahu/lipsitasahu/blob/main/cloth_m_top_KNN.ipynb\" target=\"_parent\"><img src=\"https://colab.research.google.com/assets/colab-badge.svg\" alt=\"Open In Colab\"/></a>"
      ]
    },
    {
      "cell_type": "code",
      "metadata": {
        "id": "UUd-PxxKmuOQ",
        "outputId": "3fd17f3a-1378-472b-94b1-5e21b27f1202"
      },
      "source": [
        "%matplotlib inline \n",
        "import numpy as np\n",
        "import pandas as pd\n",
        "from sklearn.model_selection import train_test_split\n",
        "from sklearn.neighbors import KNeighborsClassifier\n",
        "from scipy.stats import zscore\n",
        "import seaborn as sns"
      ],
      "execution_count": null,
      "outputs": [
        {
          "output_type": "stream",
          "text": [
            "C:\\Users\\lipsita\\Anaconda3\\lib\\site-packages\\statsmodels\\tools\\_testing.py:19: FutureWarning: pandas.util.testing is deprecated. Use the functions in the public API at pandas.testing instead.\n",
            "  import pandas.util.testing as tm\n"
          ],
          "name": "stderr"
        }
      ]
    },
    {
      "cell_type": "code",
      "metadata": {
        "id": "5CfDOtPkmuOh"
      },
      "source": [
        "NNH = KNeighborsClassifier(n_neighbors= 5 , weights = 'distance' )"
      ],
      "execution_count": null,
      "outputs": []
    },
    {
      "cell_type": "code",
      "metadata": {
        "id": "K6YenGAZmuOi"
      },
      "source": [
        "bc_df = pd.read_csv(\"Dataset_m_top_final.csv\")"
      ],
      "execution_count": null,
      "outputs": []
    },
    {
      "cell_type": "code",
      "metadata": {
        "id": "bg9mUJkumuOi",
        "outputId": "03048472-43cd-4ecc-9d06-fdafd31e8f74"
      },
      "source": [
        "bc_df.head()"
      ],
      "execution_count": null,
      "outputs": [
        {
          "output_type": "execute_result",
          "data": {
            "text/html": [
              "<div>\n",
              "<style scoped>\n",
              "    .dataframe tbody tr th:only-of-type {\n",
              "        vertical-align: middle;\n",
              "    }\n",
              "\n",
              "    .dataframe tbody tr th {\n",
              "        vertical-align: top;\n",
              "    }\n",
              "\n",
              "    .dataframe thead th {\n",
              "        text-align: right;\n",
              "    }\n",
              "</style>\n",
              "<table border=\"1\" class=\"dataframe\">\n",
              "  <thead>\n",
              "    <tr style=\"text-align: right;\">\n",
              "      <th></th>\n",
              "      <th>ImgID</th>\n",
              "      <th>BodySize</th>\n",
              "      <th>Complexion</th>\n",
              "      <th>Occasion</th>\n",
              "      <th>DressColor</th>\n",
              "      <th>DressDesign</th>\n",
              "      <th>Matching</th>\n",
              "    </tr>\n",
              "  </thead>\n",
              "  <tbody>\n",
              "    <tr>\n",
              "      <th>0</th>\n",
              "      <td>photo-1492447166138-50c3889fccb1</td>\n",
              "      <td>L</td>\n",
              "      <td>Very Fair</td>\n",
              "      <td>Casual</td>\n",
              "      <td>Black&amp;White</td>\n",
              "      <td>Cuban Collar Shirt</td>\n",
              "      <td>Y</td>\n",
              "    </tr>\n",
              "    <tr>\n",
              "      <th>1</th>\n",
              "      <td>Img_4</td>\n",
              "      <td>XL</td>\n",
              "      <td>Fair</td>\n",
              "      <td>Casual</td>\n",
              "      <td>Blue&amp;White</td>\n",
              "      <td>Linen Shirt</td>\n",
              "      <td>N</td>\n",
              "    </tr>\n",
              "    <tr>\n",
              "      <th>2</th>\n",
              "      <td>image_51</td>\n",
              "      <td>M</td>\n",
              "      <td>Medium</td>\n",
              "      <td>Casual</td>\n",
              "      <td>LightBlue</td>\n",
              "      <td>Overshirt</td>\n",
              "      <td>N</td>\n",
              "    </tr>\n",
              "    <tr>\n",
              "      <th>3</th>\n",
              "      <td>image_52</td>\n",
              "      <td>M</td>\n",
              "      <td>Very Fair</td>\n",
              "      <td>Casual</td>\n",
              "      <td>Muddy Brown</td>\n",
              "      <td>Linen Shirt</td>\n",
              "      <td>Y</td>\n",
              "    </tr>\n",
              "    <tr>\n",
              "      <th>4</th>\n",
              "      <td>image_53</td>\n",
              "      <td>S</td>\n",
              "      <td>Fair</td>\n",
              "      <td>Wedding</td>\n",
              "      <td>White&amp;Pink</td>\n",
              "      <td>Overshirt</td>\n",
              "      <td>Y</td>\n",
              "    </tr>\n",
              "  </tbody>\n",
              "</table>\n",
              "</div>"
            ],
            "text/plain": [
              "                              ImgID BodySize Complexion Occasion   DressColor  \\\n",
              "0  photo-1492447166138-50c3889fccb1        L  Very Fair   Casual  Black&White   \n",
              "1                             Img_4       XL       Fair   Casual   Blue&White   \n",
              "2                          image_51        M     Medium   Casual    LightBlue   \n",
              "3                          image_52        M  Very Fair   Casual  Muddy Brown   \n",
              "4                          image_53        S       Fair  Wedding   White&Pink   \n",
              "\n",
              "          DressDesign Matching  \n",
              "0  Cuban Collar Shirt        Y  \n",
              "1         Linen Shirt        N  \n",
              "2           Overshirt        N  \n",
              "3         Linen Shirt        Y  \n",
              "4           Overshirt        Y  "
            ]
          },
          "metadata": {
            "tags": []
          },
          "execution_count": 4
        }
      ]
    },
    {
      "cell_type": "code",
      "metadata": {
        "id": "RjDQuL40muOj",
        "outputId": "4c021580-9ade-41ff-9769-21a392e8353c"
      },
      "source": [
        "bc_df.shape"
      ],
      "execution_count": null,
      "outputs": [
        {
          "output_type": "execute_result",
          "data": {
            "text/plain": [
              "(355, 7)"
            ]
          },
          "metadata": {
            "tags": []
          },
          "execution_count": 5
        }
      ]
    },
    {
      "cell_type": "code",
      "metadata": {
        "id": "MdAMJxlumuOk",
        "outputId": "4d766366-96fd-4605-93fe-be8b02b06774"
      },
      "source": [
        "bc_df.dtypes"
      ],
      "execution_count": null,
      "outputs": [
        {
          "output_type": "execute_result",
          "data": {
            "text/plain": [
              "ImgID          object\n",
              "BodySize       object\n",
              "Complexion     object\n",
              "Occasion       object\n",
              "DressColor     object\n",
              "DressDesign    object\n",
              "Matching       object\n",
              "dtype: object"
            ]
          },
          "metadata": {
            "tags": []
          },
          "execution_count": 6
        }
      ]
    },
    {
      "cell_type": "code",
      "metadata": {
        "id": "ZQc0f6FymuOk"
      },
      "source": [
        "bc_df = bc_df.drop(labels = \"ImgID\", axis = 1)"
      ],
      "execution_count": null,
      "outputs": []
    },
    {
      "cell_type": "code",
      "metadata": {
        "id": "5H48O_h3muOl",
        "outputId": "be1f3c1c-ca2b-4919-d3f9-f7c7ff009807"
      },
      "source": [
        "bc_df.tail()"
      ],
      "execution_count": null,
      "outputs": [
        {
          "output_type": "execute_result",
          "data": {
            "text/html": [
              "<div>\n",
              "<style scoped>\n",
              "    .dataframe tbody tr th:only-of-type {\n",
              "        vertical-align: middle;\n",
              "    }\n",
              "\n",
              "    .dataframe tbody tr th {\n",
              "        vertical-align: top;\n",
              "    }\n",
              "\n",
              "    .dataframe thead th {\n",
              "        text-align: right;\n",
              "    }\n",
              "</style>\n",
              "<table border=\"1\" class=\"dataframe\">\n",
              "  <thead>\n",
              "    <tr style=\"text-align: right;\">\n",
              "      <th></th>\n",
              "      <th>BodySize</th>\n",
              "      <th>Complexion</th>\n",
              "      <th>Occasion</th>\n",
              "      <th>DressColor</th>\n",
              "      <th>DressDesign</th>\n",
              "      <th>Matching</th>\n",
              "    </tr>\n",
              "  </thead>\n",
              "  <tbody>\n",
              "    <tr>\n",
              "      <th>350</th>\n",
              "      <td>XL</td>\n",
              "      <td>Olive</td>\n",
              "      <td>Party</td>\n",
              "      <td>Blue&amp;White</td>\n",
              "      <td>Oxford Button-Down Shirt</td>\n",
              "      <td>N</td>\n",
              "    </tr>\n",
              "    <tr>\n",
              "      <th>351</th>\n",
              "      <td>S</td>\n",
              "      <td>Very Fair</td>\n",
              "      <td>Formal</td>\n",
              "      <td>White</td>\n",
              "      <td>Classic Short Sleeve Shirt</td>\n",
              "      <td>Y</td>\n",
              "    </tr>\n",
              "    <tr>\n",
              "      <th>352</th>\n",
              "      <td>L</td>\n",
              "      <td>Medium</td>\n",
              "      <td>Casual</td>\n",
              "      <td>Blue&amp;White</td>\n",
              "      <td>Casual Shirts</td>\n",
              "      <td>N</td>\n",
              "    </tr>\n",
              "    <tr>\n",
              "      <th>353</th>\n",
              "      <td>XL</td>\n",
              "      <td>Fair</td>\n",
              "      <td>Sports</td>\n",
              "      <td>White</td>\n",
              "      <td>Oxford Button-Down Shirt</td>\n",
              "      <td>Y</td>\n",
              "    </tr>\n",
              "    <tr>\n",
              "      <th>354</th>\n",
              "      <td>XL</td>\n",
              "      <td>Brown</td>\n",
              "      <td>Sports</td>\n",
              "      <td>Blue</td>\n",
              "      <td>Classic Short Sleeve Shirt</td>\n",
              "      <td>Y</td>\n",
              "    </tr>\n",
              "  </tbody>\n",
              "</table>\n",
              "</div>"
            ],
            "text/plain": [
              "    BodySize Complexion Occasion  DressColor                 DressDesign  \\\n",
              "350       XL      Olive    Party  Blue&White    Oxford Button-Down Shirt   \n",
              "351        S  Very Fair   Formal       White  Classic Short Sleeve Shirt   \n",
              "352        L     Medium   Casual  Blue&White               Casual Shirts   \n",
              "353       XL       Fair   Sports       White    Oxford Button-Down Shirt   \n",
              "354       XL      Brown   Sports        Blue  Classic Short Sleeve Shirt   \n",
              "\n",
              "    Matching  \n",
              "350        N  \n",
              "351        Y  \n",
              "352        N  \n",
              "353        Y  \n",
              "354        Y  "
            ]
          },
          "metadata": {
            "tags": []
          },
          "execution_count": 8
        }
      ]
    },
    {
      "cell_type": "code",
      "metadata": {
        "id": "rWQMSYOrmuOl",
        "outputId": "1517574f-20c6-423f-ba39-d99e3a89a9bb"
      },
      "source": [
        "bc_df.shape"
      ],
      "execution_count": null,
      "outputs": [
        {
          "output_type": "execute_result",
          "data": {
            "text/plain": [
              "(355, 6)"
            ]
          },
          "metadata": {
            "tags": []
          },
          "execution_count": 9
        }
      ]
    },
    {
      "cell_type": "code",
      "metadata": {
        "id": "VIzn-B6tmuOm",
        "outputId": "07ef1f9e-c8a9-47ee-ae2e-d3607c0a3d4c"
      },
      "source": [
        "dummy_match_df=pd.get_dummies(bc_df,drop_first=True)\n",
        "dummy_match_df.head()"
      ],
      "execution_count": null,
      "outputs": [
        {
          "output_type": "execute_result",
          "data": {
            "text/html": [
              "<div>\n",
              "<style scoped>\n",
              "    .dataframe tbody tr th:only-of-type {\n",
              "        vertical-align: middle;\n",
              "    }\n",
              "\n",
              "    .dataframe tbody tr th {\n",
              "        vertical-align: top;\n",
              "    }\n",
              "\n",
              "    .dataframe thead th {\n",
              "        text-align: right;\n",
              "    }\n",
              "</style>\n",
              "<table border=\"1\" class=\"dataframe\">\n",
              "  <thead>\n",
              "    <tr style=\"text-align: right;\">\n",
              "      <th></th>\n",
              "      <th>BodySize_M</th>\n",
              "      <th>BodySize_S</th>\n",
              "      <th>BodySize_XL</th>\n",
              "      <th>BodySize_XS</th>\n",
              "      <th>BodySize_XXL</th>\n",
              "      <th>Complexion_Dark Brown</th>\n",
              "      <th>Complexion_Fair</th>\n",
              "      <th>Complexion_Medium</th>\n",
              "      <th>Complexion_Olive</th>\n",
              "      <th>Complexion_Very Fair</th>\n",
              "      <th>...</th>\n",
              "      <th>DressDesign_Linen Shirt</th>\n",
              "      <th>DressDesign_Overshirt</th>\n",
              "      <th>DressDesign_Oxford Button-Down Shirt</th>\n",
              "      <th>DressDesign_Polo Shirt</th>\n",
              "      <th>DressDesign_Round Neck</th>\n",
              "      <th>DressDesign_Sflannel Shirt</th>\n",
              "      <th>DressDesign_Sport jacket</th>\n",
              "      <th>DressDesign_T Shirt</th>\n",
              "      <th>DressDesign_Winter Wear</th>\n",
              "      <th>Matching_Y</th>\n",
              "    </tr>\n",
              "  </thead>\n",
              "  <tbody>\n",
              "    <tr>\n",
              "      <th>0</th>\n",
              "      <td>0</td>\n",
              "      <td>0</td>\n",
              "      <td>0</td>\n",
              "      <td>0</td>\n",
              "      <td>0</td>\n",
              "      <td>0</td>\n",
              "      <td>0</td>\n",
              "      <td>0</td>\n",
              "      <td>0</td>\n",
              "      <td>1</td>\n",
              "      <td>...</td>\n",
              "      <td>0</td>\n",
              "      <td>0</td>\n",
              "      <td>0</td>\n",
              "      <td>0</td>\n",
              "      <td>0</td>\n",
              "      <td>0</td>\n",
              "      <td>0</td>\n",
              "      <td>0</td>\n",
              "      <td>0</td>\n",
              "      <td>1</td>\n",
              "    </tr>\n",
              "    <tr>\n",
              "      <th>1</th>\n",
              "      <td>0</td>\n",
              "      <td>0</td>\n",
              "      <td>1</td>\n",
              "      <td>0</td>\n",
              "      <td>0</td>\n",
              "      <td>0</td>\n",
              "      <td>1</td>\n",
              "      <td>0</td>\n",
              "      <td>0</td>\n",
              "      <td>0</td>\n",
              "      <td>...</td>\n",
              "      <td>1</td>\n",
              "      <td>0</td>\n",
              "      <td>0</td>\n",
              "      <td>0</td>\n",
              "      <td>0</td>\n",
              "      <td>0</td>\n",
              "      <td>0</td>\n",
              "      <td>0</td>\n",
              "      <td>0</td>\n",
              "      <td>0</td>\n",
              "    </tr>\n",
              "    <tr>\n",
              "      <th>2</th>\n",
              "      <td>1</td>\n",
              "      <td>0</td>\n",
              "      <td>0</td>\n",
              "      <td>0</td>\n",
              "      <td>0</td>\n",
              "      <td>0</td>\n",
              "      <td>0</td>\n",
              "      <td>1</td>\n",
              "      <td>0</td>\n",
              "      <td>0</td>\n",
              "      <td>...</td>\n",
              "      <td>0</td>\n",
              "      <td>1</td>\n",
              "      <td>0</td>\n",
              "      <td>0</td>\n",
              "      <td>0</td>\n",
              "      <td>0</td>\n",
              "      <td>0</td>\n",
              "      <td>0</td>\n",
              "      <td>0</td>\n",
              "      <td>0</td>\n",
              "    </tr>\n",
              "    <tr>\n",
              "      <th>3</th>\n",
              "      <td>1</td>\n",
              "      <td>0</td>\n",
              "      <td>0</td>\n",
              "      <td>0</td>\n",
              "      <td>0</td>\n",
              "      <td>0</td>\n",
              "      <td>0</td>\n",
              "      <td>0</td>\n",
              "      <td>0</td>\n",
              "      <td>1</td>\n",
              "      <td>...</td>\n",
              "      <td>1</td>\n",
              "      <td>0</td>\n",
              "      <td>0</td>\n",
              "      <td>0</td>\n",
              "      <td>0</td>\n",
              "      <td>0</td>\n",
              "      <td>0</td>\n",
              "      <td>0</td>\n",
              "      <td>0</td>\n",
              "      <td>1</td>\n",
              "    </tr>\n",
              "    <tr>\n",
              "      <th>4</th>\n",
              "      <td>0</td>\n",
              "      <td>1</td>\n",
              "      <td>0</td>\n",
              "      <td>0</td>\n",
              "      <td>0</td>\n",
              "      <td>0</td>\n",
              "      <td>1</td>\n",
              "      <td>0</td>\n",
              "      <td>0</td>\n",
              "      <td>0</td>\n",
              "      <td>...</td>\n",
              "      <td>0</td>\n",
              "      <td>1</td>\n",
              "      <td>0</td>\n",
              "      <td>0</td>\n",
              "      <td>0</td>\n",
              "      <td>0</td>\n",
              "      <td>0</td>\n",
              "      <td>0</td>\n",
              "      <td>0</td>\n",
              "      <td>1</td>\n",
              "    </tr>\n",
              "  </tbody>\n",
              "</table>\n",
              "<p>5 rows × 118 columns</p>\n",
              "</div>"
            ],
            "text/plain": [
              "   BodySize_M  BodySize_S  BodySize_XL  BodySize_XS  BodySize_XXL  \\\n",
              "0           0           0            0            0             0   \n",
              "1           0           0            1            0             0   \n",
              "2           1           0            0            0             0   \n",
              "3           1           0            0            0             0   \n",
              "4           0           1            0            0             0   \n",
              "\n",
              "   Complexion_Dark Brown  Complexion_Fair  Complexion_Medium  \\\n",
              "0                      0                0                  0   \n",
              "1                      0                1                  0   \n",
              "2                      0                0                  1   \n",
              "3                      0                0                  0   \n",
              "4                      0                1                  0   \n",
              "\n",
              "   Complexion_Olive  Complexion_Very Fair  ...  DressDesign_Linen Shirt  \\\n",
              "0                 0                     1  ...                        0   \n",
              "1                 0                     0  ...                        1   \n",
              "2                 0                     0  ...                        0   \n",
              "3                 0                     1  ...                        1   \n",
              "4                 0                     0  ...                        0   \n",
              "\n",
              "   DressDesign_Overshirt  DressDesign_Oxford Button-Down Shirt  \\\n",
              "0                      0                                     0   \n",
              "1                      0                                     0   \n",
              "2                      1                                     0   \n",
              "3                      0                                     0   \n",
              "4                      1                                     0   \n",
              "\n",
              "   DressDesign_Polo Shirt  DressDesign_Round Neck  DressDesign_Sflannel Shirt  \\\n",
              "0                       0                       0                           0   \n",
              "1                       0                       0                           0   \n",
              "2                       0                       0                           0   \n",
              "3                       0                       0                           0   \n",
              "4                       0                       0                           0   \n",
              "\n",
              "   DressDesign_Sport jacket  DressDesign_T Shirt  DressDesign_Winter Wear  \\\n",
              "0                         0                    0                        0   \n",
              "1                         0                    0                        0   \n",
              "2                         0                    0                        0   \n",
              "3                         0                    0                        0   \n",
              "4                         0                    0                        0   \n",
              "\n",
              "   Matching_Y  \n",
              "0           1  \n",
              "1           0  \n",
              "2           0  \n",
              "3           1  \n",
              "4           1  \n",
              "\n",
              "[5 rows x 118 columns]"
            ]
          },
          "metadata": {
            "tags": []
          },
          "execution_count": 10
        }
      ]
    },
    {
      "cell_type": "code",
      "metadata": {
        "id": "PRD5QrChmuOn",
        "outputId": "b15e469b-a03f-4ae6-eaf7-b917013d2363"
      },
      "source": [
        "bc_feature_df = dummy_match_df.drop(labels= \"Matching_Y\" , axis = 1)\n",
        "bc_feature_df.head()"
      ],
      "execution_count": null,
      "outputs": [
        {
          "output_type": "execute_result",
          "data": {
            "text/html": [
              "<div>\n",
              "<style scoped>\n",
              "    .dataframe tbody tr th:only-of-type {\n",
              "        vertical-align: middle;\n",
              "    }\n",
              "\n",
              "    .dataframe tbody tr th {\n",
              "        vertical-align: top;\n",
              "    }\n",
              "\n",
              "    .dataframe thead th {\n",
              "        text-align: right;\n",
              "    }\n",
              "</style>\n",
              "<table border=\"1\" class=\"dataframe\">\n",
              "  <thead>\n",
              "    <tr style=\"text-align: right;\">\n",
              "      <th></th>\n",
              "      <th>BodySize_M</th>\n",
              "      <th>BodySize_S</th>\n",
              "      <th>BodySize_XL</th>\n",
              "      <th>BodySize_XS</th>\n",
              "      <th>BodySize_XXL</th>\n",
              "      <th>Complexion_Dark Brown</th>\n",
              "      <th>Complexion_Fair</th>\n",
              "      <th>Complexion_Medium</th>\n",
              "      <th>Complexion_Olive</th>\n",
              "      <th>Complexion_Very Fair</th>\n",
              "      <th>...</th>\n",
              "      <th>DressDesign_Kurti</th>\n",
              "      <th>DressDesign_Linen Shirt</th>\n",
              "      <th>DressDesign_Overshirt</th>\n",
              "      <th>DressDesign_Oxford Button-Down Shirt</th>\n",
              "      <th>DressDesign_Polo Shirt</th>\n",
              "      <th>DressDesign_Round Neck</th>\n",
              "      <th>DressDesign_Sflannel Shirt</th>\n",
              "      <th>DressDesign_Sport jacket</th>\n",
              "      <th>DressDesign_T Shirt</th>\n",
              "      <th>DressDesign_Winter Wear</th>\n",
              "    </tr>\n",
              "  </thead>\n",
              "  <tbody>\n",
              "    <tr>\n",
              "      <th>0</th>\n",
              "      <td>0</td>\n",
              "      <td>0</td>\n",
              "      <td>0</td>\n",
              "      <td>0</td>\n",
              "      <td>0</td>\n",
              "      <td>0</td>\n",
              "      <td>0</td>\n",
              "      <td>0</td>\n",
              "      <td>0</td>\n",
              "      <td>1</td>\n",
              "      <td>...</td>\n",
              "      <td>0</td>\n",
              "      <td>0</td>\n",
              "      <td>0</td>\n",
              "      <td>0</td>\n",
              "      <td>0</td>\n",
              "      <td>0</td>\n",
              "      <td>0</td>\n",
              "      <td>0</td>\n",
              "      <td>0</td>\n",
              "      <td>0</td>\n",
              "    </tr>\n",
              "    <tr>\n",
              "      <th>1</th>\n",
              "      <td>0</td>\n",
              "      <td>0</td>\n",
              "      <td>1</td>\n",
              "      <td>0</td>\n",
              "      <td>0</td>\n",
              "      <td>0</td>\n",
              "      <td>1</td>\n",
              "      <td>0</td>\n",
              "      <td>0</td>\n",
              "      <td>0</td>\n",
              "      <td>...</td>\n",
              "      <td>0</td>\n",
              "      <td>1</td>\n",
              "      <td>0</td>\n",
              "      <td>0</td>\n",
              "      <td>0</td>\n",
              "      <td>0</td>\n",
              "      <td>0</td>\n",
              "      <td>0</td>\n",
              "      <td>0</td>\n",
              "      <td>0</td>\n",
              "    </tr>\n",
              "    <tr>\n",
              "      <th>2</th>\n",
              "      <td>1</td>\n",
              "      <td>0</td>\n",
              "      <td>0</td>\n",
              "      <td>0</td>\n",
              "      <td>0</td>\n",
              "      <td>0</td>\n",
              "      <td>0</td>\n",
              "      <td>1</td>\n",
              "      <td>0</td>\n",
              "      <td>0</td>\n",
              "      <td>...</td>\n",
              "      <td>0</td>\n",
              "      <td>0</td>\n",
              "      <td>1</td>\n",
              "      <td>0</td>\n",
              "      <td>0</td>\n",
              "      <td>0</td>\n",
              "      <td>0</td>\n",
              "      <td>0</td>\n",
              "      <td>0</td>\n",
              "      <td>0</td>\n",
              "    </tr>\n",
              "    <tr>\n",
              "      <th>3</th>\n",
              "      <td>1</td>\n",
              "      <td>0</td>\n",
              "      <td>0</td>\n",
              "      <td>0</td>\n",
              "      <td>0</td>\n",
              "      <td>0</td>\n",
              "      <td>0</td>\n",
              "      <td>0</td>\n",
              "      <td>0</td>\n",
              "      <td>1</td>\n",
              "      <td>...</td>\n",
              "      <td>0</td>\n",
              "      <td>1</td>\n",
              "      <td>0</td>\n",
              "      <td>0</td>\n",
              "      <td>0</td>\n",
              "      <td>0</td>\n",
              "      <td>0</td>\n",
              "      <td>0</td>\n",
              "      <td>0</td>\n",
              "      <td>0</td>\n",
              "    </tr>\n",
              "    <tr>\n",
              "      <th>4</th>\n",
              "      <td>0</td>\n",
              "      <td>1</td>\n",
              "      <td>0</td>\n",
              "      <td>0</td>\n",
              "      <td>0</td>\n",
              "      <td>0</td>\n",
              "      <td>1</td>\n",
              "      <td>0</td>\n",
              "      <td>0</td>\n",
              "      <td>0</td>\n",
              "      <td>...</td>\n",
              "      <td>0</td>\n",
              "      <td>0</td>\n",
              "      <td>1</td>\n",
              "      <td>0</td>\n",
              "      <td>0</td>\n",
              "      <td>0</td>\n",
              "      <td>0</td>\n",
              "      <td>0</td>\n",
              "      <td>0</td>\n",
              "      <td>0</td>\n",
              "    </tr>\n",
              "  </tbody>\n",
              "</table>\n",
              "<p>5 rows × 117 columns</p>\n",
              "</div>"
            ],
            "text/plain": [
              "   BodySize_M  BodySize_S  BodySize_XL  BodySize_XS  BodySize_XXL  \\\n",
              "0           0           0            0            0             0   \n",
              "1           0           0            1            0             0   \n",
              "2           1           0            0            0             0   \n",
              "3           1           0            0            0             0   \n",
              "4           0           1            0            0             0   \n",
              "\n",
              "   Complexion_Dark Brown  Complexion_Fair  Complexion_Medium  \\\n",
              "0                      0                0                  0   \n",
              "1                      0                1                  0   \n",
              "2                      0                0                  1   \n",
              "3                      0                0                  0   \n",
              "4                      0                1                  0   \n",
              "\n",
              "   Complexion_Olive  Complexion_Very Fair  ...  DressDesign_Kurti  \\\n",
              "0                 0                     1  ...                  0   \n",
              "1                 0                     0  ...                  0   \n",
              "2                 0                     0  ...                  0   \n",
              "3                 0                     1  ...                  0   \n",
              "4                 0                     0  ...                  0   \n",
              "\n",
              "   DressDesign_Linen Shirt  DressDesign_Overshirt  \\\n",
              "0                        0                      0   \n",
              "1                        1                      0   \n",
              "2                        0                      1   \n",
              "3                        1                      0   \n",
              "4                        0                      1   \n",
              "\n",
              "   DressDesign_Oxford Button-Down Shirt  DressDesign_Polo Shirt  \\\n",
              "0                                     0                       0   \n",
              "1                                     0                       0   \n",
              "2                                     0                       0   \n",
              "3                                     0                       0   \n",
              "4                                     0                       0   \n",
              "\n",
              "   DressDesign_Round Neck  DressDesign_Sflannel Shirt  \\\n",
              "0                       0                           0   \n",
              "1                       0                           0   \n",
              "2                       0                           0   \n",
              "3                       0                           0   \n",
              "4                       0                           0   \n",
              "\n",
              "   DressDesign_Sport jacket  DressDesign_T Shirt  DressDesign_Winter Wear  \n",
              "0                         0                    0                        0  \n",
              "1                         0                    0                        0  \n",
              "2                         0                    0                        0  \n",
              "3                         0                    0                        0  \n",
              "4                         0                    0                        0  \n",
              "\n",
              "[5 rows x 117 columns]"
            ]
          },
          "metadata": {
            "tags": []
          },
          "execution_count": 13
        }
      ]
    },
    {
      "cell_type": "code",
      "metadata": {
        "id": "d6dkCRPMmuOn",
        "outputId": "04d4a5fe-454a-4661-fc4d-a2bbb518b8c0"
      },
      "source": [
        "bc_feature_df_z = bc_feature_df.apply(zscore)  \n",
        "bc_feature_df_z.describe()"
      ],
      "execution_count": null,
      "outputs": [
        {
          "output_type": "execute_result",
          "data": {
            "text/html": [
              "<div>\n",
              "<style scoped>\n",
              "    .dataframe tbody tr th:only-of-type {\n",
              "        vertical-align: middle;\n",
              "    }\n",
              "\n",
              "    .dataframe tbody tr th {\n",
              "        vertical-align: top;\n",
              "    }\n",
              "\n",
              "    .dataframe thead th {\n",
              "        text-align: right;\n",
              "    }\n",
              "</style>\n",
              "<table border=\"1\" class=\"dataframe\">\n",
              "  <thead>\n",
              "    <tr style=\"text-align: right;\">\n",
              "      <th></th>\n",
              "      <th>BodySize_M</th>\n",
              "      <th>BodySize_S</th>\n",
              "      <th>BodySize_XL</th>\n",
              "      <th>BodySize_XS</th>\n",
              "      <th>BodySize_XXL</th>\n",
              "      <th>Complexion_Dark Brown</th>\n",
              "      <th>Complexion_Fair</th>\n",
              "      <th>Complexion_Medium</th>\n",
              "      <th>Complexion_Olive</th>\n",
              "      <th>Complexion_Very Fair</th>\n",
              "      <th>...</th>\n",
              "      <th>DressDesign_Kurti</th>\n",
              "      <th>DressDesign_Linen Shirt</th>\n",
              "      <th>DressDesign_Overshirt</th>\n",
              "      <th>DressDesign_Oxford Button-Down Shirt</th>\n",
              "      <th>DressDesign_Polo Shirt</th>\n",
              "      <th>DressDesign_Round Neck</th>\n",
              "      <th>DressDesign_Sflannel Shirt</th>\n",
              "      <th>DressDesign_Sport jacket</th>\n",
              "      <th>DressDesign_T Shirt</th>\n",
              "      <th>DressDesign_Winter Wear</th>\n",
              "    </tr>\n",
              "  </thead>\n",
              "  <tbody>\n",
              "    <tr>\n",
              "      <th>count</th>\n",
              "      <td>355.000000</td>\n",
              "      <td>3.550000e+02</td>\n",
              "      <td>3.550000e+02</td>\n",
              "      <td>3.550000e+02</td>\n",
              "      <td>3.550000e+02</td>\n",
              "      <td>3.550000e+02</td>\n",
              "      <td>3.550000e+02</td>\n",
              "      <td>3.550000e+02</td>\n",
              "      <td>3.550000e+02</td>\n",
              "      <td>3.550000e+02</td>\n",
              "      <td>...</td>\n",
              "      <td>3.550000e+02</td>\n",
              "      <td>3.550000e+02</td>\n",
              "      <td>3.550000e+02</td>\n",
              "      <td>3.550000e+02</td>\n",
              "      <td>3.550000e+02</td>\n",
              "      <td>3.550000e+02</td>\n",
              "      <td>3.550000e+02</td>\n",
              "      <td>3.550000e+02</td>\n",
              "      <td>3.550000e+02</td>\n",
              "      <td>3.550000e+02</td>\n",
              "    </tr>\n",
              "    <tr>\n",
              "      <th>mean</th>\n",
              "      <td>0.000000</td>\n",
              "      <td>-4.220411e-16</td>\n",
              "      <td>-4.065605e-16</td>\n",
              "      <td>1.932335e-16</td>\n",
              "      <td>1.413580e-16</td>\n",
              "      <td>2.464382e-16</td>\n",
              "      <td>7.787198e-17</td>\n",
              "      <td>-3.096115e-17</td>\n",
              "      <td>-4.159427e-17</td>\n",
              "      <td>-5.254013e-17</td>\n",
              "      <td>...</td>\n",
              "      <td>-4.630099e-16</td>\n",
              "      <td>-2.336159e-16</td>\n",
              "      <td>-4.053878e-16</td>\n",
              "      <td>-5.414292e-16</td>\n",
              "      <td>-2.964765e-16</td>\n",
              "      <td>1.569167e-16</td>\n",
              "      <td>1.619596e-16</td>\n",
              "      <td>-1.462054e-16</td>\n",
              "      <td>-7.451004e-17</td>\n",
              "      <td>-1.635624e-16</td>\n",
              "    </tr>\n",
              "    <tr>\n",
              "      <th>std</th>\n",
              "      <td>1.001411</td>\n",
              "      <td>1.001411e+00</td>\n",
              "      <td>1.001411e+00</td>\n",
              "      <td>1.001411e+00</td>\n",
              "      <td>1.001411e+00</td>\n",
              "      <td>1.001411e+00</td>\n",
              "      <td>1.001411e+00</td>\n",
              "      <td>1.001411e+00</td>\n",
              "      <td>1.001411e+00</td>\n",
              "      <td>1.001411e+00</td>\n",
              "      <td>...</td>\n",
              "      <td>1.001411e+00</td>\n",
              "      <td>1.001411e+00</td>\n",
              "      <td>1.001411e+00</td>\n",
              "      <td>1.001411e+00</td>\n",
              "      <td>1.001411e+00</td>\n",
              "      <td>1.001411e+00</td>\n",
              "      <td>1.001411e+00</td>\n",
              "      <td>1.001411e+00</td>\n",
              "      <td>1.001411e+00</td>\n",
              "      <td>1.001411e+00</td>\n",
              "    </tr>\n",
              "    <tr>\n",
              "      <th>min</th>\n",
              "      <td>-0.500000</td>\n",
              "      <td>-2.172502e-01</td>\n",
              "      <td>-8.753109e-01</td>\n",
              "      <td>-5.314940e-02</td>\n",
              "      <td>-3.613492e-01</td>\n",
              "      <td>-2.632054e-01</td>\n",
              "      <td>-6.001277e-01</td>\n",
              "      <td>-4.464575e-01</td>\n",
              "      <td>-4.189232e-01</td>\n",
              "      <td>-4.734321e-01</td>\n",
              "      <td>...</td>\n",
              "      <td>-2.311114e-01</td>\n",
              "      <td>-4.911810e-01</td>\n",
              "      <td>-1.195229e-01</td>\n",
              "      <td>-2.443389e-01</td>\n",
              "      <td>-3.663131e-01</td>\n",
              "      <td>-5.314940e-02</td>\n",
              "      <td>-5.314940e-02</td>\n",
              "      <td>-1.612810e-01</td>\n",
              "      <td>-1.067521e-01</td>\n",
              "      <td>-7.527099e-02</td>\n",
              "    </tr>\n",
              "    <tr>\n",
              "      <th>25%</th>\n",
              "      <td>-0.500000</td>\n",
              "      <td>-2.172502e-01</td>\n",
              "      <td>-8.753109e-01</td>\n",
              "      <td>-5.314940e-02</td>\n",
              "      <td>-3.613492e-01</td>\n",
              "      <td>-2.632054e-01</td>\n",
              "      <td>-6.001277e-01</td>\n",
              "      <td>-4.464575e-01</td>\n",
              "      <td>-4.189232e-01</td>\n",
              "      <td>-4.734321e-01</td>\n",
              "      <td>...</td>\n",
              "      <td>-2.311114e-01</td>\n",
              "      <td>-4.911810e-01</td>\n",
              "      <td>-1.195229e-01</td>\n",
              "      <td>-2.443389e-01</td>\n",
              "      <td>-3.663131e-01</td>\n",
              "      <td>-5.314940e-02</td>\n",
              "      <td>-5.314940e-02</td>\n",
              "      <td>-1.612810e-01</td>\n",
              "      <td>-1.067521e-01</td>\n",
              "      <td>-7.527099e-02</td>\n",
              "    </tr>\n",
              "    <tr>\n",
              "      <th>50%</th>\n",
              "      <td>-0.500000</td>\n",
              "      <td>-2.172502e-01</td>\n",
              "      <td>-8.753109e-01</td>\n",
              "      <td>-5.314940e-02</td>\n",
              "      <td>-3.613492e-01</td>\n",
              "      <td>-2.632054e-01</td>\n",
              "      <td>-6.001277e-01</td>\n",
              "      <td>-4.464575e-01</td>\n",
              "      <td>-4.189232e-01</td>\n",
              "      <td>-4.734321e-01</td>\n",
              "      <td>...</td>\n",
              "      <td>-2.311114e-01</td>\n",
              "      <td>-4.911810e-01</td>\n",
              "      <td>-1.195229e-01</td>\n",
              "      <td>-2.443389e-01</td>\n",
              "      <td>-3.663131e-01</td>\n",
              "      <td>-5.314940e-02</td>\n",
              "      <td>-5.314940e-02</td>\n",
              "      <td>-1.612810e-01</td>\n",
              "      <td>-1.067521e-01</td>\n",
              "      <td>-7.527099e-02</td>\n",
              "    </tr>\n",
              "    <tr>\n",
              "      <th>75%</th>\n",
              "      <td>-0.500000</td>\n",
              "      <td>-2.172502e-01</td>\n",
              "      <td>1.142451e+00</td>\n",
              "      <td>-5.314940e-02</td>\n",
              "      <td>-3.613492e-01</td>\n",
              "      <td>-2.632054e-01</td>\n",
              "      <td>1.666312e+00</td>\n",
              "      <td>-4.464575e-01</td>\n",
              "      <td>-4.189232e-01</td>\n",
              "      <td>-4.734321e-01</td>\n",
              "      <td>...</td>\n",
              "      <td>-2.311114e-01</td>\n",
              "      <td>-4.911810e-01</td>\n",
              "      <td>-1.195229e-01</td>\n",
              "      <td>-2.443389e-01</td>\n",
              "      <td>-3.663131e-01</td>\n",
              "      <td>-5.314940e-02</td>\n",
              "      <td>-5.314940e-02</td>\n",
              "      <td>-1.612810e-01</td>\n",
              "      <td>-1.067521e-01</td>\n",
              "      <td>-7.527099e-02</td>\n",
              "    </tr>\n",
              "    <tr>\n",
              "      <th>max</th>\n",
              "      <td>2.000000</td>\n",
              "      <td>4.602988e+00</td>\n",
              "      <td>1.142451e+00</td>\n",
              "      <td>1.881489e+01</td>\n",
              "      <td>2.767406e+00</td>\n",
              "      <td>3.799313e+00</td>\n",
              "      <td>1.666312e+00</td>\n",
              "      <td>2.239855e+00</td>\n",
              "      <td>2.387072e+00</td>\n",
              "      <td>2.112235e+00</td>\n",
              "      <td>...</td>\n",
              "      <td>4.326918e+00</td>\n",
              "      <td>2.035910e+00</td>\n",
              "      <td>8.366600e+00</td>\n",
              "      <td>4.092676e+00</td>\n",
              "      <td>2.729905e+00</td>\n",
              "      <td>1.881489e+01</td>\n",
              "      <td>1.881489e+01</td>\n",
              "      <td>6.200358e+00</td>\n",
              "      <td>9.367497e+00</td>\n",
              "      <td>1.328533e+01</td>\n",
              "    </tr>\n",
              "  </tbody>\n",
              "</table>\n",
              "<p>8 rows × 117 columns</p>\n",
              "</div>"
            ],
            "text/plain": [
              "       BodySize_M    BodySize_S   BodySize_XL   BodySize_XS  BodySize_XXL  \\\n",
              "count  355.000000  3.550000e+02  3.550000e+02  3.550000e+02  3.550000e+02   \n",
              "mean     0.000000 -4.220411e-16 -4.065605e-16  1.932335e-16  1.413580e-16   \n",
              "std      1.001411  1.001411e+00  1.001411e+00  1.001411e+00  1.001411e+00   \n",
              "min     -0.500000 -2.172502e-01 -8.753109e-01 -5.314940e-02 -3.613492e-01   \n",
              "25%     -0.500000 -2.172502e-01 -8.753109e-01 -5.314940e-02 -3.613492e-01   \n",
              "50%     -0.500000 -2.172502e-01 -8.753109e-01 -5.314940e-02 -3.613492e-01   \n",
              "75%     -0.500000 -2.172502e-01  1.142451e+00 -5.314940e-02 -3.613492e-01   \n",
              "max      2.000000  4.602988e+00  1.142451e+00  1.881489e+01  2.767406e+00   \n",
              "\n",
              "       Complexion_Dark Brown  Complexion_Fair  Complexion_Medium  \\\n",
              "count           3.550000e+02     3.550000e+02       3.550000e+02   \n",
              "mean            2.464382e-16     7.787198e-17      -3.096115e-17   \n",
              "std             1.001411e+00     1.001411e+00       1.001411e+00   \n",
              "min            -2.632054e-01    -6.001277e-01      -4.464575e-01   \n",
              "25%            -2.632054e-01    -6.001277e-01      -4.464575e-01   \n",
              "50%            -2.632054e-01    -6.001277e-01      -4.464575e-01   \n",
              "75%            -2.632054e-01     1.666312e+00      -4.464575e-01   \n",
              "max             3.799313e+00     1.666312e+00       2.239855e+00   \n",
              "\n",
              "       Complexion_Olive  Complexion_Very Fair  ...  DressDesign_Kurti  \\\n",
              "count      3.550000e+02          3.550000e+02  ...       3.550000e+02   \n",
              "mean      -4.159427e-17         -5.254013e-17  ...      -4.630099e-16   \n",
              "std        1.001411e+00          1.001411e+00  ...       1.001411e+00   \n",
              "min       -4.189232e-01         -4.734321e-01  ...      -2.311114e-01   \n",
              "25%       -4.189232e-01         -4.734321e-01  ...      -2.311114e-01   \n",
              "50%       -4.189232e-01         -4.734321e-01  ...      -2.311114e-01   \n",
              "75%       -4.189232e-01         -4.734321e-01  ...      -2.311114e-01   \n",
              "max        2.387072e+00          2.112235e+00  ...       4.326918e+00   \n",
              "\n",
              "       DressDesign_Linen Shirt  DressDesign_Overshirt  \\\n",
              "count             3.550000e+02           3.550000e+02   \n",
              "mean             -2.336159e-16          -4.053878e-16   \n",
              "std               1.001411e+00           1.001411e+00   \n",
              "min              -4.911810e-01          -1.195229e-01   \n",
              "25%              -4.911810e-01          -1.195229e-01   \n",
              "50%              -4.911810e-01          -1.195229e-01   \n",
              "75%              -4.911810e-01          -1.195229e-01   \n",
              "max               2.035910e+00           8.366600e+00   \n",
              "\n",
              "       DressDesign_Oxford Button-Down Shirt  DressDesign_Polo Shirt  \\\n",
              "count                          3.550000e+02            3.550000e+02   \n",
              "mean                          -5.414292e-16           -2.964765e-16   \n",
              "std                            1.001411e+00            1.001411e+00   \n",
              "min                           -2.443389e-01           -3.663131e-01   \n",
              "25%                           -2.443389e-01           -3.663131e-01   \n",
              "50%                           -2.443389e-01           -3.663131e-01   \n",
              "75%                           -2.443389e-01           -3.663131e-01   \n",
              "max                            4.092676e+00            2.729905e+00   \n",
              "\n",
              "       DressDesign_Round Neck  DressDesign_Sflannel Shirt  \\\n",
              "count            3.550000e+02                3.550000e+02   \n",
              "mean             1.569167e-16                1.619596e-16   \n",
              "std              1.001411e+00                1.001411e+00   \n",
              "min             -5.314940e-02               -5.314940e-02   \n",
              "25%             -5.314940e-02               -5.314940e-02   \n",
              "50%             -5.314940e-02               -5.314940e-02   \n",
              "75%             -5.314940e-02               -5.314940e-02   \n",
              "max              1.881489e+01                1.881489e+01   \n",
              "\n",
              "       DressDesign_Sport jacket  DressDesign_T Shirt  DressDesign_Winter Wear  \n",
              "count              3.550000e+02         3.550000e+02             3.550000e+02  \n",
              "mean              -1.462054e-16        -7.451004e-17            -1.635624e-16  \n",
              "std                1.001411e+00         1.001411e+00             1.001411e+00  \n",
              "min               -1.612810e-01        -1.067521e-01            -7.527099e-02  \n",
              "25%               -1.612810e-01        -1.067521e-01            -7.527099e-02  \n",
              "50%               -1.612810e-01        -1.067521e-01            -7.527099e-02  \n",
              "75%               -1.612810e-01        -1.067521e-01            -7.527099e-02  \n",
              "max                6.200358e+00         9.367497e+00             1.328533e+01  \n",
              "\n",
              "[8 rows x 117 columns]"
            ]
          },
          "metadata": {
            "tags": []
          },
          "execution_count": 14
        }
      ]
    },
    {
      "cell_type": "code",
      "metadata": {
        "id": "WLkukgm2muOo"
      },
      "source": [
        "bc_labels = dummy_match_df[\"Matching_Y\"]"
      ],
      "execution_count": null,
      "outputs": []
    },
    {
      "cell_type": "code",
      "metadata": {
        "id": "s6MfuzOJmuOo",
        "outputId": "2d811ffa-1975-49e0-8d92-0345d71635e4"
      },
      "source": [
        "X = np.array(bc_feature_df_z)\n",
        "X.shape"
      ],
      "execution_count": null,
      "outputs": [
        {
          "output_type": "execute_result",
          "data": {
            "text/plain": [
              "(355, 117)"
            ]
          },
          "metadata": {
            "tags": []
          },
          "execution_count": 17
        }
      ]
    },
    {
      "cell_type": "code",
      "metadata": {
        "id": "LdQb63V4muOp",
        "outputId": "33b0b6d8-37ea-4910-d4d7-862083d280ba"
      },
      "source": [
        "y = np.array(bc_labels)\n",
        "y.shape"
      ],
      "execution_count": null,
      "outputs": [
        {
          "output_type": "execute_result",
          "data": {
            "text/plain": [
              "(355,)"
            ]
          },
          "metadata": {
            "tags": []
          },
          "execution_count": 18
        }
      ]
    },
    {
      "cell_type": "code",
      "metadata": {
        "id": "po6Q2xCPmuOq"
      },
      "source": [
        "X_train, X_test, y_train, y_test = train_test_split(X, y, test_size=0.30, random_state=1)"
      ],
      "execution_count": null,
      "outputs": []
    },
    {
      "cell_type": "code",
      "metadata": {
        "id": "uDhZVLB9muOr",
        "outputId": "aa251802-b46f-41eb-869e-16f17bf9bac1"
      },
      "source": [
        "NNH.fit(X_train, y_train)"
      ],
      "execution_count": null,
      "outputs": [
        {
          "output_type": "execute_result",
          "data": {
            "text/plain": [
              "KNeighborsClassifier(algorithm='auto', leaf_size=30, metric='minkowski',\n",
              "                     metric_params=None, n_jobs=None, n_neighbors=5, p=2,\n",
              "                     weights='distance')"
            ]
          },
          "metadata": {
            "tags": []
          },
          "execution_count": 20
        }
      ]
    },
    {
      "cell_type": "code",
      "metadata": {
        "id": "LypPLZKYmuOs",
        "outputId": "f63030b1-a5b6-4165-b66e-7cbfc10eef1d"
      },
      "source": [
        "predicted_labels = NNH.predict(X_test)\n",
        "NNH.score(X_test, y_test)"
      ],
      "execution_count": null,
      "outputs": [
        {
          "output_type": "execute_result",
          "data": {
            "text/plain": [
              "0.6074766355140186"
            ]
          },
          "metadata": {
            "tags": []
          },
          "execution_count": 21
        }
      ]
    },
    {
      "cell_type": "code",
      "metadata": {
        "id": "JSnRiigwmuOt",
        "outputId": "0f649c5d-6cfb-439b-f49b-204b624841ab"
      },
      "source": [
        "from sklearn import metrics\n",
        "print(metrics.confusion_matrix(y_test, predicted_labels))"
      ],
      "execution_count": null,
      "outputs": [
        {
          "output_type": "stream",
          "text": [
            "[[11 22]\n",
            " [20 54]]\n"
          ],
          "name": "stdout"
        }
      ]
    },
    {
      "cell_type": "code",
      "metadata": {
        "id": "OZBxmZbcmuOu"
      },
      "source": [
        ""
      ],
      "execution_count": null,
      "outputs": []
    }
  ]
}