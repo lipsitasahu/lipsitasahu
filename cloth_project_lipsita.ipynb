{
  "nbformat": 4,
  "nbformat_minor": 0,
  "metadata": {
    "kernelspec": {
      "display_name": "Python 3",
      "language": "python",
      "name": "python3"
    },
    "language_info": {
      "codemirror_mode": {
        "name": "ipython",
        "version": 3
      },
      "file_extension": ".py",
      "mimetype": "text/x-python",
      "name": "python",
      "nbconvert_exporter": "python",
      "pygments_lexer": "ipython3",
      "version": "3.7.3"
    },
    "colab": {
      "name": "cloth-Copy1.ipynb",
      "provenance": [],
      "include_colab_link": true
    }
  },
  "cells": [
    {
      "cell_type": "markdown",
      "metadata": {
        "id": "view-in-github",
        "colab_type": "text"
      },
      "source": [
        "<a href=\"https://colab.research.google.com/github/lipsitasahu/lipsitasahu/blob/main/cloth_project_lipsita.ipynb\" target=\"_parent\"><img src=\"https://colab.research.google.com/assets/colab-badge.svg\" alt=\"Open In Colab\"/></a>"
      ]
    },
    {
      "cell_type": "code",
      "metadata": {
        "id": "4J47iYEVFJfQ",
        "outputId": "e41b5735-aadd-41c1-ab6b-e2c96df908ef"
      },
      "source": [
        "import pandas as pd\n",
        "import numpy as np\n",
        "from sklearn.linear_model import LogisticRegression\n",
        "import matplotlib.pyplot as plt   \n",
        "import seaborn as sns\n",
        "from sklearn.model_selection import train_test_split\n",
        "from sklearn.linear_model import LinearRegression\n",
        "from sklearn import metrics\n",
        "%matplotlib inline "
      ],
      "execution_count": null,
      "outputs": [
        {
          "output_type": "stream",
          "text": [
            "C:\\Users\\lipsita\\Anaconda3\\lib\\site-packages\\statsmodels\\tools\\_testing.py:19: FutureWarning: pandas.util.testing is deprecated. Use the functions in the public API at pandas.testing instead.\n",
            "  import pandas.util.testing as tm\n"
          ],
          "name": "stderr"
        }
      ]
    },
    {
      "cell_type": "code",
      "metadata": {
        "id": "-s9aoshLFJfU"
      },
      "source": [
        "cloth_df=pd.read_csv(\"clothdataset.csv\")"
      ],
      "execution_count": null,
      "outputs": []
    },
    {
      "cell_type": "code",
      "metadata": {
        "id": "_guAFdbXFJfV",
        "outputId": "27c6ba39-18a7-4483-fe9b-1af39176c8ab"
      },
      "source": [
        "cloth_df.head()"
      ],
      "execution_count": null,
      "outputs": [
        {
          "output_type": "execute_result",
          "data": {
            "text/html": [
              "<div>\n",
              "<style scoped>\n",
              "    .dataframe tbody tr th:only-of-type {\n",
              "        vertical-align: middle;\n",
              "    }\n",
              "\n",
              "    .dataframe tbody tr th {\n",
              "        vertical-align: top;\n",
              "    }\n",
              "\n",
              "    .dataframe thead th {\n",
              "        text-align: right;\n",
              "    }\n",
              "</style>\n",
              "<table border=\"1\" class=\"dataframe\">\n",
              "  <thead>\n",
              "    <tr style=\"text-align: right;\">\n",
              "      <th></th>\n",
              "      <th>ImgID</th>\n",
              "      <th>BodySize</th>\n",
              "      <th>WaistSize</th>\n",
              "      <th>Gender</th>\n",
              "      <th>Complexion</th>\n",
              "      <th>Occasion</th>\n",
              "      <th>DressColor</th>\n",
              "      <th>DressColor2</th>\n",
              "      <th>DressSize</th>\n",
              "      <th>DressDesign</th>\n",
              "      <th>DressCategory</th>\n",
              "      <th>Matching Percentage</th>\n",
              "      <th>Matching</th>\n",
              "    </tr>\n",
              "  </thead>\n",
              "  <tbody>\n",
              "    <tr>\n",
              "      <th>0</th>\n",
              "      <td>1_512</td>\n",
              "      <td>M</td>\n",
              "      <td>32</td>\n",
              "      <td>F</td>\n",
              "      <td>Asian</td>\n",
              "      <td>Party</td>\n",
              "      <td>Orange</td>\n",
              "      <td>None</td>\n",
              "      <td>M</td>\n",
              "      <td>Half Sleeve</td>\n",
              "      <td>Ethinic</td>\n",
              "      <td>40</td>\n",
              "      <td>N</td>\n",
              "    </tr>\n",
              "    <tr>\n",
              "      <th>1</th>\n",
              "      <td>11-catalog</td>\n",
              "      <td>XL</td>\n",
              "      <td>40</td>\n",
              "      <td>M</td>\n",
              "      <td>Asian</td>\n",
              "      <td>Party</td>\n",
              "      <td>Blue</td>\n",
              "      <td>None</td>\n",
              "      <td>XL</td>\n",
              "      <td>Full Sleeve</td>\n",
              "      <td>Ethinic</td>\n",
              "      <td>86</td>\n",
              "      <td>Y</td>\n",
              "    </tr>\n",
              "    <tr>\n",
              "      <th>2</th>\n",
              "      <td>1613117687_1_JNX-ARDHNA-RIWAZ1-1008</td>\n",
              "      <td>M</td>\n",
              "      <td>32</td>\n",
              "      <td>F</td>\n",
              "      <td>Asian</td>\n",
              "      <td>Party</td>\n",
              "      <td>Red</td>\n",
              "      <td>None</td>\n",
              "      <td>M</td>\n",
              "      <td>Half Sleeve</td>\n",
              "      <td>Ethinic</td>\n",
              "      <td>6</td>\n",
              "      <td>N</td>\n",
              "    </tr>\n",
              "    <tr>\n",
              "      <th>3</th>\n",
              "      <td>1613827564_1_RAJT-6824-RED_-PEACHMODE</td>\n",
              "      <td>M</td>\n",
              "      <td>32</td>\n",
              "      <td>F</td>\n",
              "      <td>Asian</td>\n",
              "      <td>Party</td>\n",
              "      <td>Red</td>\n",
              "      <td>None</td>\n",
              "      <td>M</td>\n",
              "      <td>Full Sleeve</td>\n",
              "      <td>Ethinic</td>\n",
              "      <td>68</td>\n",
              "      <td>Y</td>\n",
              "    </tr>\n",
              "    <tr>\n",
              "      <th>4</th>\n",
              "      <td>182gw01-5934bk191</td>\n",
              "      <td>M</td>\n",
              "      <td>32</td>\n",
              "      <td>F</td>\n",
              "      <td>Asian</td>\n",
              "      <td>Party</td>\n",
              "      <td>Golden</td>\n",
              "      <td>None</td>\n",
              "      <td>M</td>\n",
              "      <td>Half Sleeve</td>\n",
              "      <td>Ethinic</td>\n",
              "      <td>80</td>\n",
              "      <td>Y</td>\n",
              "    </tr>\n",
              "  </tbody>\n",
              "</table>\n",
              "</div>"
            ],
            "text/plain": [
              "                                   ImgID BodySize  WaistSize Gender  \\\n",
              "0                                  1_512        M         32      F   \n",
              "1                             11-catalog       XL         40      M   \n",
              "2    1613117687_1_JNX-ARDHNA-RIWAZ1-1008        M         32      F   \n",
              "3  1613827564_1_RAJT-6824-RED_-PEACHMODE        M         32      F   \n",
              "4                      182gw01-5934bk191        M         32      F   \n",
              "\n",
              "  Complexion Occasion DressColor DressColor2 DressSize  DressDesign  \\\n",
              "0      Asian    Party     Orange        None         M  Half Sleeve   \n",
              "1      Asian    Party       Blue        None        XL  Full Sleeve   \n",
              "2      Asian    Party        Red        None         M  Half Sleeve   \n",
              "3      Asian    Party        Red        None         M  Full Sleeve   \n",
              "4      Asian    Party     Golden        None         M  Half Sleeve   \n",
              "\n",
              "  DressCategory  Matching Percentage Matching  \n",
              "0      Ethinic                    40        N  \n",
              "1      Ethinic                    86        Y  \n",
              "2      Ethinic                     6        N  \n",
              "3      Ethinic                    68        Y  \n",
              "4      Ethinic                    80        Y  "
            ]
          },
          "metadata": {
            "tags": []
          },
          "execution_count": 3
        }
      ]
    },
    {
      "cell_type": "code",
      "metadata": {
        "id": "QuDZkO7HFJfW",
        "outputId": "839e6bc1-2594-42f0-d1c5-b2151a1dca5e"
      },
      "source": [
        "cloth_df.iloc[12:13]"
      ],
      "execution_count": null,
      "outputs": [
        {
          "output_type": "execute_result",
          "data": {
            "text/html": [
              "<div>\n",
              "<style scoped>\n",
              "    .dataframe tbody tr th:only-of-type {\n",
              "        vertical-align: middle;\n",
              "    }\n",
              "\n",
              "    .dataframe tbody tr th {\n",
              "        vertical-align: top;\n",
              "    }\n",
              "\n",
              "    .dataframe thead th {\n",
              "        text-align: right;\n",
              "    }\n",
              "</style>\n",
              "<table border=\"1\" class=\"dataframe\">\n",
              "  <thead>\n",
              "    <tr style=\"text-align: right;\">\n",
              "      <th></th>\n",
              "      <th>ImgID</th>\n",
              "      <th>BodySize</th>\n",
              "      <th>WaistSize</th>\n",
              "      <th>Gender</th>\n",
              "      <th>Complexion</th>\n",
              "      <th>Occasion</th>\n",
              "      <th>DressColor</th>\n",
              "      <th>DressColor2</th>\n",
              "      <th>DressSize</th>\n",
              "      <th>DressDesign</th>\n",
              "      <th>DressCategory</th>\n",
              "      <th>Matching Percentage</th>\n",
              "      <th>Matching</th>\n",
              "    </tr>\n",
              "  </thead>\n",
              "  <tbody>\n",
              "    <tr>\n",
              "      <th>12</th>\n",
              "      <td>502793f6035b09a01561bcf231817d24</td>\n",
              "      <td>M</td>\n",
              "      <td>34</td>\n",
              "      <td>M</td>\n",
              "      <td>White</td>\n",
              "      <td>Casual</td>\n",
              "      <td>Black</td>\n",
              "      <td>None</td>\n",
              "      <td>M</td>\n",
              "      <td>Half Sleeve</td>\n",
              "      <td>Western</td>\n",
              "      <td>59</td>\n",
              "      <td>N</td>\n",
              "    </tr>\n",
              "  </tbody>\n",
              "</table>\n",
              "</div>"
            ],
            "text/plain": [
              "                               ImgID BodySize  WaistSize Gender Complexion  \\\n",
              "12  502793f6035b09a01561bcf231817d24        M         34      M      White   \n",
              "\n",
              "   Occasion DressColor DressColor2 DressSize  DressDesign DressCategory  \\\n",
              "12   Casual      Black        None         M  Half Sleeve       Western   \n",
              "\n",
              "    Matching Percentage Matching  \n",
              "12                   59        N  "
            ]
          },
          "metadata": {
            "tags": []
          },
          "execution_count": 4
        }
      ]
    },
    {
      "cell_type": "code",
      "metadata": {
        "id": "7pOMwzKvFJfX",
        "outputId": "bcc481dd-47bc-49ed-805d-226e1800179e"
      },
      "source": [
        "cloth_df.shape"
      ],
      "execution_count": null,
      "outputs": [
        {
          "output_type": "execute_result",
          "data": {
            "text/plain": [
              "(111, 13)"
            ]
          },
          "metadata": {
            "tags": []
          },
          "execution_count": 5
        }
      ]
    },
    {
      "cell_type": "code",
      "metadata": {
        "id": "VCGFXMHRFJfY",
        "outputId": "675a6d9e-34f7-467b-d7fd-fe9042da7668"
      },
      "source": [
        "cloth_df.info()"
      ],
      "execution_count": null,
      "outputs": [
        {
          "output_type": "stream",
          "text": [
            "<class 'pandas.core.frame.DataFrame'>\n",
            "RangeIndex: 111 entries, 0 to 110\n",
            "Data columns (total 13 columns):\n",
            " #   Column               Non-Null Count  Dtype \n",
            "---  ------               --------------  ----- \n",
            " 0   ImgID                111 non-null    object\n",
            " 1   BodySize             111 non-null    object\n",
            " 2   WaistSize            111 non-null    int64 \n",
            " 3   Gender               111 non-null    object\n",
            " 4   Complexion           111 non-null    object\n",
            " 5   Occasion             111 non-null    object\n",
            " 6   DressColor           111 non-null    object\n",
            " 7   DressColor2          111 non-null    object\n",
            " 8   DressSize            111 non-null    object\n",
            " 9   DressDesign          111 non-null    object\n",
            " 10  DressCategory        111 non-null    object\n",
            " 11  Matching Percentage  111 non-null    int64 \n",
            " 12  Matching             111 non-null    object\n",
            "dtypes: int64(2), object(11)\n",
            "memory usage: 11.4+ KB\n"
          ],
          "name": "stdout"
        }
      ]
    },
    {
      "cell_type": "code",
      "metadata": {
        "id": "zxZ2-CfnFJfZ",
        "outputId": "f9fccb12-481d-47da-aa79-d17c170e5de1"
      },
      "source": [
        "cloth_df.columns"
      ],
      "execution_count": null,
      "outputs": [
        {
          "output_type": "execute_result",
          "data": {
            "text/plain": [
              "Index(['ImgID', 'BodySize', 'WaistSize', 'Gender', 'Complexion', 'Occasion',\n",
              "       'DressColor', 'DressColor2', 'DressSize', 'DressDesign',\n",
              "       'DressCategory', 'Matching Percentage', 'Matching'],\n",
              "      dtype='object')"
            ]
          },
          "metadata": {
            "tags": []
          },
          "execution_count": 7
        }
      ]
    },
    {
      "cell_type": "code",
      "metadata": {
        "id": "d8etLPQwFJfa"
      },
      "source": [
        "cloth_df.drop('ImgID', inplace=True, axis=1)"
      ],
      "execution_count": null,
      "outputs": []
    },
    {
      "cell_type": "code",
      "metadata": {
        "id": "KfRqzZkkFJfb"
      },
      "source": [
        "cloth_df.drop('Matching Percentage', inplace=True, axis=1)"
      ],
      "execution_count": null,
      "outputs": []
    },
    {
      "cell_type": "code",
      "metadata": {
        "id": "jxAE20hMFJfb",
        "outputId": "fc1dca3e-2cbe-4aa8-f097-1cc365636882"
      },
      "source": [
        "cloth_df.tail()"
      ],
      "execution_count": null,
      "outputs": [
        {
          "output_type": "execute_result",
          "data": {
            "text/html": [
              "<div>\n",
              "<style scoped>\n",
              "    .dataframe tbody tr th:only-of-type {\n",
              "        vertical-align: middle;\n",
              "    }\n",
              "\n",
              "    .dataframe tbody tr th {\n",
              "        vertical-align: top;\n",
              "    }\n",
              "\n",
              "    .dataframe thead th {\n",
              "        text-align: right;\n",
              "    }\n",
              "</style>\n",
              "<table border=\"1\" class=\"dataframe\">\n",
              "  <thead>\n",
              "    <tr style=\"text-align: right;\">\n",
              "      <th></th>\n",
              "      <th>BodySize</th>\n",
              "      <th>WaistSize</th>\n",
              "      <th>Gender</th>\n",
              "      <th>Complexion</th>\n",
              "      <th>Occasion</th>\n",
              "      <th>DressColor</th>\n",
              "      <th>DressColor2</th>\n",
              "      <th>DressSize</th>\n",
              "      <th>DressDesign</th>\n",
              "      <th>DressCategory</th>\n",
              "      <th>Matching</th>\n",
              "    </tr>\n",
              "  </thead>\n",
              "  <tbody>\n",
              "    <tr>\n",
              "      <th>106</th>\n",
              "      <td>XL</td>\n",
              "      <td>40</td>\n",
              "      <td>F</td>\n",
              "      <td>Asian</td>\n",
              "      <td>Party</td>\n",
              "      <td>Gray</td>\n",
              "      <td>None</td>\n",
              "      <td>L</td>\n",
              "      <td>Sleeve less</td>\n",
              "      <td>Ethinic</td>\n",
              "      <td>Y</td>\n",
              "    </tr>\n",
              "    <tr>\n",
              "      <th>107</th>\n",
              "      <td>M</td>\n",
              "      <td>30</td>\n",
              "      <td>F</td>\n",
              "      <td>Asian</td>\n",
              "      <td>Party</td>\n",
              "      <td>Black</td>\n",
              "      <td>None</td>\n",
              "      <td>M</td>\n",
              "      <td>Sleeve less</td>\n",
              "      <td>Ethinic</td>\n",
              "      <td>N</td>\n",
              "    </tr>\n",
              "    <tr>\n",
              "      <th>108</th>\n",
              "      <td>M</td>\n",
              "      <td>30</td>\n",
              "      <td>F</td>\n",
              "      <td>Asian</td>\n",
              "      <td>Casual</td>\n",
              "      <td>Green</td>\n",
              "      <td>None</td>\n",
              "      <td>M</td>\n",
              "      <td>Sleeve less</td>\n",
              "      <td>Western</td>\n",
              "      <td>N</td>\n",
              "    </tr>\n",
              "    <tr>\n",
              "      <th>109</th>\n",
              "      <td>S</td>\n",
              "      <td>24</td>\n",
              "      <td>M</td>\n",
              "      <td>White</td>\n",
              "      <td>Party</td>\n",
              "      <td>Black</td>\n",
              "      <td>Black</td>\n",
              "      <td>S</td>\n",
              "      <td>Full Sleeve</td>\n",
              "      <td>Ethinic</td>\n",
              "      <td>Y</td>\n",
              "    </tr>\n",
              "    <tr>\n",
              "      <th>110</th>\n",
              "      <td>XL</td>\n",
              "      <td>36</td>\n",
              "      <td>F</td>\n",
              "      <td>Asian</td>\n",
              "      <td>Casual</td>\n",
              "      <td>White</td>\n",
              "      <td>None</td>\n",
              "      <td>XL</td>\n",
              "      <td>Half Sleeve</td>\n",
              "      <td>Ethinic</td>\n",
              "      <td>Y</td>\n",
              "    </tr>\n",
              "  </tbody>\n",
              "</table>\n",
              "</div>"
            ],
            "text/plain": [
              "    BodySize  WaistSize Gender Complexion Occasion DressColor DressColor2  \\\n",
              "106       XL         40      F      Asian    Party       Gray        None   \n",
              "107        M         30      F      Asian    Party      Black        None   \n",
              "108        M         30      F      Asian   Casual      Green        None   \n",
              "109        S         24      M      White    Party      Black       Black   \n",
              "110       XL         36      F      Asian   Casual      White        None   \n",
              "\n",
              "    DressSize  DressDesign DressCategory Matching  \n",
              "106         L  Sleeve less      Ethinic         Y  \n",
              "107         M  Sleeve less      Ethinic         N  \n",
              "108         M  Sleeve less       Western        N  \n",
              "109         S  Full Sleeve      Ethinic         Y  \n",
              "110        XL  Half Sleeve      Ethinic         Y  "
            ]
          },
          "metadata": {
            "tags": []
          },
          "execution_count": 10
        }
      ]
    },
    {
      "cell_type": "code",
      "metadata": {
        "id": "rAVbc-_pFJfc",
        "outputId": "55961a5e-cb08-4ddc-9a6e-0da51cdc37a2"
      },
      "source": [
        "cloth_df['BodySize'].value_counts()"
      ],
      "execution_count": null,
      "outputs": [
        {
          "output_type": "execute_result",
          "data": {
            "text/plain": [
              "M     57\n",
              "L     26\n",
              "XL    24\n",
              "S      4\n",
              "Name: BodySize, dtype: int64"
            ]
          },
          "metadata": {
            "tags": []
          },
          "execution_count": 11
        }
      ]
    },
    {
      "cell_type": "code",
      "metadata": {
        "id": "q6wTDtxkFJfd",
        "outputId": "efbfedfe-0cf4-4ea5-ce45-53b274e0a604"
      },
      "source": [
        "cloth_df['WaistSize'].value_counts()"
      ],
      "execution_count": null,
      "outputs": [
        {
          "output_type": "execute_result",
          "data": {
            "text/plain": [
              "40    31\n",
              "32    25\n",
              "36    23\n",
              "30    18\n",
              "34    11\n",
              "24     2\n",
              "26     1\n",
              "Name: WaistSize, dtype: int64"
            ]
          },
          "metadata": {
            "tags": []
          },
          "execution_count": 12
        }
      ]
    },
    {
      "cell_type": "code",
      "metadata": {
        "id": "sq_GLlggFJfe",
        "outputId": "39b4ba21-2ac9-44f6-c99f-82762cc91bb4"
      },
      "source": [
        "cloth_df['Gender'].value_counts()"
      ],
      "execution_count": null,
      "outputs": [
        {
          "output_type": "execute_result",
          "data": {
            "text/plain": [
              "F    62\n",
              "M    49\n",
              "Name: Gender, dtype: int64"
            ]
          },
          "metadata": {
            "tags": []
          },
          "execution_count": 13
        }
      ]
    },
    {
      "cell_type": "code",
      "metadata": {
        "id": "mw5QXggPFJff",
        "outputId": "7760b952-d004-4674-fcbf-c1129909432d"
      },
      "source": [
        "cloth_df['Complexion'].value_counts()"
      ],
      "execution_count": null,
      "outputs": [
        {
          "output_type": "execute_result",
          "data": {
            "text/plain": [
              "Asian    83\n",
              "White    28\n",
              "Name: Complexion, dtype: int64"
            ]
          },
          "metadata": {
            "tags": []
          },
          "execution_count": 14
        }
      ]
    },
    {
      "cell_type": "code",
      "metadata": {
        "id": "_vdlvFHWFJff",
        "outputId": "c8a0fb4c-efb7-4b19-88ab-37a2036dbb5b"
      },
      "source": [
        "cloth_df['Occasion'].value_counts()"
      ],
      "execution_count": null,
      "outputs": [
        {
          "output_type": "execute_result",
          "data": {
            "text/plain": [
              "Casual    53\n",
              "Party     36\n",
              "Formal    12\n",
              "Sports    10\n",
              "Name: Occasion, dtype: int64"
            ]
          },
          "metadata": {
            "tags": []
          },
          "execution_count": 15
        }
      ]
    },
    {
      "cell_type": "code",
      "metadata": {
        "id": "7ix-_61nFJfg",
        "outputId": "b6d50bac-8bd0-41d2-e53f-955b2f3c4a6c"
      },
      "source": [
        "cloth_df['DressColor'].value_counts()"
      ],
      "execution_count": null,
      "outputs": [
        {
          "output_type": "execute_result",
          "data": {
            "text/plain": [
              "Black     32\n",
              "Blue      24\n",
              "White     14\n",
              "Red        9\n",
              "Green      8\n",
              "Gray       7\n",
              "Pink       6\n",
              "Orange     4\n",
              "Yellow     3\n",
              "violet     2\n",
              "Golden     1\n",
              "Silver     1\n",
              "Name: DressColor, dtype: int64"
            ]
          },
          "metadata": {
            "tags": []
          },
          "execution_count": 16
        }
      ]
    },
    {
      "cell_type": "code",
      "metadata": {
        "id": "DNMkhj-vFJfh",
        "outputId": "256c588f-b17f-4d88-e3f1-61feb1995e5f"
      },
      "source": [
        "cloth_df['DressColor2'].value_counts()"
      ],
      "execution_count": null,
      "outputs": [
        {
          "output_type": "execute_result",
          "data": {
            "text/plain": [
              "None     93\n",
              "White    11\n",
              "Black     4\n",
              "Green     2\n",
              "Red       1\n",
              "Name: DressColor2, dtype: int64"
            ]
          },
          "metadata": {
            "tags": []
          },
          "execution_count": 17
        }
      ]
    },
    {
      "cell_type": "code",
      "metadata": {
        "id": "PDk_bnCMFJfi",
        "outputId": "44e201bf-a838-4eb3-e218-aaa7509f8755"
      },
      "source": [
        "cloth_df['DressSize'].value_counts()"
      ],
      "execution_count": null,
      "outputs": [
        {
          "output_type": "execute_result",
          "data": {
            "text/plain": [
              "M     57\n",
              "L     29\n",
              "XL    21\n",
              "S      4\n",
              "Name: DressSize, dtype: int64"
            ]
          },
          "metadata": {
            "tags": []
          },
          "execution_count": 18
        }
      ]
    },
    {
      "cell_type": "code",
      "metadata": {
        "id": "TchkepDtFJfi",
        "outputId": "2d3a5915-22be-46c7-d78e-a32417372965"
      },
      "source": [
        "cloth_df['DressDesign'].value_counts()"
      ],
      "execution_count": null,
      "outputs": [
        {
          "output_type": "execute_result",
          "data": {
            "text/plain": [
              "Full Sleeve    59\n",
              "Half Sleeve    36\n",
              "Sleeve less    16\n",
              "Name: DressDesign, dtype: int64"
            ]
          },
          "metadata": {
            "tags": []
          },
          "execution_count": 19
        }
      ]
    },
    {
      "cell_type": "code",
      "metadata": {
        "id": "GZwj8It6FJfj",
        "outputId": "e3533327-0e8c-4222-87ae-742c7bd59777"
      },
      "source": [
        "cloth_df['DressCategory'].value_counts()"
      ],
      "execution_count": null,
      "outputs": [
        {
          "output_type": "execute_result",
          "data": {
            "text/plain": [
              "Western     59\n",
              "Ethinic     52\n",
              "Name: DressCategory, dtype: int64"
            ]
          },
          "metadata": {
            "tags": []
          },
          "execution_count": 20
        }
      ]
    },
    {
      "cell_type": "code",
      "metadata": {
        "id": "kCEGKlV6FJfk"
      },
      "source": [
        "#pip install category_encoders "
      ],
      "execution_count": null,
      "outputs": []
    },
    {
      "cell_type": "code",
      "metadata": {
        "id": "5rTVvbrrFJfk"
      },
      "source": [
        "import category_encoders as ce"
      ],
      "execution_count": null,
      "outputs": []
    },
    {
      "cell_type": "code",
      "metadata": {
        "id": "eIIDomowFJfl",
        "outputId": "da495361-fa41-47b2-a4a9-6a46d95eb830"
      },
      "source": [
        "encoder=ce.OrdinalEncoder(cols=['BodySize','Gender','Complexion','Occasion','DressColor','DressColor2','DressSize','DressDesign','DressCategory','Matching'],return_df=True,mapping=[{'col':'BodySize','mapping':{'None':0,'S':1,'M':2,'L':3,'XL':4}},{'col':'Gender','mapping':{'None':0,'M':1,'F':2}},{'col':'Complexion','mapping':{'None':0,'Asian':1,'White':2}},{'col':'Occasion','mapping':{'None':0,'Casual':1,'Party':2,'Formal':3,'Sports':4}},{'col':'DressColor','mapping':{'None':0,'Black':1,'Blue':2,'White':3,'Red':4, 'Green':5,'Gray':6,'Pink':7,'Orange':8,'Yellow':9,'violet':10,'Silver':11,'Golden':12}},{'col':'DressColor2','mapping':{'None':0,'Black':1,'Blue':2,'White':3,'Red':4, 'Green':5,'Gray':6,'Pink':7,'Orange':8,'Yellow':9,'violet':10,'Silver':11,'Golden':12}},{'col':'DressSize','mapping':{'None':0,'S':1,'M':2,'L':3,'XL':4}},{'col':'DressDesign','mapping':{'None':0,'Full Sleeve':1,'Half Sleeve':2,'Sleeve less':3}},{'col':'DressCategory','mapping':{'None':0,'Ethinic':1,'Western':2}},{'col':'Matching','mapping':{'N':0,'Y':1}}])\n",
        "df_cloth_transformed=encoder.fit_transform(cloth_df)"
      ],
      "execution_count": null,
      "outputs": [
        {
          "output_type": "stream",
          "text": [
            "C:\\Users\\lipsita\\Anaconda3\\lib\\site-packages\\category_encoders\\utils.py:21: FutureWarning: is_categorical is deprecated and will be removed in a future version.  Use is_categorical_dtype instead\n",
            "  elif pd.api.types.is_categorical(cols):\n"
          ],
          "name": "stderr"
        }
      ]
    },
    {
      "cell_type": "code",
      "metadata": {
        "id": "WGb97I3PFJfm",
        "outputId": "71af7e0f-55ea-4ffe-99c5-a2295079acdb"
      },
      "source": [
        "df_cloth_transformed.head()"
      ],
      "execution_count": null,
      "outputs": [
        {
          "output_type": "execute_result",
          "data": {
            "text/html": [
              "<div>\n",
              "<style scoped>\n",
              "    .dataframe tbody tr th:only-of-type {\n",
              "        vertical-align: middle;\n",
              "    }\n",
              "\n",
              "    .dataframe tbody tr th {\n",
              "        vertical-align: top;\n",
              "    }\n",
              "\n",
              "    .dataframe thead th {\n",
              "        text-align: right;\n",
              "    }\n",
              "</style>\n",
              "<table border=\"1\" class=\"dataframe\">\n",
              "  <thead>\n",
              "    <tr style=\"text-align: right;\">\n",
              "      <th></th>\n",
              "      <th>BodySize</th>\n",
              "      <th>WaistSize</th>\n",
              "      <th>Gender</th>\n",
              "      <th>Complexion</th>\n",
              "      <th>Occasion</th>\n",
              "      <th>DressColor</th>\n",
              "      <th>DressColor2</th>\n",
              "      <th>DressSize</th>\n",
              "      <th>DressDesign</th>\n",
              "      <th>DressCategory</th>\n",
              "      <th>Matching</th>\n",
              "    </tr>\n",
              "  </thead>\n",
              "  <tbody>\n",
              "    <tr>\n",
              "      <th>0</th>\n",
              "      <td>2</td>\n",
              "      <td>32</td>\n",
              "      <td>2</td>\n",
              "      <td>1</td>\n",
              "      <td>2</td>\n",
              "      <td>8</td>\n",
              "      <td>0</td>\n",
              "      <td>2</td>\n",
              "      <td>2</td>\n",
              "      <td>-1.0</td>\n",
              "      <td>0.0</td>\n",
              "    </tr>\n",
              "    <tr>\n",
              "      <th>1</th>\n",
              "      <td>4</td>\n",
              "      <td>40</td>\n",
              "      <td>1</td>\n",
              "      <td>1</td>\n",
              "      <td>2</td>\n",
              "      <td>2</td>\n",
              "      <td>0</td>\n",
              "      <td>4</td>\n",
              "      <td>1</td>\n",
              "      <td>-1.0</td>\n",
              "      <td>1.0</td>\n",
              "    </tr>\n",
              "    <tr>\n",
              "      <th>2</th>\n",
              "      <td>2</td>\n",
              "      <td>32</td>\n",
              "      <td>2</td>\n",
              "      <td>1</td>\n",
              "      <td>2</td>\n",
              "      <td>4</td>\n",
              "      <td>0</td>\n",
              "      <td>2</td>\n",
              "      <td>2</td>\n",
              "      <td>-1.0</td>\n",
              "      <td>0.0</td>\n",
              "    </tr>\n",
              "    <tr>\n",
              "      <th>3</th>\n",
              "      <td>2</td>\n",
              "      <td>32</td>\n",
              "      <td>2</td>\n",
              "      <td>1</td>\n",
              "      <td>2</td>\n",
              "      <td>4</td>\n",
              "      <td>0</td>\n",
              "      <td>2</td>\n",
              "      <td>1</td>\n",
              "      <td>-1.0</td>\n",
              "      <td>1.0</td>\n",
              "    </tr>\n",
              "    <tr>\n",
              "      <th>4</th>\n",
              "      <td>2</td>\n",
              "      <td>32</td>\n",
              "      <td>2</td>\n",
              "      <td>1</td>\n",
              "      <td>2</td>\n",
              "      <td>12</td>\n",
              "      <td>0</td>\n",
              "      <td>2</td>\n",
              "      <td>2</td>\n",
              "      <td>-1.0</td>\n",
              "      <td>1.0</td>\n",
              "    </tr>\n",
              "  </tbody>\n",
              "</table>\n",
              "</div>"
            ],
            "text/plain": [
              "   BodySize  WaistSize  Gender  Complexion  Occasion  DressColor  DressColor2  \\\n",
              "0         2         32       2           1         2           8            0   \n",
              "1         4         40       1           1         2           2            0   \n",
              "2         2         32       2           1         2           4            0   \n",
              "3         2         32       2           1         2           4            0   \n",
              "4         2         32       2           1         2          12            0   \n",
              "\n",
              "   DressSize  DressDesign  DressCategory  Matching  \n",
              "0          2            2           -1.0       0.0  \n",
              "1          4            1           -1.0       1.0  \n",
              "2          2            2           -1.0       0.0  \n",
              "3          2            1           -1.0       1.0  \n",
              "4          2            2           -1.0       1.0  "
            ]
          },
          "metadata": {
            "tags": []
          },
          "execution_count": 24
        }
      ]
    },
    {
      "cell_type": "code",
      "metadata": {
        "id": "jW0YRv-5FJfn",
        "outputId": "6234eee7-3851-44ff-da59-c8f29645d549"
      },
      "source": [
        "'''from scipy.stats import zscore\n",
        "\n",
        "cloth_df_attr = df_cloth_transformed.loc[:, 'BodySize':'DressCategory']  \n",
        "cloth_df_attr_z = cloth_df_attr.apply(zscore)\n",
        "  \n",
        "def replace(x):\n",
        "    median, std = x.median(), x.std()  \n",
        "    outliers = (x - median).abs() > 2*std \n",
        "    x[outliers] = x.median()       \n",
        "    return x\n",
        "\n",
        "cloth_df_corrected = cloth_df_attr_z.apply(lambda x:x.transform(replace))'''"
      ],
      "execution_count": null,
      "outputs": [
        {
          "output_type": "execute_result",
          "data": {
            "text/plain": [
              "\"from scipy.stats import zscore\\n\\ncloth_df_attr = df_cloth_transformed.loc[:, 'BodySize':'DressCategory']  \\ncloth_df_attr_z = cloth_df_attr.apply(zscore)\\n  \\ndef replace(x):\\n    median, std = x.median(), x.std()  \\n    outliers = (x - median).abs() > 2*std \\n    x[outliers] = x.median()       \\n    return x\\n\\ncloth_df_corrected = cloth_df_attr_z.apply(lambda x:x.transform(replace))\""
            ]
          },
          "metadata": {
            "tags": []
          },
          "execution_count": 30
        }
      ]
    },
    {
      "cell_type": "code",
      "metadata": {
        "id": "Z7cfQHeOFJfo",
        "outputId": "4866d45a-ec25-4ff9-8a8a-125e6ad3795b"
      },
      "source": [
        "array =df_cloth_transformed.values\n",
        "X = array[:,0:7]\n",
        "Y = array[:,8]  \n",
        "test_size = 0.30\n",
        "seed = 7  \n",
        "X_train, X_test, y_train, y_test = train_test_split(X, Y, test_size=test_size, random_state=seed)\n",
        "type(X_train)"
      ],
      "execution_count": null,
      "outputs": [
        {
          "output_type": "execute_result",
          "data": {
            "text/plain": [
              "numpy.ndarray"
            ]
          },
          "metadata": {
            "tags": []
          },
          "execution_count": 26
        }
      ]
    },
    {
      "cell_type": "code",
      "metadata": {
        "id": "kK-UaInAFJfp",
        "outputId": "7a55bf45-ab5d-4402-9579-98362bb9dec9"
      },
      "source": [
        "model = LogisticRegression()\n",
        "model.fit(X_train, y_train)\n",
        "y_predict = model.predict(X_test)\n",
        "model_score = model.score(X_test, y_test)\n",
        "print(model_score)\n",
        "print(metrics.confusion_matrix(y_test, y_predict))"
      ],
      "execution_count": null,
      "outputs": [
        {
          "output_type": "stream",
          "text": [
            "0.5294117647058824\n",
            "[[13  3  0]\n",
            " [ 6  5  0]\n",
            " [ 4  3  0]]\n"
          ],
          "name": "stdout"
        },
        {
          "output_type": "stream",
          "text": [
            "C:\\Users\\lipsita\\Anaconda3\\lib\\site-packages\\sklearn\\linear_model\\logistic.py:432: FutureWarning: Default solver will be changed to 'lbfgs' in 0.22. Specify a solver to silence this warning.\n",
            "  FutureWarning)\n",
            "C:\\Users\\lipsita\\Anaconda3\\lib\\site-packages\\sklearn\\linear_model\\logistic.py:469: FutureWarning: Default multi_class will be changed to 'auto' in 0.22. Specify the multi_class option to silence this warning.\n",
            "  \"this warning.\", FutureWarning)\n"
          ],
          "name": "stderr"
        }
      ]
    },
    {
      "cell_type": "code",
      "metadata": {
        "id": "zKOAF8b2FJfp"
      },
      "source": [
        "from sklearn import preprocessing\n",
        "X_train_scaled = preprocessing.scale(X_train)\n",
        "X_test_scaled = preprocessing.scale(X_test)"
      ],
      "execution_count": null,
      "outputs": []
    },
    {
      "cell_type": "code",
      "metadata": {
        "id": "eCUQIB2jFJfq",
        "outputId": "384891a7-49ab-4c10-9d4b-667ff56c068a"
      },
      "source": [
        "model = LogisticRegression()\n",
        "model.fit(X_train_scaled, y_train)\n",
        "y_predict = model.predict(X_test_scaled)\n",
        "model_score = model.score(X_test_scaled, y_test)\n",
        "print(model_score)\n",
        "print(metrics.confusion_matrix(y_test, y_predict))"
      ],
      "execution_count": null,
      "outputs": [
        {
          "output_type": "stream",
          "text": [
            "0.5\n",
            "[[16  0  0]\n",
            " [10  1  0]\n",
            " [ 6  1  0]]\n"
          ],
          "name": "stdout"
        },
        {
          "output_type": "stream",
          "text": [
            "C:\\Users\\lipsita\\Anaconda3\\lib\\site-packages\\sklearn\\linear_model\\logistic.py:432: FutureWarning: Default solver will be changed to 'lbfgs' in 0.22. Specify a solver to silence this warning.\n",
            "  FutureWarning)\n",
            "C:\\Users\\lipsita\\Anaconda3\\lib\\site-packages\\sklearn\\linear_model\\logistic.py:469: FutureWarning: Default multi_class will be changed to 'auto' in 0.22. Specify the multi_class option to silence this warning.\n",
            "  \"this warning.\", FutureWarning)\n"
          ],
          "name": "stderr"
        }
      ]
    }
  ]
}