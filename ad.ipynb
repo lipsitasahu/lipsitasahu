{
  "nbformat": 4,
  "nbformat_minor": 0,
  "metadata": {
    "kernelspec": {
      "display_name": "Python 3",
      "language": "python",
      "name": "python3"
    },
    "language_info": {
      "codemirror_mode": {
        "name": "ipython",
        "version": 3
      },
      "file_extension": ".py",
      "mimetype": "text/x-python",
      "name": "python",
      "nbconvert_exporter": "python",
      "pygments_lexer": "ipython3",
      "version": "3.7.3"
    },
    "colab": {
      "name": "ad.ipynb",
      "provenance": [],
      "include_colab_link": true
    }
  },
  "cells": [
    {
      "cell_type": "markdown",
      "metadata": {
        "id": "view-in-github",
        "colab_type": "text"
      },
      "source": [
        "<a href=\"https://colab.research.google.com/github/lipsitasahu/lipsitasahu/blob/main/ad.ipynb\" target=\"_parent\"><img src=\"https://colab.research.google.com/assets/colab-badge.svg\" alt=\"Open In Colab\"/></a>"
      ]
    },
    {
      "cell_type": "code",
      "metadata": {
        "id": "Hk3F_jXXUIp6",
        "outputId": "1dc4de1e-848a-47fa-8ab3-e3e0ca691e19"
      },
      "source": [
        "import pandas as pd\n",
        "import numpy as np\n",
        "import matplotlib.pyplot as plt\n",
        "import seaborn as sns"
      ],
      "execution_count": null,
      "outputs": [
        {
          "name": "stderr",
          "output_type": "stream",
          "text": [
            "C:\\Users\\lipsita\\Anaconda3\\lib\\site-packages\\statsmodels\\tools\\_testing.py:19: FutureWarning: pandas.util.testing is deprecated. Use the functions in the public API at pandas.testing instead.\n",
            "  import pandas.util.testing as tm\n"
          ]
        }
      ]
    },
    {
      "cell_type": "code",
      "metadata": {
        "id": "2uLV4SY1UIqC"
      },
      "source": [
        "df=pd.read_csv(\"advertisement.csv\")"
      ],
      "execution_count": null,
      "outputs": []
    },
    {
      "cell_type": "code",
      "metadata": {
        "scrolled": true,
        "id": "jEBWzbdjUIqG",
        "outputId": "8b8aa460-b5a3-4a8e-8460-61d73d2fccb8"
      },
      "source": [
        "'df.head()'"
      ],
      "execution_count": null,
      "outputs": [
        {
          "data": {
            "text/plain": [
              "'df.head()'"
            ]
          },
          "execution_count": 3,
          "metadata": {},
          "output_type": "execute_result"
        }
      ]
    },
    {
      "cell_type": "code",
      "metadata": {
        "id": "OEuSEZJgUIqI",
        "outputId": "afef75e9-2d38-4471-fced-57c4af3680be"
      },
      "source": [
        "'df.shape'"
      ],
      "execution_count": null,
      "outputs": [
        {
          "data": {
            "text/plain": [
              "'df.shape'"
            ]
          },
          "execution_count": 4,
          "metadata": {},
          "output_type": "execute_result"
        }
      ]
    },
    {
      "cell_type": "code",
      "metadata": {
        "id": "9qBdSGxtUIqK",
        "outputId": "6f329ece-71f1-4e28-e299-648554266107"
      },
      "source": [
        "'df.info'"
      ],
      "execution_count": null,
      "outputs": [
        {
          "data": {
            "text/plain": [
              "'df.info'"
            ]
          },
          "execution_count": 5,
          "metadata": {},
          "output_type": "execute_result"
        }
      ]
    },
    {
      "cell_type": "code",
      "metadata": {
        "id": "bglOcnepUIqN",
        "outputId": "b3f944b3-44de-4cd9-d48d-485aae6e40de"
      },
      "source": [
        "'df.describe()'"
      ],
      "execution_count": null,
      "outputs": [
        {
          "data": {
            "text/plain": [
              "'df.describe()'"
            ]
          },
          "execution_count": 6,
          "metadata": {},
          "output_type": "execute_result"
        }
      ]
    },
    {
      "cell_type": "code",
      "metadata": {
        "id": "RiUlXGOLUIqP",
        "outputId": "07936711-1cdc-4f48-c9c9-83449a890e35"
      },
      "source": [
        "'''import seaborn as sns\n",
        "sns.boxplot(df['Daily Time Spent on Site'])'''"
      ],
      "execution_count": null,
      "outputs": [
        {
          "data": {
            "text/plain": [
              "\"import seaborn as sns\\nsns.boxplot(df['Daily Time Spent on Site'])\""
            ]
          },
          "execution_count": 8,
          "metadata": {},
          "output_type": "execute_result"
        }
      ]
    },
    {
      "cell_type": "code",
      "metadata": {
        "id": "v-dRTCqvUIqT",
        "outputId": "43b2cd4e-561b-4428-d677-9e34997ad1c0"
      },
      "source": [
        "'plt.hist(df.Age)'"
      ],
      "execution_count": null,
      "outputs": [
        {
          "data": {
            "text/plain": [
              "'plt.hist(df.Age)'"
            ]
          },
          "execution_count": 9,
          "metadata": {},
          "output_type": "execute_result"
        }
      ]
    },
    {
      "cell_type": "code",
      "metadata": {
        "id": "clB1U9Y5UIqW",
        "outputId": "4a0c835a-246a-401a-f786-c7ec6258a961"
      },
      "source": [
        "'df.columns'"
      ],
      "execution_count": null,
      "outputs": [
        {
          "data": {
            "text/plain": [
              "'df.columns'"
            ]
          },
          "execution_count": 10,
          "metadata": {},
          "output_type": "execute_result"
        }
      ]
    },
    {
      "cell_type": "code",
      "metadata": {
        "id": "9h3V_2jOUIqY",
        "outputId": "da406645-d2fc-46c0-c408-52be10c6c9a7"
      },
      "source": [
        "'''col=['Daily Time Spent on Site', 'Age', 'Area Income',\n",
        "       'Daily Internet Usage']\n",
        "import matplotlib.pyplot as plt \n",
        "for i in col:\n",
        "    sns.distplot(df[i])\n",
        "    plt.show()'''"
      ],
      "execution_count": null,
      "outputs": [
        {
          "data": {
            "text/plain": [
              "\"col=['Daily Time Spent on Site', 'Age', 'Area Income',\\n       'Daily Internet Usage']\\nimport matplotlib.pyplot as plt \\nfor i in col:\\n    sns.distplot(df[i])\\n    plt.show()\""
            ]
          },
          "execution_count": 11,
          "metadata": {},
          "output_type": "execute_result"
        }
      ]
    },
    {
      "cell_type": "code",
      "metadata": {
        "id": "72LvEePeUIqa",
        "outputId": "3578fd8d-75ea-4094-b650-af859bd8cd90"
      },
      "source": [
        "'''plt.style.use('ggplot') # Using ggplot2 style visuals \n",
        "f, ax = plt.subplots(figsize=(11, 15))\n",
        "ax.set_facecolor('white') \n",
        "ax.set(xlim=(-10, 200)) \n",
        "plt.ylabel('Variables') \n",
        "plt.title(\"Overview Data Set\") \n",
        "ax = sns.boxplot(data = df,   \n",
        "                 orient = 'h',   \n",
        "                 palette = 'Set2')'''"
      ],
      "execution_count": null,
      "outputs": [
        {
          "data": {
            "text/plain": [
              "'plt.style.use(\\'ggplot\\') # Using ggplot2 style visuals \\nf, ax = plt.subplots(figsize=(11, 15))\\nax.set_facecolor(\\'white\\') \\nax.set(xlim=(-10, 200)) \\nplt.ylabel(\\'Variables\\') \\nplt.title(\"Overview Data Set\") \\nax = sns.boxplot(data = df,   \\n                 orient = \\'h\\',   \\n                 palette = \\'Set2\\')'"
            ]
          },
          "execution_count": 12,
          "metadata": {},
          "output_type": "execute_result"
        }
      ]
    },
    {
      "cell_type": "code",
      "metadata": {
        "id": "rRpnKEMmUIqb",
        "outputId": "64669713-5185-447e-f1d5-6e9c0e5e2ea3"
      },
      "source": [
        "'''df.groupby('Male').size().plot(kind='pie',textprops={'fontsize':20},colors=['violet','lime'])'''"
      ],
      "execution_count": null,
      "outputs": [
        {
          "data": {
            "text/plain": [
              "\"df.groupby('Male').size().plot(kind='pie',textprops={'fontsize':20},colors=['violet','lime'])\""
            ]
          },
          "execution_count": 13,
          "metadata": {},
          "output_type": "execute_result"
        }
      ]
    },
    {
      "cell_type": "code",
      "metadata": {
        "id": "vzbjp3V-UIqd",
        "outputId": "bae05323-c9f9-46ac-9bbd-e5b0221d0863"
      },
      "source": [
        "'plt.figure(figsize=(8,8))' \n",
        "'sns.heatmap(df.corr(),annot = True)'"
      ],
      "execution_count": null,
      "outputs": [
        {
          "data": {
            "text/plain": [
              "'sns.heatmap(df.corr(),annot = True)'"
            ]
          },
          "execution_count": 14,
          "metadata": {},
          "output_type": "execute_result"
        }
      ]
    },
    {
      "cell_type": "code",
      "metadata": {
        "id": "jucEyS-jUIqe",
        "outputId": "0f60abe3-4e99-438b-c2a0-06307d62c8b9"
      },
      "source": [
        "'''plt.scatter(df['Daily Internet Usage'],df['Age'])'''"
      ],
      "execution_count": null,
      "outputs": [
        {
          "data": {
            "text/plain": [
              "\"plt.scatter(df['Daily Internet Usage'],df['Age'])\""
            ]
          },
          "execution_count": 15,
          "metadata": {},
          "output_type": "execute_result"
        }
      ]
    },
    {
      "cell_type": "code",
      "metadata": {
        "id": "P1ZnA9tQUIqe",
        "outputId": "01eb89a9-e625-4bd5-d55e-46c8bd276c3b"
      },
      "source": [
        "'''sns.regplot(df['Daily Internet Usage'],df['Age'],data=df)'''"
      ],
      "execution_count": null,
      "outputs": [
        {
          "data": {
            "text/plain": [
              "\"sns.regplot(df['Daily Internet Usage'],df['Age'],data=df)\""
            ]
          },
          "execution_count": 16,
          "metadata": {},
          "output_type": "execute_result"
        }
      ]
    },
    {
      "cell_type": "code",
      "metadata": {
        "id": "piB5NJ-ZUIqf"
      },
      "source": [
        "# separating independent and dependent features \n",
        "X = df[['Daily Time Spent on Site', 'Age', 'Area Income',\n",
        "       'Daily Internet Usage']] \n",
        "y = df['Clicked on Ad']"
      ],
      "execution_count": null,
      "outputs": []
    },
    {
      "cell_type": "code",
      "metadata": {
        "id": "zu32K8A1UIqg"
      },
      "source": [
        "from sklearn.model_selection import train_test_split"
      ],
      "execution_count": null,
      "outputs": []
    },
    {
      "cell_type": "code",
      "metadata": {
        "id": "q4xbAWM9UIqh",
        "outputId": "61f2a6ed-e90b-479d-add3-d59716341ecb"
      },
      "source": [
        "X_train,X_test,y_train,y_test = train_test_split(X,y,test_size = 0.4,random_state=1)"
      ],
      "execution_count": null,
      "outputs": [
        {
          "ename": "SyntaxError",
          "evalue": "invalid syntax (<ipython-input-63-ffc080aea254>, line 1)",
          "output_type": "error",
          "traceback": [
            "\u001b[1;36m  File \u001b[1;32m\"<ipython-input-63-ffc080aea254>\"\u001b[1;36m, line \u001b[1;32m1\u001b[0m\n\u001b[1;33m    X_train,X_test,y_train,y_test = train_test_split(X,y,test_size = 0.4''',random_state=1''')\u001b[0m\n\u001b[1;37m                                                                                            ^\u001b[0m\n\u001b[1;31mSyntaxError\u001b[0m\u001b[1;31m:\u001b[0m invalid syntax\n"
          ]
        }
      ]
    },
    {
      "cell_type": "code",
      "metadata": {
        "id": "gHSmyMf7UIqi"
      },
      "source": [
        "from sklearn.linear_model import LogisticRegression"
      ],
      "execution_count": null,
      "outputs": []
    },
    {
      "cell_type": "code",
      "metadata": {
        "id": "L6Nu_9fiUIqi",
        "outputId": "608d2d06-b11b-4eb7-8945-34f6fca5a16d"
      },
      "source": [
        "model.fit(X_train,y_train)"
      ],
      "execution_count": null,
      "outputs": [
        {
          "name": "stderr",
          "output_type": "stream",
          "text": [
            "C:\\Users\\lipsita\\Anaconda3\\lib\\site-packages\\sklearn\\linear_model\\logistic.py:432: FutureWarning: Default solver will be changed to 'lbfgs' in 0.22. Specify a solver to silence this warning.\n",
            "  FutureWarning)\n"
          ]
        },
        {
          "data": {
            "text/plain": [
              "LogisticRegression(C=1.0, class_weight=None, dual=False, fit_intercept=True,\n",
              "                   intercept_scaling=1, l1_ratio=None, max_iter=100,\n",
              "                   multi_class='warn', n_jobs=None, penalty='l2',\n",
              "                   random_state=None, solver='warn', tol=0.0001, verbose=0,\n",
              "                   warm_start=False)"
            ]
          },
          "execution_count": 61,
          "metadata": {},
          "output_type": "execute_result"
        }
      ]
    },
    {
      "cell_type": "code",
      "metadata": {
        "id": "esPyKGHFUIqj",
        "outputId": "20d8fba8-20c2-47d5-a390-a19cec48e24a"
      },
      "source": [
        "model.score(X_test,y_test)"
      ],
      "execution_count": null,
      "outputs": [
        {
          "data": {
            "text/plain": [
              "0.8725"
            ]
          },
          "execution_count": 62,
          "metadata": {},
          "output_type": "execute_result"
        }
      ]
    },
    {
      "cell_type": "code",
      "metadata": {
        "id": "kzrKJzmBUIqk",
        "outputId": "36387ad9-ca8a-4493-9782-0d4bd42b5b80"
      },
      "source": [
        "from sklearn.metrics import accuracy_score \n",
        "accuracy_score(y_test,y_pred)"
      ],
      "execution_count": null,
      "outputs": [
        {
          "data": {
            "text/plain": [
              "0.9075"
            ]
          },
          "execution_count": 57,
          "metadata": {},
          "output_type": "execute_result"
        }
      ]
    },
    {
      "cell_type": "code",
      "metadata": {
        "id": "dCFoX_PhUIql"
      },
      "source": [
        "y_pred=model.predict(X_test)"
      ],
      "execution_count": null,
      "outputs": []
    },
    {
      "cell_type": "code",
      "metadata": {
        "id": "1Y0_JtllUIqn",
        "outputId": "4e563cf7-8d8d-4aa8-a69f-d49efa07a5e6"
      },
      "source": [
        "y_pred"
      ],
      "execution_count": null,
      "outputs": [
        {
          "data": {
            "text/plain": [
              "array([0, 0, 0, 1, 0, 1, 1, 1, 0, 0, 0, 0, 1, 0, 0, 0, 1, 0, 1, 0, 0, 0,\n",
              "       0, 1, 1, 0, 1, 0, 0, 0, 0, 1, 0, 1, 1, 0, 0, 0, 0, 0, 0, 1, 1, 0,\n",
              "       1, 0, 0, 1, 0, 1, 0, 0, 1, 1, 0, 1, 0, 1, 1, 1, 0, 0, 1, 1, 1, 1,\n",
              "       0, 1, 0, 1, 1, 0, 1, 1, 0, 0, 1, 0, 1, 0, 1, 1, 0, 1, 0, 1, 1, 0,\n",
              "       1, 0, 0, 1, 1, 0, 1, 1, 1, 1, 0, 1, 1, 0, 0, 1, 0, 1, 0, 1, 0, 0,\n",
              "       1, 1, 0, 1, 0, 0, 1, 0, 0, 1, 1, 0, 0, 0, 0, 0, 0, 0, 0, 1, 0, 0,\n",
              "       0, 1, 0, 0, 0, 0, 0, 1, 0, 1, 1, 0, 0, 1, 0, 0, 1, 1, 0, 0, 0, 1,\n",
              "       1, 1, 0, 0, 1, 1, 1, 0, 0, 1, 0, 1, 1, 1, 0, 0, 0, 0, 1, 0, 0, 0,\n",
              "       1, 0, 1, 1, 1, 0, 0, 1, 0, 1, 0, 1, 1, 0, 0, 1, 1, 0, 0, 1, 1, 0,\n",
              "       1, 0, 0, 1, 1, 0, 0, 0, 0, 0, 1, 1, 1, 0, 0, 0, 0, 1, 0, 0, 0, 1,\n",
              "       0, 0, 0, 0, 1, 1, 1, 0, 1, 1, 0, 0, 1, 1, 0, 1, 0, 1, 1, 0, 0, 1,\n",
              "       1, 1, 1, 0, 1, 0, 1, 0, 1, 0, 1, 0, 0, 0, 0, 1, 0, 1, 1, 0, 0, 0,\n",
              "       0, 1, 1, 0, 0, 1, 0, 0, 0, 0, 1, 0, 0, 0, 1, 0, 1, 0, 0, 0, 0, 1,\n",
              "       1, 1, 1, 1, 0, 0, 0, 1, 0, 0, 0, 0, 1, 1, 0, 0, 0, 0, 0, 0, 1, 0,\n",
              "       1, 0, 1, 1, 1, 0, 0, 0, 1, 0, 1, 1, 0, 0, 1, 1, 0, 1, 1, 1, 1, 1,\n",
              "       0, 1, 1, 1, 1, 1, 1, 0, 1, 0, 0, 1, 1, 1, 0, 0, 1, 0, 1, 0, 1, 0,\n",
              "       1, 0, 0, 0, 1, 1, 1, 0, 1, 1, 1, 1, 0, 0, 1, 0, 0, 0, 0, 1, 0, 0,\n",
              "       0, 1, 0, 0, 0, 1, 0, 0, 0, 1, 0, 1, 0, 1, 0, 0, 1, 0, 0, 0, 0, 0,\n",
              "       0, 0, 1, 1], dtype=int64)"
            ]
          },
          "execution_count": 42,
          "metadata": {},
          "output_type": "execute_result"
        }
      ]
    },
    {
      "cell_type": "code",
      "metadata": {
        "id": "2hp7loIkUIqn",
        "outputId": "e38dc476-c977-489f-a852-5799cac9e4e6"
      },
      "source": [
        "y_test"
      ],
      "execution_count": null,
      "outputs": [
        {
          "data": {
            "text/plain": [
              "993    0\n",
              "859    0\n",
              "298    0\n",
              "553    1\n",
              "672    0\n",
              "      ..\n",
              "81     0\n",
              "159    1\n",
              "333    0\n",
              "837    1\n",
              "474    1\n",
              "Name: Clicked on Ad, Length: 400, dtype: int64"
            ]
          },
          "execution_count": 43,
          "metadata": {},
          "output_type": "execute_result"
        }
      ]
    },
    {
      "cell_type": "code",
      "metadata": {
        "id": "2n1pX5GEUIqo",
        "outputId": "1512f03c-5d4c-449c-9416-38d5bb8d92ee"
      },
      "source": [
        "from sklearn.metrics import confusion_matrix \n",
        "confusion_matrix(y_test,y_pred)"
      ],
      "execution_count": null,
      "outputs": [
        {
          "data": {
            "text/plain": [
              "array([[202,  17],\n",
              "       [ 20, 161]], dtype=int64)"
            ]
          },
          "execution_count": 44,
          "metadata": {},
          "output_type": "execute_result"
        }
      ]
    },
    {
      "cell_type": "code",
      "metadata": {
        "id": "ZxPhD-wTUIqp"
      },
      "source": [
        "res=model.predict([[68.95,35,61833.90,256.09]])"
      ],
      "execution_count": null,
      "outputs": []
    },
    {
      "cell_type": "code",
      "metadata": {
        "id": "KFclgl_eUIqp",
        "outputId": "06571ab5-890c-4bff-92d3-520c35ef40ff"
      },
      "source": [
        "res"
      ],
      "execution_count": null,
      "outputs": [
        {
          "data": {
            "text/plain": [
              "array([0], dtype=int64)"
            ]
          },
          "execution_count": 46,
          "metadata": {},
          "output_type": "execute_result"
        }
      ]
    },
    {
      "cell_type": "code",
      "metadata": {
        "id": "Z8Rz60AaUIqp"
      },
      "source": [
        ""
      ],
      "execution_count": null,
      "outputs": []
    }
  ]
}