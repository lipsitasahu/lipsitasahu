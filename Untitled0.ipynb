{
  "nbformat": 4,
  "nbformat_minor": 0,
  "metadata": {
    "colab": {
      "name": "Untitled0.ipynb",
      "provenance": [],
      "collapsed_sections": [],
      "authorship_tag": "ABX9TyOUmr0o45gtIldwbN47+c2E",
      "include_colab_link": true
    },
    "kernelspec": {
      "name": "python3",
      "display_name": "Python 3"
    },
    "language_info": {
      "name": "python"
    }
  },
  "cells": [
    {
      "cell_type": "markdown",
      "metadata": {
        "id": "view-in-github",
        "colab_type": "text"
      },
      "source": [
        "<a href=\"https://colab.research.google.com/github/lipsitasahu/lipsitasahu/blob/main/Untitled0.ipynb\" target=\"_parent\"><img src=\"https://colab.research.google.com/assets/colab-badge.svg\" alt=\"Open In Colab\"/></a>"
      ]
    },
    {
      "cell_type": "code",
      "metadata": {
        "colab": {
          "base_uri": "https://localhost:8080/"
        },
        "id": "jUVhlPPJLqIU",
        "outputId": "cd0e6bae-e1f2-4243-edfa-f826c9600c33"
      },
      "source": [
        "x, y = 10, 0.55\n",
        "print(x, y)\n",
        "print(type(x))\n",
        "print(type(y))\n",
        "\n",
        "x, y = y, x\n",
        "print(x, y)\n",
        "print(type(x))\n",
        "print(type(y))"
      ],
      "execution_count": 1,
      "outputs": [
        {
          "output_type": "stream",
          "text": [
            "10 0.55\n",
            "<class 'int'>\n",
            "<class 'float'>\n",
            "0.55 10\n",
            "<class 'float'>\n",
            "<class 'int'>\n"
          ],
          "name": "stdout"
        }
      ]
    },
    {
      "cell_type": "code",
      "metadata": {
        "colab": {
          "base_uri": "https://localhost:8080/"
        },
        "id": "Ejwxs3bMMyoR",
        "outputId": "9a7f2291-ea40-4c99-a77a-a3a9f6c6a2be"
      },
      "source": [
        "divisor, divident = 2, 1\n",
        "ans = divident / divisor\n",
        "print(ans)\n",
        "a, b, c, d = 2, 3, 4, 5\n",
        "\n",
        "ans = a + b * c / d\n",
        "print(ans)\n",
        "\n",
        "# ** is power\n",
        "exp = a ** b\n",
        "print(exp)\n",
        "\n",
        "mod = b % a\n",
        "print(mod)\n",
        "\n",
        "# // returns integer division result\n",
        "intDiv = d // a\n",
        "# / returns float division result\n",
        "div = d / a\n",
        "print(div, intDiv)"
      ],
      "execution_count": 2,
      "outputs": [
        {
          "output_type": "stream",
          "text": [
            "0.5\n",
            "4.4\n",
            "8\n",
            "1\n",
            "2.5 2\n"
          ],
          "name": "stdout"
        }
      ]
    },
    {
      "cell_type": "code",
      "metadata": {
        "colab": {
          "base_uri": "https://localhost:8080/"
        },
        "id": "uiwn5LeHNOxp",
        "outputId": "a4b40bd6-6e8c-4f78-fb58-e744ea2b254b"
      },
      "source": [
        "a,b=3,1\n",
        "sum=a+b\n",
        "sum"
      ],
      "execution_count": 3,
      "outputs": [
        {
          "output_type": "execute_result",
          "data": {
            "text/plain": [
              "4"
            ]
          },
          "metadata": {
            "tags": []
          },
          "execution_count": 3
        }
      ]
    },
    {
      "cell_type": "code",
      "metadata": {
        "colab": {
          "base_uri": "https://localhost:8080/"
        },
        "id": "6yscyXnONfsa",
        "outputId": "e7a67cc6-6c3c-4bec-f9ef-2638017520c0"
      },
      "source": [
        "c,d=3.0,0.6\n",
        "diff=c-d\n",
        "diff"
      ],
      "execution_count": 4,
      "outputs": [
        {
          "output_type": "execute_result",
          "data": {
            "text/plain": [
              "2.4"
            ]
          },
          "metadata": {
            "tags": []
          },
          "execution_count": 4
        }
      ]
    },
    {
      "cell_type": "code",
      "metadata": {
        "colab": {
          "base_uri": "https://localhost:8080/"
        },
        "id": "QMCat6J_NsxK",
        "outputId": "aa9b414a-20cb-4fbe-9e59-20e712549e39"
      },
      "source": [
        "a,b=3.00,0.1\n",
        "mult=a*b\n",
        "div=a/b\n",
        "fdiv=a//b\n",
        "remi=a%b\n",
        "print(mult)\n",
        "print(div)\n",
        "print(fdiv)\n",
        "print(remi)"
      ],
      "execution_count": 33,
      "outputs": [
        {
          "output_type": "stream",
          "text": [
            "0.30000000000000004\n",
            "30.0\n",
            "29.0\n",
            "0.09999999999999984\n"
          ],
          "name": "stdout"
        }
      ]
    },
    {
      "cell_type": "code",
      "metadata": {
        "colab": {
          "base_uri": "https://localhost:8080/"
        },
        "id": "tJpzH8ltOdZP",
        "outputId": "c996c91f-d995-4e48-b32b-3f777dd72ebb"
      },
      "source": [
        "num = 33\n",
        "print(num * 5)\n",
        "print(num)\n",
        "\n",
        "num /= 5\n",
        "print(num)\n",
        "\n",
        "#Naming Convension\n",
        "#snake_case\n",
        "s_c = 10\n",
        "\n",
        "\n",
        "#for constants\n",
        "CAPITAL_S_C, PI = 100, 3.14159603\n",
        "#for class\n",
        "class UpperCamelCase:\n",
        "    pass\n"
      ],
      "execution_count": 10,
      "outputs": [
        {
          "output_type": "stream",
          "text": [
            "165\n",
            "33\n",
            "6.6\n"
          ],
          "name": "stdout"
        }
      ]
    },
    {
      "cell_type": "code",
      "metadata": {
        "colab": {
          "base_uri": "https://localhost:8080/"
        },
        "id": "u1k1h0YYPZFq",
        "outputId": "954679cf-6700-4800-cd56-3eb332fd03c4"
      },
      "source": [
        "#bool\n",
        "hi = True\n",
        "bye = not hi\n",
        "print(hi)\n",
        "print(not hi)\n",
        "print(bye)\n",
        "print(not bye)\n",
        "\n",
        "#str\n",
        "s = \"hello, srting!\"\n",
        "print(s)\n",
        "\n",
        "#list\n",
        "l1 = [40,60,70,40,78]\n",
        "print(l1)\n",
        "print(l1[-2])\n",
        "\n",
        "#dict\n",
        "my_name = {'first_name': \"Humayun\",'middle_name':\"akbar\", 'last_name': \"Kabir\"}\n",
        "print(my_name)\n",
        "print(my_name['first_name'])\n",
        "print(my_name['middle_name'])\n",
        "print(my_name['last_name'])"
      ],
      "execution_count": 15,
      "outputs": [
        {
          "output_type": "stream",
          "text": [
            "True\n",
            "False\n",
            "False\n",
            "True\n",
            "hello, srting!\n",
            "[40, 60, 70, 40, 78]\n",
            "40\n",
            "{'first_name': 'Humayun', 'middle_name': 'akbar', 'last_name': 'Kabir'}\n",
            "Humayun\n",
            "akbar\n",
            "Kabir\n"
          ],
          "name": "stdout"
        }
      ]
    },
    {
      "cell_type": "code",
      "metadata": {
        "colab": {
          "base_uri": "https://localhost:8080/"
        },
        "id": "uH1pjn-NRGtx",
        "outputId": "3cafd75c-9aa0-41f2-a3b4-1b0c9b1bb066"
      },
      "source": [
        "game_over = False\n",
        "print(game_over)\n",
        "\n",
        "game_over = \"Yes, it's over!\"\n",
        "print(game_over)\n",
        "\n",
        "game_over = 500//101\n",
        "print(game_over)\n",
        "\n",
        "#None is nothing\n",
        "game_over = None\n",
        "print(game_over)\n",
        "print(type(game_over))"
      ],
      "execution_count": 18,
      "outputs": [
        {
          "output_type": "stream",
          "text": [
            "False\n",
            "Yes, it's over!\n",
            "4\n",
            "None\n",
            "<class 'NoneType'>\n"
          ],
          "name": "stdout"
        }
      ]
    },
    {
      "cell_type": "code",
      "metadata": {
        "colab": {
          "base_uri": "https://localhost:8080/"
        },
        "id": "wY5KBANJSsiY",
        "outputId": "ce772688-2635-4230-8105-e16ce9923d2f"
      },
      "source": [
        "a = 'hello'\n",
        "b = \"hello\"\n",
        "print(a)\n",
        "print(b)\n",
        "\n",
        "qoute = 'he said, \"hello there!\"'\n",
        "print(qoute)\n",
        "qoute = \"he said, 'hello there'\"\n",
        "print(qoute)\n",
        "\n",
        "qoute = \"he said, \\\"hello there!\\\"\"\n",
        "print(qoute)\n",
        "\n",
        "qoute = \"he said \\n , \\\"hello there!\\\"\"\n",
        "print(qoute)\n",
        "\n",
        "#string concatenation\n",
        "username = \"mhkm\"\n",
        "msg = \"Hello \" + username + \"how are you\"\n",
        "print(msg)\n",
        "\n",
        "#Formatting String\n",
        "name = \"Humayun\"\n",
        "msg = f\"Hello Mr. {name} Welcome!\"\n",
        "msg2 = \"Hello Mr. {} Welcome!\".format(name)\n",
        "print(msg)\n",
        "print(msg2)"
      ],
      "execution_count": 25,
      "outputs": [
        {
          "output_type": "stream",
          "text": [
            "hello\n",
            "hello\n",
            "he said, \"hello there!\"\n",
            "he said, 'hello there'\n",
            "he said, \"hello there!\"\n",
            "he said \n",
            " , \"hello there!\"\n",
            "Hello mhkmhow are you\n",
            "Hello Mr. Humayun Welcome!\n",
            "Hello Mr. Humayun Welcome!\n"
          ],
          "name": "stdout"
        }
      ]
    },
    {
      "cell_type": "code",
      "metadata": {
        "colab": {
          "base_uri": "https://localhost:8080/"
        },
        "id": "IcednNGZTYzf",
        "outputId": "a31594b2-dea1-401c-8479-a47170312943"
      },
      "source": [
        "intx = 10\n",
        "print(type(intx))\n",
        "\n",
        "floatxy = float(intx)\n",
        "print(floatxy)"
      ],
      "execution_count": 30,
      "outputs": [
        {
          "output_type": "stream",
          "text": [
            "<class 'int'>\n",
            "10.0\n"
          ],
          "name": "stdout"
        }
      ]
    },
    {
      "cell_type": "code",
      "metadata": {
        "colab": {
          "base_uri": "https://localhost:8080/"
        },
        "id": "18i1vtyaVC27",
        "outputId": "047f0170-409e-40e4-fcd6-1984f2aee1d3"
      },
      "source": [
        "print(\"How many KM did you cycle today?\")\n",
        "# by default input return string input\n",
        "kms = float(input())\n",
        "miles = kms/1.61\n",
        "# precisions\n",
        "miles = round(miles, 3)\n",
        "print(f\"Your {kms} KM is {miles} Miles\")"
      ],
      "execution_count": 31,
      "outputs": [
        {
          "output_type": "stream",
          "text": [
            "How many KM did you cycle today?\n",
            "3\n",
            "Your 3.0 KM is 1.863 Miles\n"
          ],
          "name": "stdout"
        }
      ]
    },
    {
      "cell_type": "code",
      "metadata": {
        "colab": {
          "base_uri": "https://localhost:8080/"
        },
        "id": "hBAneYgYVc0x",
        "outputId": "1bcc90bf-9bdf-48c9-a77d-30c6647e388c"
      },
      "source": [
        "print(\"What's your favorite color?\")\n",
        "color = input()\n",
        "print(\"Your color is: \" + color)"
      ],
      "execution_count": 32,
      "outputs": [
        {
          "output_type": "stream",
          "text": [
            "What's your favorite color?\n",
            "blue\n",
            "Your color is: blue\n"
          ],
          "name": "stdout"
        }
      ]
    },
    {
      "cell_type": "code",
      "metadata": {
        "colab": {
          "base_uri": "https://localhost:8080/"
        },
        "id": "n0of9BdRWEJA",
        "outputId": "a26bfe18-9790-42b2-dd41-f1b3417258af"
      },
      "source": [
        "name = \"lipsita\"\n",
        "\n",
        "if name is \"lipsa\":\n",
        "    print(\"First Name\")\n",
        "elif name is \"lipsita\":\n",
        "    print(\"Last Name\")\n",
        "else:\n",
        "    print(\"Wrong Name\")\n",
        "\n",
        "name = \"lipsa\"\n",
        "if name == \"neha\":\n",
        "    print(\"First Name\")\n",
        "elif name == \"lipsita\":\n",
        "    print(\"Last Name\")\n",
        "else:\n",
        "    print(\"Wrong Name\")"
      ],
      "execution_count": 34,
      "outputs": [
        {
          "output_type": "stream",
          "text": [
            "Last Name\n",
            "Wrong Name\n"
          ],
          "name": "stdout"
        }
      ]
    },
    {
      "cell_type": "code",
      "metadata": {
        "colab": {
          "base_uri": "https://localhost:8080/"
        },
        "id": "engmvIs1WwWH",
        "outputId": "ed547c90-a56a-4203-8b8f-060dbbcabb59"
      },
      "source": [
        "print(\"Give a rating on my work(out of 5)!\")\n",
        "rate = input()\n",
        "\n",
        "if rate is 5:\n",
        "    print(\"Excellent\")\n",
        "elif rate is 4:\n",
        "    print(\"Very Good\")\n",
        "elif rate is 3:\n",
        "    print(\"Good\")\n",
        "elif rate is 2:\n",
        "    print(\"Not Good\")\n",
        "elif rate is 1:\n",
        "    print(\"Bad\")\n",
        "else:\n",
        "    print(\"Rating should be in 1 to 5\")"
      ],
      "execution_count": 76,
      "outputs": [
        {
          "output_type": "stream",
          "text": [
            "Give a rating on my work(out of 5)!\n",
            "6\n",
            "Rating should be in 1 to 5\n"
          ],
          "name": "stdout"
        }
      ]
    },
    {
      "cell_type": "code",
      "metadata": {
        "colab": {
          "base_uri": "https://localhost:8080/"
        },
        "id": "7SCoPbvmW7cV",
        "outputId": "709e543c-cece-4226-a31e-58e58b2c89b3"
      },
      "source": [
        "age, sex = 13, \"Female\"\n",
        "\n",
        "if age > 18 and sex is \"Female\":\n",
        "    print(\"Go and Get Marry\")\n",
        "else:\n",
        "    print(\"You don't have marry\")"
      ],
      "execution_count": 63,
      "outputs": [
        {
          "output_type": "stream",
          "text": [
            "You don't have marry\n"
          ],
          "name": "stdout"
        }
      ]
    },
    {
      "cell_type": "code",
      "metadata": {
        "colab": {
          "base_uri": "https://localhost:8080/"
        },
        "id": "j1TMN-spbmug",
        "outputId": "97fd07fb-a691-4e56-dfb9-e415188741fd"
      },
      "source": [
        "import random\n",
        "\n",
        "print(\"Rock...\")\n",
        "print(\"Paper...\")\n",
        "print(\"Scissor...\")\n",
        "\n",
        "options = [\"rock\", \"papers\", \"scissors\"]\n",
        "print(\"Enter Your Move:\")\n",
        "me = input()\n",
        "\n",
        "rand = random.randint(0, 2)\n",
        "pc = options[rand]\n",
        "\n",
        "player_one = me\n",
        "player_two = pc\n",
        "\n",
        "print(f\"You Choose: {me}, PC choose {pc}\")\n",
        "\n",
        "if player_one == player_two:\n",
        "    print(\"Draw\")\n",
        "elif player_one == \"rock\":\n",
        "    if player_two == \"scissors\":\n",
        "        print(\"You WON!\")\n",
        "    elif player_two == \"papers\":\n",
        "        print(\"PC WON!\")\n",
        "elif player_one == \"papers\":\n",
        "    if player_two == \"rock\":\n",
        "        print(\"You WON!\")\n",
        "    elif player_two == \"scissors\":\n",
        "        print(\"PC WON!\")\n",
        "elif player_one == \"scissors\":\n",
        "    if player_two == \"rock\":\n",
        "        print(\"PC WON!\")\n",
        "    elif player_two == \"papers\":\n",
        "        print(\"You WON\")\n",
        "else:\n",
        "    print(\"Something Wrong!\")"
      ],
      "execution_count": 64,
      "outputs": [
        {
          "output_type": "stream",
          "text": [
            "Rock...\n",
            "Paper...\n",
            "Scissor...\n",
            "Enter Your Move:\n",
            "rock\n",
            "You Choose: rock, PC choose rock\n",
            "Draw\n"
          ],
          "name": "stdout"
        }
      ]
    },
    {
      "cell_type": "code",
      "metadata": {
        "colab": {
          "base_uri": "https://localhost:8080/"
        },
        "id": "IsFSZyyCcAzQ",
        "outputId": "721c058e-eab5-4163-dc09-ec207969cd36"
      },
      "source": [
        "print(\"Rock...\")\n",
        "print(\"Paper...\")\n",
        "print(\"Scissor...\")\n",
        "\n",
        "player_one = input(\"Player 1, Make your move:\")\n",
        "player_two = input(\"Player 2, Make your move:\")\n",
        "\n",
        "if player_one == player_two:\n",
        "    print(\"Draw\")\n",
        "elif player_one == \"rock\":\n",
        "    if player_two == \"scissors\":\n",
        "        print(\"Player 1 WON!\")\n",
        "    elif player_two == \"papers\":\n",
        "        print(\"Palyer 2 WON\")\n",
        "elif player_one == \"papers\":\n",
        "    if player_two == \"rock\":\n",
        "        print(\"Palyer 1 WON\")\n",
        "    elif player_two == \"scissors\":\n",
        "        print(\"Palyer 2 WON\")\n",
        "elif player_one == \"scissors\":\n",
        "    if player_two == \"rock\":\n",
        "        print(\"Palyer 2 WON\")\n",
        "    elif player_two == \"papers\":\n",
        "        print(\"Palyer 1 WON\")\n",
        "else:\n",
        "    print(\"Something Wrong!\")"
      ],
      "execution_count": 67,
      "outputs": [
        {
          "output_type": "stream",
          "text": [
            "Rock...\n",
            "Paper...\n",
            "Scissor...\n",
            "Player 1, Make your move:Paper\n",
            "Player 2, Make your move:Rock\n",
            "Something Wrong!\n"
          ],
          "name": "stdout"
        }
      ]
    },
    {
      "cell_type": "code",
      "metadata": {
        "colab": {
          "base_uri": "https://localhost:8080/"
        },
        "id": "8T-aVmL6cPHM",
        "outputId": "ed732e77-8d76-400a-d805-1cea558dd9ea"
      },
      "source": [
        "name = \"musa\"\n",
        "\n",
        "for char in name:\n",
        "    print(char)\n",
        "\n",
        "# range(a, b, c): >=a to < b, c is the weight of each step[optional]\n",
        "for number in range(-3, 5, 2):\n",
        "    print(number)\n",
        "\n",
        "prices = [10, 12, 15, 9, 11, 13]\n",
        "\n",
        "for price in prices:\n",
        "    print(price)\n",
        "\n",
        "for _ in range(2):\n",
        "    print(\"lol\")"
      ],
      "execution_count": 70,
      "outputs": [
        {
          "output_type": "stream",
          "text": [
            "m\n",
            "u\n",
            "s\n",
            "a\n",
            "-3\n",
            "-1\n",
            "1\n",
            "3\n",
            "10\n",
            "12\n",
            "15\n",
            "9\n",
            "11\n",
            "13\n",
            "lol\n",
            "lol\n"
          ],
          "name": "stdout"
        }
      ]
    },
    {
      "cell_type": "code",
      "metadata": {
        "colab": {
          "base_uri": "https://localhost:8080/"
        },
        "id": "MjzjXAhEc0ZA",
        "outputId": "81515ee7-90aa-4080-8976-ac9b73d3041d"
      },
      "source": [
        "val = 3\n",
        "\n",
        "while val < 20:\n",
        "    print(val)\n",
        "    val += 4\n",
        "\n",
        "print(\"what's the password?\")\n",
        "msg = input()\n",
        "while msg != \"lana\":\n",
        "    print(\"WRONG!\")\n",
        "    print(\"what's the password?\")\n",
        "    msg = input()\n",
        "print(\"CORRECT!\")"
      ],
      "execution_count": 69,
      "outputs": [
        {
          "output_type": "stream",
          "text": [
            "3\n",
            "7\n",
            "11\n",
            "15\n",
            "19\n",
            "what's the password?\n",
            "34\n",
            "WRONG!\n",
            "what's the password?\n",
            "lana\n",
            "CORRECT!\n"
          ],
          "name": "stdout"
        }
      ]
    },
    {
      "cell_type": "code",
      "metadata": {
        "colab": {
          "base_uri": "https://localhost:8080/"
        },
        "id": "LDUKDFuDc8RM",
        "outputId": "2367db1c-7faa-4601-fd90-09ab0d2d666a"
      },
      "source": [
        "num = 7\n",
        "for times in range(num):\n",
        "    for x in range(times):\n",
        "        print(\"\\U0001f600\", end='*')\n",
        "    print()"
      ],
      "execution_count": 72,
      "outputs": [
        {
          "output_type": "stream",
          "text": [
            "\n",
            "😀*\n",
            "😀*😀*\n",
            "😀*😀*😀*\n",
            "😀*😀*😀*😀*\n",
            "😀*😀*😀*😀*😀*\n",
            "😀*😀*😀*😀*😀*😀*\n"
          ],
          "name": "stdout"
        }
      ]
    },
    {
      "cell_type": "code",
      "metadata": {
        "colab": {
          "base_uri": "https://localhost:8080/"
        },
        "id": "KgGggqZodOJU",
        "outputId": "a709b15b-ecfe-4585-f535-4b29059147ca"
      },
      "source": [
        "num = 3\n",
        "\n",
        "while num < 6:\n",
        "    x = 1\n",
        "    while x <= num:\n",
        "        print(\"\\U0001f600\", end=' ')\n",
        "        x += 1\n",
        "    print()\n",
        "    num += 1"
      ],
      "execution_count": 74,
      "outputs": [
        {
          "output_type": "stream",
          "text": [
            "😀 😀 😀 \n",
            "😀 😀 😀 😀 \n",
            "😀 😀 😀 😀 😀 \n"
          ],
          "name": "stdout"
        }
      ]
    },
    {
      "cell_type": "code",
      "metadata": {
        "colab": {
          "base_uri": "https://localhost:8080/"
        },
        "id": "Nke6R95kdfFT",
        "outputId": "f7acc678-b947-48eb-9415-1e2c814df9d6"
      },
      "source": [
        "my_list = [\"neha\", 21, True, 50.678]\n",
        "\n",
        "print(my_list)\n",
        "print(len(my_list))\n",
        "\n",
        "for item in my_list:\n",
        "    print(item, end=' ')\n",
        "print()\n",
        "\n",
        "r = range(1, 10)\n",
        "print(r)\n",
        "print(list(r))\n",
        "\n",
        "colors = [\"purple\", \"teal\", \"magenta\", \"blue\"]\n",
        "\n",
        "# iterate using for-loop\n",
        "for color in colors:\n",
        "    print(color, end=' ')\n",
        "print()\n",
        "\n",
        "# iterate using while loop\n",
        "x = 0\n",
        "while x < len(colors):\n",
        "    print(colors[x], end=' ')\n",
        "    x += 1"
      ],
      "execution_count": 78,
      "outputs": [
        {
          "output_type": "stream",
          "text": [
            "['neha', 21, True, 50.678]\n",
            "4\n",
            "neha 21 True 50.678 \n",
            "range(1, 10)\n",
            "[1, 2, 3, 4, 5, 6, 7, 8, 9]\n",
            "purple teal magenta blue \n",
            "purple teal magenta blue "
          ],
          "name": "stdout"
        }
      ]
    },
    {
      "cell_type": "code",
      "metadata": {
        "colab": {
          "base_uri": "https://localhost:8080/"
        },
        "id": "7Z8P8cmVfQBU",
        "outputId": "3ad03a03-7db4-48f8-bad9-a10c45324621"
      },
      "source": [
        "# append: add one item to the list\n",
        "# extend: add more than one item to the list\n",
        "# insert: add one item at a given position\n",
        "# clear: remove all items from the list\n",
        "# demo: remove last element or element in the given position\n",
        "# remove: remove the first appearance of a given number\n",
        "\n",
        "list = [100,5,6,8]\n",
        "list.append(809)\n",
        "list.append(101)\n",
        "list.append(406)\n",
        "print(list)\n",
        "\n",
        "list_one = [1, 2, 4]\n",
        "list_two = [5, 6, 7, 8]\n",
        "list_one.insert(1, 3)\n",
        "print(list_one)\n",
        "\n",
        "# list_one.append(list_two)\n",
        "list_one.extend(list_two)\n",
        "print(list_one)\n",
        "\n",
        "demo = list_two\n",
        "print(demo)\n",
        "demo.clear()\n",
        "print(demo)\n",
        "\n",
        "\n",
        "demo = list_one\n",
        "print(demo.pop())\n",
        "print(demo.pop(1))\n",
        "\n",
        "nums = [1, 3, 4, 6, 5, 4,6]\n",
        "nums.remove(4)\n",
        "nums.remove(6)\n",
        "print(nums)"
      ],
      "execution_count": 81,
      "outputs": [
        {
          "output_type": "stream",
          "text": [
            "[100, 5, 6, 8, 809, 101, 406]\n",
            "[1, 3, 2, 4]\n",
            "[1, 3, 2, 4, 5, 6, 7, 8]\n",
            "[5, 6, 7, 8]\n",
            "[]\n",
            "8\n",
            "3\n",
            "[1, 3, 5, 4, 6]\n"
          ],
          "name": "stdout"
        }
      ]
    },
    {
      "cell_type": "code",
      "metadata": {
        "colab": {
          "base_uri": "https://localhost:8080/"
        },
        "id": "gWzm2jB1hcAs",
        "outputId": "0da7e73b-13b4-4bad-fd81-f6ebf828f55a"
      },
      "source": [
        "numbers = [5, 9, 5, 6, 7, 5, 8, 8, 9, 10, 15]\n",
        "# index\n",
        "print(numbers.index(5))         # first appearance of 5 #0\n",
        "print(numbers.index(5, 3))      # first appearance of 5 after index 3 #5\n",
        "print(numbers.index(9, 6, 9))   # first appearance of 9 in between index 6 & 9 #8\n",
        "print()\n",
        "\n",
        "# count()\n",
        "print(numbers.count(5))     #3\n",
        "print(numbers.count(14))    #0\n",
        "print(numbers.count(8))     #2\n",
        "\n",
        "# reverse()\n",
        "numbers.reverse()\n",
        "print(\"Reversed: \")\n",
        "print(numbers)\n",
        "\n",
        "# sort()\n",
        "numbers.sort()\n",
        "print(\"Sorted: \")\n",
        "print(numbers)"
      ],
      "execution_count": 84,
      "outputs": [
        {
          "output_type": "stream",
          "text": [
            "0\n",
            "5\n",
            "8\n",
            "\n",
            "3\n",
            "0\n",
            "2\n",
            "Reversed: \n",
            "[15, 10, 9, 8, 8, 5, 7, 6, 5, 9, 5]\n",
            "Sorted: \n",
            "[5, 5, 5, 6, 7, 8, 8, 9, 9, 10, 15]\n"
          ],
          "name": "stdout"
        }
      ]
    },
    {
      "cell_type": "code",
      "metadata": {
        "colab": {
          "base_uri": "https://localhost:8080/"
        },
        "id": "I--FhTm9iTi4",
        "outputId": "0a6d9d76-c31f-44e8-deea-c823a8935287"
      },
      "source": [
        "first_list = [1, 20, 300, 404, 5, 706]\n",
        "# exclusing counting\n",
        "print(first_list[2:])     \n",
        "print(first_list[:3])       \n",
        "print(first_list[2:5]) \n",
        "\n",
        "# [start:end:step]\n",
        "print(first_list[20:])     \n",
        "print(first_list[1::2]) \n",
        "print(first_list[1:4:2])    \n",
        "print(first_list[1:3:2])    \n",
        "print(first_list[::4])      \n",
        "\n",
        "print(first_list[1::-1])   \n",
        "print(first_list[:1:-1])    \n",
        "print(first_list[2::-1])    "
      ],
      "execution_count": 90,
      "outputs": [
        {
          "output_type": "stream",
          "text": [
            "[300, 404, 5, 706]\n",
            "[1, 20, 300]\n",
            "[300, 404, 5]\n",
            "[]\n",
            "[20, 404, 706]\n",
            "[20, 404]\n",
            "[20]\n",
            "[1, 5]\n",
            "[20, 1]\n",
            "[706, 5, 404, 300]\n",
            "[300, 20, 1]\n"
          ],
          "name": "stdout"
        }
      ]
    },
    {
      "cell_type": "code",
      "metadata": {
        "colab": {
          "base_uri": "https://localhost:8080/"
        },
        "id": "8btHugU0jnZD",
        "outputId": "4d18636c-deb8-463d-aca8-4be165be4423"
      },
      "source": [
        "nums = [1, 2, 3, 4]\n",
        "\n",
        "nums = [x*10 for x in nums]\n",
        "\n",
        "print(nums)\n",
        "print([x * 10 for x in nums])\n",
        "\n",
        "name = 'lipsita'\n",
        "\n",
        "_name = [char.upper() for char in name]\n",
        "print(_name)\n",
        "\n",
        "friends = [\"sriju\", \"tani\", \"puja\"]\n",
        "\n",
        "print([friend[1].upper() for friend in friends])\n",
        "# print(my_friend)\n",
        "\n",
        "numbers = range(1, 11)\n",
        "\n",
        "evens = [x for x in numbers if x % 2 == 0]\n",
        "odds  = [x for x in numbers if x % 2 == 1]\n",
        "print(evens)\n",
        "print(odds)\n",
        "\n",
        "special = [x * 2 if x % 2 == 0 else x / 2 for x in numbers]\n",
        "print(special)"
      ],
      "execution_count": 92,
      "outputs": [
        {
          "output_type": "stream",
          "text": [
            "[10, 20, 30, 40]\n",
            "[100, 200, 300, 400]\n",
            "['L', 'I', 'P', 'S', 'I', 'T', 'A']\n",
            "['R', 'A', 'U']\n",
            "[2, 4, 6, 8, 10]\n",
            "[1, 3, 5, 7, 9]\n",
            "[0.5, 4, 1.5, 8, 2.5, 12, 3.5, 16, 4.5, 20]\n"
          ],
          "name": "stdout"
        }
      ]
    },
    {
      "cell_type": "code",
      "metadata": {
        "colab": {
          "base_uri": "https://localhost:8080/"
        },
        "id": "L-8F2dvClfvm",
        "outputId": "b0dbe22c-5f46-4633-efff-cc13a83c7952"
      },
      "source": [
        "maze = [[1, 2, 3],[4, 5, 6],[7, 8, 9]]\n",
        "\n",
        "for row in maze:\n",
        "    for val in row:\n",
        "        print(val, end=' ')\n",
        "    print()\n",
        "print(maze[2][2])\n",
        "print()\n",
        "print()\n",
        "[[print(val) for val in row ] for row in maze]"
      ],
      "execution_count": 93,
      "outputs": [
        {
          "output_type": "stream",
          "text": [
            "1 2 3 \n",
            "4 5 6 \n",
            "7 8 9 \n",
            "9\n",
            "\n",
            "\n",
            "1\n",
            "2\n",
            "3\n",
            "4\n",
            "5\n",
            "6\n",
            "7\n",
            "8\n",
            "9\n"
          ],
          "name": "stdout"
        },
        {
          "output_type": "execute_result",
          "data": {
            "text/plain": [
              "[[None, None, None], [None, None, None], [None, None, None]]"
            ]
          },
          "metadata": {
            "tags": []
          },
          "execution_count": 93
        }
      ]
    },
    {
      "cell_type": "code",
      "metadata": {
        "colab": {
          "base_uri": "https://localhost:8080/"
        },
        "id": "0Z9VlvzemATL",
        "outputId": "f504e72a-70a9-426e-e3e7-339b4f29147f"
      },
      "source": [
        "person = {\n",
        "    'first_name': \"lipsita\",\n",
        "    'last_name': \"sahu\",\n",
        "    'age': 21,\n",
        "    'sex': \"F\",\n",
        "    'married': False\n",
        "}\n",
        "\n",
        "print(person['first_name'])\n",
        "print(person['sex'])\n",
        "\n",
        "for key in person.keys():\n",
        "    print(key)\n",
        "\n",
        "for value in person.values():\n",
        "    print(value)\n",
        "\n",
        "for key, value in person.items():\n",
        "    print(f\"{key} : {value}\")\n",
        "\n",
        "if 'sex' in person.values():\n",
        "    print(\"Yes, it have!\")"
      ],
      "execution_count": 94,
      "outputs": [
        {
          "output_type": "stream",
          "text": [
            "lipsita\n",
            "F\n",
            "first_name\n",
            "last_name\n",
            "age\n",
            "sex\n",
            "married\n",
            "lipsita\n",
            "sahu\n",
            "21\n",
            "F\n",
            "False\n",
            "first_name : lipsita\n",
            "last_name : sahu\n",
            "age : 21\n",
            "sex : F\n",
            "married : False\n"
          ],
          "name": "stdout"
        }
      ]
    },
    {
      "cell_type": "code",
      "metadata": {
        "colab": {
          "base_uri": "https://localhost:8080/"
        },
        "id": "Mavf-uFgmWqz",
        "outputId": "324b2894-56e3-49b8-8d88-8ffbd1c303c4"
      },
      "source": [
        "person = {\n",
        "    'first_name': \"H\",\n",
        "    'last_name': \"M\",\n",
        "    'age': 25,\n",
        "    'sex': \"Male\",\n",
        "    'married': False\n",
        "}\n",
        "\n",
        "# copy: copy a dictionary\n",
        "individual = person.copy()\n",
        "print(individual)\n",
        "\n",
        "print(person is individual)\n",
        "print(person == individual)\n",
        "\n",
        "# clear: delete everything\n",
        "individual.clear()\n",
        "print(individual)\n",
        "\n",
        "# fromkeys\n",
        "new_user = {}.fromkeys(['name', 'score', 'email'], 'unknown')\n",
        "print(new_user)\n",
        "\n",
        "# get\n",
        "name = person.get('first_name') # returns value of the key\n",
        "email = person.get('email')     # doesn't exist: None\n",
        "print(email)\n",
        "\n",
        "# pop\n",
        "person.pop('married')   # pop out the k-v pair of the given key\n",
        "print(person)\n",
        "\n",
        "# popitem\n",
        "print(person.popitem())  # pop randomly one item\n",
        "print(person)\n",
        "\n",
        "# update\n",
        "individual.update(person)\n",
        "print(individual)"
      ],
      "execution_count": 95,
      "outputs": [
        {
          "output_type": "stream",
          "text": [
            "{'first_name': 'H', 'last_name': 'M', 'age': 25, 'sex': 'Male', 'married': False}\n",
            "False\n",
            "True\n",
            "{}\n",
            "{'name': 'unknown', 'score': 'unknown', 'email': 'unknown'}\n",
            "None\n",
            "{'first_name': 'H', 'last_name': 'M', 'age': 25, 'sex': 'Male'}\n",
            "('sex', 'Male')\n",
            "{'first_name': 'H', 'last_name': 'M', 'age': 25}\n",
            "{'first_name': 'H', 'last_name': 'M', 'age': 25}\n"
          ],
          "name": "stdout"
        }
      ]
    },
    {
      "cell_type": "code",
      "metadata": {
        "colab": {
          "base_uri": "https://localhost:8080/"
        },
        "id": "bF1EwWZLmoDB",
        "outputId": "56709fc7-3fb0-407b-ed3d-0d0314253142"
      },
      "source": [
        "playlist = {\n",
        "    'title': \"Patagonia Bus\",\n",
        "    'author': \"Humayun\",\n",
        "    'songs': [\n",
        "        {\n",
        "            'song_title': \"Song One\",\n",
        "            'artist': ['Artist 1', 'Artist 2'],\n",
        "            'duration': 10.31,\n",
        "        },\n",
        "        {\n",
        "            'song_title': \"Song Two\",\n",
        "            'artist': ['Artist 1'],\n",
        "            'duration': 12.53,\n",
        "        },\n",
        "        {\n",
        "            'song_title': \"Song Three\",\n",
        "            'artist': ['Artist 1', 'Artist 2', 'Artist 3'],\n",
        "            'duration': 3.43,\n",
        "        }\n",
        "    ]\n",
        "}\n",
        "\n",
        "total_duration = 0.0\n",
        "for song in playlist['songs']:\n",
        "    total_duration += song['duration']\n",
        "    print(song['song_title'])\n",
        "print(total_duration)"
      ],
      "execution_count": 97,
      "outputs": [
        {
          "output_type": "stream",
          "text": [
            "Song One\n",
            "Song Two\n",
            "Song Three\n",
            "26.27\n"
          ],
          "name": "stdout"
        }
      ]
    },
    {
      "cell_type": "code",
      "metadata": {
        "colab": {
          "base_uri": "https://localhost:8080/"
        },
        "id": "M6GHf5nBnSEG",
        "outputId": "15ad255e-af48-4366-f233-e23d26b3a3ff"
      },
      "source": [
        "nums = {\n",
        "    'a': 1,\n",
        "    'b': 2,\n",
        "    'c': 4\n",
        "}\n",
        "sq_nums = {key: value **2 for key, value in nums.items()}\n",
        "print(sq_nums)\n",
        "\n",
        "sq_numbers = {num: num**3 for num in [1, 2, 3, 4, 5]}\n",
        "print(sq_numbers)\n",
        "\n",
        "str1 = 'ABC'\n",
        "str2 = '123'\n",
        "combo = {str1[i]:str2[i] for i in range(0, len(str1))}\n",
        "print(combo)\n",
        "\n",
        "num_list = [1, 2, 3, 4, 5, 6]\n",
        "parity = {num:(\"even\" if num % 2 == 0 else \"odd\") for num in num_list}\n",
        "print(parity)"
      ],
      "execution_count": 98,
      "outputs": [
        {
          "output_type": "stream",
          "text": [
            "{'a': 1, 'b': 4, 'c': 16}\n",
            "{1: 1, 2: 8, 3: 27, 4: 64, 5: 125}\n",
            "{'A': '1', 'B': '2', 'C': '3'}\n",
            "{1: 'odd', 2: 'even', 3: 'odd', 4: 'even', 5: 'odd', 6: 'even'}\n"
          ],
          "name": "stdout"
        }
      ]
    },
    {
      "cell_type": "code",
      "metadata": {
        "colab": {
          "base_uri": "https://localhost:8080/"
        },
        "id": "Og4-rO_rnmpM",
        "outputId": "1c35b5ee-877f-41cc-c6e8-8d784a8ad8c0"
      },
      "source": [
        "def wish_birthday():\n",
        "    print(\"Happy Birth Day\")\n",
        "\n",
        "\n",
        "wish_birthday()\n",
        "\n",
        "\n",
        "def square_number(number):\n",
        "    return number * number\n",
        "\n",
        "\n",
        "val = square_number(3)\n",
        "print(val)"
      ],
      "execution_count": 101,
      "outputs": [
        {
          "output_type": "stream",
          "text": [
            "Happy Birth Day\n",
            "9\n"
          ],
          "name": "stdout"
        }
      ]
    },
    {
      "cell_type": "code",
      "metadata": {
        "colab": {
          "base_uri": "https://localhost:8080/"
        },
        "id": "cAAnfRXcoYwl",
        "outputId": "09bcbc58-921b-4dca-fe5f-43933fef5cf9"
      },
      "source": [
        "from random import random\n",
        "\n",
        "\n",
        "def flip_coin():\n",
        "    rand = random()\n",
        "    if rand >= 0.5:\n",
        "        return \"Heads\"\n",
        "    else:\n",
        "        return \"Tails\"\n",
        "\n",
        "\n",
        "# function ovverriding\n",
        "def flip_coin():\n",
        "    if random() >= 0.5:\n",
        "        return \"HEADS\"\n",
        "    else:\n",
        "        return \"TAILS\"\n",
        "\n",
        "\n",
        "print(flip_coin())\n",
        "print(flip_coin())\n",
        "print(flip_coin())\n",
        "print(flip_coin())"
      ],
      "execution_count": 104,
      "outputs": [
        {
          "output_type": "stream",
          "text": [
            "HEADS\n",
            "TAILS\n",
            "HEADS\n",
            "HEADS\n"
          ],
          "name": "stdout"
        }
      ]
    },
    {
      "cell_type": "code",
      "metadata": {
        "colab": {
          "base_uri": "https://localhost:8080/"
        },
        "id": "pnOhOs5vo2ai",
        "outputId": "dfb960e9-e29f-4648-e18d-abdfb9c5fda3"
      },
      "source": [
        "from random import random\n",
        "\n",
        "\n",
        "def flip_coin():\n",
        "    rand = random()\n",
        "    if rand >= 0.5:\n",
        "        return \"Heads\"\n",
        "    else:\n",
        "        return \"Tails\"\n",
        "\n",
        "\n",
        "# function ovverriding\n",
        "def flip_coin():\n",
        "    if random() >= 0.5:\n",
        "        return \"HEADS\"\n",
        "    else:\n",
        "        return \"TAILS\"\n",
        "\n",
        "\n",
        "print(flip_coin())\n",
        "print(flip_coin())\n",
        "print(flip_coin())\n",
        "print(flip_coin())"
      ],
      "execution_count": 105,
      "outputs": [
        {
          "output_type": "stream",
          "text": [
            "TAILS\n",
            "HEADS\n",
            "TAILS\n",
            "HEADS\n"
          ],
          "name": "stdout"
        }
      ]
    },
    {
      "cell_type": "code",
      "metadata": {
        "colab": {
          "base_uri": "https://localhost:8080/"
        },
        "id": "UO4bZmMfo870",
        "outputId": "dcd68c34-9888-4751-fe1c-96f1bd7bdfe1"
      },
      "source": [
        "def add(a, b):\n",
        "    return a + b\n",
        "\n",
        "print(add(3.0, 0.4))\n",
        "\n",
        "\n",
        "def full_name(first_name, last_name):\n",
        "    print(f\"Your Name is {first_name} {last_name}\")\n",
        "\n",
        "full_name(\"lipsita\", \"sahu\")"
      ],
      "execution_count": 106,
      "outputs": [
        {
          "output_type": "stream",
          "text": [
            "3.4\n",
            "Your Name is lipsita sahu\n"
          ],
          "name": "stdout"
        }
      ]
    },
    {
      "cell_type": "code",
      "metadata": {
        "colab": {
          "base_uri": "https://localhost:8080/"
        },
        "id": "eqCghuK4pKDJ",
        "outputId": "29eb2a55-1e05-4cc2-d34f-df14b4140db6"
      },
      "source": [
        "def exponent(num, power=6):     # default parameter\n",
        "    return num ** power\n",
        "\n",
        "\n",
        "print(exponent(3, 2)) #3*3\n",
        "print(exponent(4))\n",
        "print(exponent(5))\n",
        "# keyword arguements\n",
        "print(exponent(power=3, num=4))\n",
        "\n",
        "\n",
        "def add(a, b):\n",
        "    return a + b\n",
        "\n",
        "\n",
        "def subtract(a, b):\n",
        "    return abs(a-b)\n",
        "\n",
        "\n",
        "def math(a, b, fn = add):\n",
        "    return fn(a, b)\n",
        "\n",
        "\n",
        "print(math(3, 4))\n",
        "func = add\n",
        "print(math(3, 4, func))\n",
        "func = subtract\n",
        "print(math(3, 4, func))"
      ],
      "execution_count": 107,
      "outputs": [
        {
          "output_type": "stream",
          "text": [
            "9\n",
            "4096\n",
            "15625\n",
            "64\n",
            "7\n",
            "7\n",
            "1\n"
          ],
          "name": "stdout"
        }
      ]
    },
    {
      "cell_type": "code",
      "metadata": {
        "id": "SR6VJx9LpZ6E"
      },
      "source": [
        ""
      ],
      "execution_count": null,
      "outputs": []
    }
  ]
}