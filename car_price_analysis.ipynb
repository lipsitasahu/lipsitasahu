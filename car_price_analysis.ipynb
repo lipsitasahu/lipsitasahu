{
  "nbformat": 4,
  "nbformat_minor": 0,
  "metadata": {
    "kernelspec": {
      "display_name": "Python 3",
      "language": "python",
      "name": "python3"
    },
    "language_info": {
      "codemirror_mode": {
        "name": "ipython",
        "version": 3
      },
      "file_extension": ".py",
      "mimetype": "text/x-python",
      "name": "python",
      "nbconvert_exporter": "python",
      "pygments_lexer": "ipython3",
      "version": "3.7.3"
    },
    "colab": {
      "name": "car price analysis.ipynb",
      "provenance": [],
      "include_colab_link": true
    }
  },
  "cells": [
    {
      "cell_type": "markdown",
      "metadata": {
        "id": "view-in-github",
        "colab_type": "text"
      },
      "source": [
        "<a href=\"https://colab.research.google.com/github/lipsitasahu/lipsitasahu/blob/main/car_price_analysis.ipynb\" target=\"_parent\"><img src=\"https://colab.research.google.com/assets/colab-badge.svg\" alt=\"Open In Colab\"/></a>"
      ]
    },
    {
      "cell_type": "code",
      "metadata": {
        "id": "o6_bWX3nTqXy",
        "outputId": "15f5aee0-37f0-4b73-c1f4-b53701a4ffa7"
      },
      "source": [
        "import pandas as pd\n",
        "import numpy as np\n",
        "import matplotlib.pyplot as plt\n",
        "import seaborn as sns"
      ],
      "execution_count": null,
      "outputs": [
        {
          "name": "stderr",
          "output_type": "stream",
          "text": [
            "C:\\Users\\lipsita\\Anaconda3\\lib\\site-packages\\statsmodels\\tools\\_testing.py:19: FutureWarning: pandas.util.testing is deprecated. Use the functions in the public API at pandas.testing instead.\n",
            "  import pandas.util.testing as tm\n"
          ]
        }
      ]
    },
    {
      "cell_type": "code",
      "metadata": {
        "id": "OOi_iqlvTqX2"
      },
      "source": [
        "df=pd.read_csv(\"Car Price Analysis.csv\")"
      ],
      "execution_count": null,
      "outputs": []
    },
    {
      "cell_type": "code",
      "metadata": {
        "id": "RuU5aeTRTqX4",
        "outputId": "b5a72443-c0fb-4199-fd47-04c7a62c804d"
      },
      "source": [
        "df.head()"
      ],
      "execution_count": null,
      "outputs": [
        {
          "data": {
            "text/html": [
              "<div>\n",
              "<style scoped>\n",
              "    .dataframe tbody tr th:only-of-type {\n",
              "        vertical-align: middle;\n",
              "    }\n",
              "\n",
              "    .dataframe tbody tr th {\n",
              "        vertical-align: top;\n",
              "    }\n",
              "\n",
              "    .dataframe thead th {\n",
              "        text-align: right;\n",
              "    }\n",
              "</style>\n",
              "<table border=\"1\" class=\"dataframe\">\n",
              "  <thead>\n",
              "    <tr style=\"text-align: right;\">\n",
              "      <th></th>\n",
              "      <th>carlength</th>\n",
              "      <th>carwidth</th>\n",
              "      <th>carheight</th>\n",
              "      <th>price</th>\n",
              "      <th>Affordable</th>\n",
              "    </tr>\n",
              "  </thead>\n",
              "  <tbody>\n",
              "    <tr>\n",
              "      <th>0</th>\n",
              "      <td>141.1</td>\n",
              "      <td>60.3</td>\n",
              "      <td>47.8</td>\n",
              "      <td>5151.0</td>\n",
              "      <td>YES</td>\n",
              "    </tr>\n",
              "    <tr>\n",
              "      <th>1</th>\n",
              "      <td>144.6</td>\n",
              "      <td>61.8</td>\n",
              "      <td>48.8</td>\n",
              "      <td>5195.0</td>\n",
              "      <td>YES</td>\n",
              "    </tr>\n",
              "    <tr>\n",
              "      <th>2</th>\n",
              "      <td>144.6</td>\n",
              "      <td>62.5</td>\n",
              "      <td>48.8</td>\n",
              "      <td>5389.0</td>\n",
              "      <td>YES</td>\n",
              "    </tr>\n",
              "    <tr>\n",
              "      <th>3</th>\n",
              "      <td>150.0</td>\n",
              "      <td>63.6</td>\n",
              "      <td>49.4</td>\n",
              "      <td>5399.0</td>\n",
              "      <td>YES</td>\n",
              "    </tr>\n",
              "    <tr>\n",
              "      <th>4</th>\n",
              "      <td>150.0</td>\n",
              "      <td>63.6</td>\n",
              "      <td>49.4</td>\n",
              "      <td>5499.0</td>\n",
              "      <td>YES</td>\n",
              "    </tr>\n",
              "  </tbody>\n",
              "</table>\n",
              "</div>"
            ],
            "text/plain": [
              "   carlength  carwidth  carheight   price Affordable\n",
              "0      141.1      60.3       47.8  5151.0        YES\n",
              "1      144.6      61.8       48.8  5195.0        YES\n",
              "2      144.6      62.5       48.8  5389.0        YES\n",
              "3      150.0      63.6       49.4  5399.0        YES\n",
              "4      150.0      63.6       49.4  5499.0        YES"
            ]
          },
          "execution_count": 3,
          "metadata": {},
          "output_type": "execute_result"
        }
      ]
    },
    {
      "cell_type": "code",
      "metadata": {
        "id": "NIyN2fGVTqX5",
        "outputId": "62e03b8b-7127-4f3c-ac86-66974d2cab80"
      },
      "source": [
        "df.tail()"
      ],
      "execution_count": null,
      "outputs": [
        {
          "data": {
            "text/html": [
              "<div>\n",
              "<style scoped>\n",
              "    .dataframe tbody tr th:only-of-type {\n",
              "        vertical-align: middle;\n",
              "    }\n",
              "\n",
              "    .dataframe tbody tr th {\n",
              "        vertical-align: top;\n",
              "    }\n",
              "\n",
              "    .dataframe thead th {\n",
              "        text-align: right;\n",
              "    }\n",
              "</style>\n",
              "<table border=\"1\" class=\"dataframe\">\n",
              "  <thead>\n",
              "    <tr style=\"text-align: right;\">\n",
              "      <th></th>\n",
              "      <th>carlength</th>\n",
              "      <th>carwidth</th>\n",
              "      <th>carheight</th>\n",
              "      <th>price</th>\n",
              "      <th>Affordable</th>\n",
              "    </tr>\n",
              "  </thead>\n",
              "  <tbody>\n",
              "    <tr>\n",
              "      <th>114</th>\n",
              "      <td>199.6</td>\n",
              "      <td>71.4</td>\n",
              "      <td>58.7</td>\n",
              "      <td>36000.0</td>\n",
              "      <td>NO</td>\n",
              "    </tr>\n",
              "    <tr>\n",
              "      <th>115</th>\n",
              "      <td>199.6</td>\n",
              "      <td>71.7</td>\n",
              "      <td>58.7</td>\n",
              "      <td>36880.0</td>\n",
              "      <td>NO</td>\n",
              "    </tr>\n",
              "    <tr>\n",
              "      <th>116</th>\n",
              "      <td>202.6</td>\n",
              "      <td>71.7</td>\n",
              "      <td>58.7</td>\n",
              "      <td>40960.0</td>\n",
              "      <td>NO</td>\n",
              "    </tr>\n",
              "    <tr>\n",
              "      <th>117</th>\n",
              "      <td>202.6</td>\n",
              "      <td>71.7</td>\n",
              "      <td>58.7</td>\n",
              "      <td>41315.0</td>\n",
              "      <td>NO</td>\n",
              "    </tr>\n",
              "    <tr>\n",
              "      <th>118</th>\n",
              "      <td>208.1</td>\n",
              "      <td>72.0</td>\n",
              "      <td>59.8</td>\n",
              "      <td>45400.0</td>\n",
              "      <td>NO</td>\n",
              "    </tr>\n",
              "  </tbody>\n",
              "</table>\n",
              "</div>"
            ],
            "text/plain": [
              "     carlength  carwidth  carheight    price Affordable\n",
              "114      199.6      71.4       58.7  36000.0         NO\n",
              "115      199.6      71.7       58.7  36880.0         NO\n",
              "116      202.6      71.7       58.7  40960.0         NO\n",
              "117      202.6      71.7       58.7  41315.0         NO\n",
              "118      208.1      72.0       59.8  45400.0         NO"
            ]
          },
          "execution_count": 4,
          "metadata": {},
          "output_type": "execute_result"
        }
      ]
    },
    {
      "cell_type": "code",
      "metadata": {
        "id": "jAUl5nMhTqX6",
        "outputId": "43ce4963-0695-4368-8b8e-4168d3f25569"
      },
      "source": [
        "df[10:11]"
      ],
      "execution_count": null,
      "outputs": [
        {
          "data": {
            "text/html": [
              "<div>\n",
              "<style scoped>\n",
              "    .dataframe tbody tr th:only-of-type {\n",
              "        vertical-align: middle;\n",
              "    }\n",
              "\n",
              "    .dataframe tbody tr th {\n",
              "        vertical-align: top;\n",
              "    }\n",
              "\n",
              "    .dataframe thead th {\n",
              "        text-align: right;\n",
              "    }\n",
              "</style>\n",
              "<table border=\"1\" class=\"dataframe\">\n",
              "  <thead>\n",
              "    <tr style=\"text-align: right;\">\n",
              "      <th></th>\n",
              "      <th>carlength</th>\n",
              "      <th>carwidth</th>\n",
              "      <th>carheight</th>\n",
              "      <th>price</th>\n",
              "      <th>Affordable</th>\n",
              "    </tr>\n",
              "  </thead>\n",
              "  <tbody>\n",
              "    <tr>\n",
              "      <th>10</th>\n",
              "      <td>157.3</td>\n",
              "      <td>63.8</td>\n",
              "      <td>49.7</td>\n",
              "      <td>6295.0</td>\n",
              "      <td>YES</td>\n",
              "    </tr>\n",
              "  </tbody>\n",
              "</table>\n",
              "</div>"
            ],
            "text/plain": [
              "    carlength  carwidth  carheight   price Affordable\n",
              "10      157.3      63.8       49.7  6295.0        YES"
            ]
          },
          "execution_count": 5,
          "metadata": {},
          "output_type": "execute_result"
        }
      ]
    },
    {
      "cell_type": "code",
      "metadata": {
        "id": "GZIroku9TqX7",
        "outputId": "f5a0ece9-e2fc-4ffa-8c8f-d7b07dacd1b2"
      },
      "source": [
        "df[10:15]"
      ],
      "execution_count": null,
      "outputs": [
        {
          "data": {
            "text/html": [
              "<div>\n",
              "<style scoped>\n",
              "    .dataframe tbody tr th:only-of-type {\n",
              "        vertical-align: middle;\n",
              "    }\n",
              "\n",
              "    .dataframe tbody tr th {\n",
              "        vertical-align: top;\n",
              "    }\n",
              "\n",
              "    .dataframe thead th {\n",
              "        text-align: right;\n",
              "    }\n",
              "</style>\n",
              "<table border=\"1\" class=\"dataframe\">\n",
              "  <thead>\n",
              "    <tr style=\"text-align: right;\">\n",
              "      <th></th>\n",
              "      <th>carlength</th>\n",
              "      <th>carwidth</th>\n",
              "      <th>carheight</th>\n",
              "      <th>price</th>\n",
              "      <th>Affordable</th>\n",
              "    </tr>\n",
              "  </thead>\n",
              "  <tbody>\n",
              "    <tr>\n",
              "      <th>10</th>\n",
              "      <td>157.3</td>\n",
              "      <td>63.8</td>\n",
              "      <td>49.7</td>\n",
              "      <td>6295.0</td>\n",
              "      <td>YES</td>\n",
              "    </tr>\n",
              "    <tr>\n",
              "      <th>11</th>\n",
              "      <td>157.3</td>\n",
              "      <td>63.8</td>\n",
              "      <td>49.7</td>\n",
              "      <td>6377.0</td>\n",
              "      <td>YES</td>\n",
              "    </tr>\n",
              "    <tr>\n",
              "      <th>12</th>\n",
              "      <td>157.3</td>\n",
              "      <td>63.8</td>\n",
              "      <td>50.2</td>\n",
              "      <td>6479.0</td>\n",
              "      <td>YES</td>\n",
              "    </tr>\n",
              "    <tr>\n",
              "      <th>13</th>\n",
              "      <td>157.3</td>\n",
              "      <td>63.8</td>\n",
              "      <td>50.2</td>\n",
              "      <td>6529.0</td>\n",
              "      <td>YES</td>\n",
              "    </tr>\n",
              "    <tr>\n",
              "      <th>14</th>\n",
              "      <td>157.3</td>\n",
              "      <td>63.8</td>\n",
              "      <td>50.2</td>\n",
              "      <td>6575.0</td>\n",
              "      <td>YES</td>\n",
              "    </tr>\n",
              "  </tbody>\n",
              "</table>\n",
              "</div>"
            ],
            "text/plain": [
              "    carlength  carwidth  carheight   price Affordable\n",
              "10      157.3      63.8       49.7  6295.0        YES\n",
              "11      157.3      63.8       49.7  6377.0        YES\n",
              "12      157.3      63.8       50.2  6479.0        YES\n",
              "13      157.3      63.8       50.2  6529.0        YES\n",
              "14      157.3      63.8       50.2  6575.0        YES"
            ]
          },
          "execution_count": 6,
          "metadata": {},
          "output_type": "execute_result"
        }
      ]
    },
    {
      "cell_type": "code",
      "metadata": {
        "id": "LBH34KocTqX8",
        "outputId": "43761fa9-6746-45cc-fe36-0ffa796b3b9c"
      },
      "source": [
        "df[10:30]"
      ],
      "execution_count": null,
      "outputs": [
        {
          "data": {
            "text/html": [
              "<div>\n",
              "<style scoped>\n",
              "    .dataframe tbody tr th:only-of-type {\n",
              "        vertical-align: middle;\n",
              "    }\n",
              "\n",
              "    .dataframe tbody tr th {\n",
              "        vertical-align: top;\n",
              "    }\n",
              "\n",
              "    .dataframe thead th {\n",
              "        text-align: right;\n",
              "    }\n",
              "</style>\n",
              "<table border=\"1\" class=\"dataframe\">\n",
              "  <thead>\n",
              "    <tr style=\"text-align: right;\">\n",
              "      <th></th>\n",
              "      <th>carlength</th>\n",
              "      <th>carwidth</th>\n",
              "      <th>carheight</th>\n",
              "      <th>price</th>\n",
              "      <th>Affordable</th>\n",
              "    </tr>\n",
              "  </thead>\n",
              "  <tbody>\n",
              "    <tr>\n",
              "      <th>10</th>\n",
              "      <td>157.3</td>\n",
              "      <td>63.8</td>\n",
              "      <td>49.7</td>\n",
              "      <td>6295.0</td>\n",
              "      <td>YES</td>\n",
              "    </tr>\n",
              "    <tr>\n",
              "      <th>11</th>\n",
              "      <td>157.3</td>\n",
              "      <td>63.8</td>\n",
              "      <td>49.7</td>\n",
              "      <td>6377.0</td>\n",
              "      <td>YES</td>\n",
              "    </tr>\n",
              "    <tr>\n",
              "      <th>12</th>\n",
              "      <td>157.3</td>\n",
              "      <td>63.8</td>\n",
              "      <td>50.2</td>\n",
              "      <td>6479.0</td>\n",
              "      <td>YES</td>\n",
              "    </tr>\n",
              "    <tr>\n",
              "      <th>13</th>\n",
              "      <td>157.3</td>\n",
              "      <td>63.8</td>\n",
              "      <td>50.2</td>\n",
              "      <td>6529.0</td>\n",
              "      <td>YES</td>\n",
              "    </tr>\n",
              "    <tr>\n",
              "      <th>14</th>\n",
              "      <td>157.3</td>\n",
              "      <td>63.8</td>\n",
              "      <td>50.2</td>\n",
              "      <td>6575.0</td>\n",
              "      <td>YES</td>\n",
              "    </tr>\n",
              "    <tr>\n",
              "      <th>15</th>\n",
              "      <td>157.3</td>\n",
              "      <td>63.8</td>\n",
              "      <td>50.2</td>\n",
              "      <td>6649.0</td>\n",
              "      <td>YES</td>\n",
              "    </tr>\n",
              "    <tr>\n",
              "      <th>16</th>\n",
              "      <td>157.3</td>\n",
              "      <td>63.8</td>\n",
              "      <td>50.6</td>\n",
              "      <td>6669.0</td>\n",
              "      <td>YES</td>\n",
              "    </tr>\n",
              "    <tr>\n",
              "      <th>17</th>\n",
              "      <td>157.3</td>\n",
              "      <td>63.8</td>\n",
              "      <td>50.6</td>\n",
              "      <td>6692.0</td>\n",
              "      <td>YES</td>\n",
              "    </tr>\n",
              "    <tr>\n",
              "      <th>18</th>\n",
              "      <td>157.3</td>\n",
              "      <td>63.8</td>\n",
              "      <td>50.6</td>\n",
              "      <td>6695.0</td>\n",
              "      <td>YES</td>\n",
              "    </tr>\n",
              "    <tr>\n",
              "      <th>19</th>\n",
              "      <td>157.3</td>\n",
              "      <td>63.8</td>\n",
              "      <td>50.6</td>\n",
              "      <td>6785.0</td>\n",
              "      <td>YES</td>\n",
              "    </tr>\n",
              "    <tr>\n",
              "      <th>20</th>\n",
              "      <td>157.3</td>\n",
              "      <td>63.8</td>\n",
              "      <td>50.8</td>\n",
              "      <td>6795.0</td>\n",
              "      <td>YES</td>\n",
              "    </tr>\n",
              "    <tr>\n",
              "      <th>21</th>\n",
              "      <td>157.3</td>\n",
              "      <td>63.8</td>\n",
              "      <td>50.8</td>\n",
              "      <td>6849.0</td>\n",
              "      <td>YES</td>\n",
              "    </tr>\n",
              "    <tr>\n",
              "      <th>22</th>\n",
              "      <td>158.8</td>\n",
              "      <td>63.8</td>\n",
              "      <td>50.8</td>\n",
              "      <td>6855.0</td>\n",
              "      <td>YES</td>\n",
              "    </tr>\n",
              "    <tr>\n",
              "      <th>23</th>\n",
              "      <td>159.1</td>\n",
              "      <td>63.8</td>\n",
              "      <td>50.8</td>\n",
              "      <td>6989.0</td>\n",
              "      <td>YES</td>\n",
              "    </tr>\n",
              "    <tr>\n",
              "      <th>24</th>\n",
              "      <td>159.1</td>\n",
              "      <td>63.8</td>\n",
              "      <td>50.8</td>\n",
              "      <td>7099.0</td>\n",
              "      <td>YES</td>\n",
              "    </tr>\n",
              "    <tr>\n",
              "      <th>25</th>\n",
              "      <td>159.1</td>\n",
              "      <td>63.8</td>\n",
              "      <td>50.8</td>\n",
              "      <td>7129.0</td>\n",
              "      <td>YES</td>\n",
              "    </tr>\n",
              "    <tr>\n",
              "      <th>26</th>\n",
              "      <td>162.4</td>\n",
              "      <td>63.9</td>\n",
              "      <td>50.8</td>\n",
              "      <td>7295.0</td>\n",
              "      <td>YES</td>\n",
              "    </tr>\n",
              "    <tr>\n",
              "      <th>27</th>\n",
              "      <td>163.4</td>\n",
              "      <td>63.9</td>\n",
              "      <td>50.8</td>\n",
              "      <td>7295.0</td>\n",
              "      <td>YES</td>\n",
              "    </tr>\n",
              "    <tr>\n",
              "      <th>28</th>\n",
              "      <td>165.3</td>\n",
              "      <td>63.9</td>\n",
              "      <td>50.8</td>\n",
              "      <td>7299.0</td>\n",
              "      <td>YES</td>\n",
              "    </tr>\n",
              "    <tr>\n",
              "      <th>29</th>\n",
              "      <td>165.3</td>\n",
              "      <td>64.0</td>\n",
              "      <td>50.8</td>\n",
              "      <td>7349.0</td>\n",
              "      <td>YES</td>\n",
              "    </tr>\n",
              "  </tbody>\n",
              "</table>\n",
              "</div>"
            ],
            "text/plain": [
              "    carlength  carwidth  carheight   price Affordable\n",
              "10      157.3      63.8       49.7  6295.0        YES\n",
              "11      157.3      63.8       49.7  6377.0        YES\n",
              "12      157.3      63.8       50.2  6479.0        YES\n",
              "13      157.3      63.8       50.2  6529.0        YES\n",
              "14      157.3      63.8       50.2  6575.0        YES\n",
              "15      157.3      63.8       50.2  6649.0        YES\n",
              "16      157.3      63.8       50.6  6669.0        YES\n",
              "17      157.3      63.8       50.6  6692.0        YES\n",
              "18      157.3      63.8       50.6  6695.0        YES\n",
              "19      157.3      63.8       50.6  6785.0        YES\n",
              "20      157.3      63.8       50.8  6795.0        YES\n",
              "21      157.3      63.8       50.8  6849.0        YES\n",
              "22      158.8      63.8       50.8  6855.0        YES\n",
              "23      159.1      63.8       50.8  6989.0        YES\n",
              "24      159.1      63.8       50.8  7099.0        YES\n",
              "25      159.1      63.8       50.8  7129.0        YES\n",
              "26      162.4      63.9       50.8  7295.0        YES\n",
              "27      163.4      63.9       50.8  7295.0        YES\n",
              "28      165.3      63.9       50.8  7299.0        YES\n",
              "29      165.3      64.0       50.8  7349.0        YES"
            ]
          },
          "execution_count": 7,
          "metadata": {},
          "output_type": "execute_result"
        }
      ]
    },
    {
      "cell_type": "code",
      "metadata": {
        "id": "AunuaRF1TqX-",
        "outputId": "d63f6bbe-cf0a-4fc0-ffd0-94ac0985a550"
      },
      "source": [
        "df.info()"
      ],
      "execution_count": null,
      "outputs": [
        {
          "name": "stdout",
          "output_type": "stream",
          "text": [
            "<class 'pandas.core.frame.DataFrame'>\n",
            "RangeIndex: 119 entries, 0 to 118\n",
            "Data columns (total 5 columns):\n",
            " #   Column      Non-Null Count  Dtype  \n",
            "---  ------      --------------  -----  \n",
            " 0   carlength   119 non-null    float64\n",
            " 1   carwidth    119 non-null    float64\n",
            " 2   carheight   119 non-null    float64\n",
            " 3   price       119 non-null    float64\n",
            " 4   Affordable  119 non-null    object \n",
            "dtypes: float64(4), object(1)\n",
            "memory usage: 4.8+ KB\n"
          ]
        }
      ]
    },
    {
      "cell_type": "code",
      "metadata": {
        "id": "ovIU-HL7TqYA",
        "outputId": "e76707ae-88a0-429c-d4c4-37471a6ca307"
      },
      "source": [
        "df.shape"
      ],
      "execution_count": null,
      "outputs": [
        {
          "data": {
            "text/plain": [
              "(119, 5)"
            ]
          },
          "execution_count": 9,
          "metadata": {},
          "output_type": "execute_result"
        }
      ]
    },
    {
      "cell_type": "code",
      "metadata": {
        "id": "uO4K-br8TqYC",
        "outputId": "547d38e7-f6fc-46bf-e040-e8a1084d3314"
      },
      "source": [
        "df.columns"
      ],
      "execution_count": null,
      "outputs": [
        {
          "data": {
            "text/plain": [
              "Index(['carlength', 'carwidth', 'carheight', 'price', 'Affordable'], dtype='object')"
            ]
          },
          "execution_count": 10,
          "metadata": {},
          "output_type": "execute_result"
        }
      ]
    },
    {
      "cell_type": "code",
      "metadata": {
        "id": "3G1_4b4iTqYE",
        "outputId": "a3516845-a146-4dee-d8aa-8ed6a4778ee3"
      },
      "source": [
        "df.describe()"
      ],
      "execution_count": null,
      "outputs": [
        {
          "data": {
            "text/html": [
              "<div>\n",
              "<style scoped>\n",
              "    .dataframe tbody tr th:only-of-type {\n",
              "        vertical-align: middle;\n",
              "    }\n",
              "\n",
              "    .dataframe tbody tr th {\n",
              "        vertical-align: top;\n",
              "    }\n",
              "\n",
              "    .dataframe thead th {\n",
              "        text-align: right;\n",
              "    }\n",
              "</style>\n",
              "<table border=\"1\" class=\"dataframe\">\n",
              "  <thead>\n",
              "    <tr style=\"text-align: right;\">\n",
              "      <th></th>\n",
              "      <th>carlength</th>\n",
              "      <th>carwidth</th>\n",
              "      <th>carheight</th>\n",
              "      <th>price</th>\n",
              "    </tr>\n",
              "  </thead>\n",
              "  <tbody>\n",
              "    <tr>\n",
              "      <th>count</th>\n",
              "      <td>119.000000</td>\n",
              "      <td>119.000000</td>\n",
              "      <td>119.000000</td>\n",
              "      <td>119.000000</td>\n",
              "    </tr>\n",
              "    <tr>\n",
              "      <th>mean</th>\n",
              "      <td>173.768908</td>\n",
              "      <td>66.050420</td>\n",
              "      <td>53.427731</td>\n",
              "      <td>13996.261908</td>\n",
              "    </tr>\n",
              "    <tr>\n",
              "      <th>std</th>\n",
              "      <td>14.154641</td>\n",
              "      <td>2.452286</td>\n",
              "      <td>2.577508</td>\n",
              "      <td>8920.732508</td>\n",
              "    </tr>\n",
              "    <tr>\n",
              "      <th>min</th>\n",
              "      <td>141.100000</td>\n",
              "      <td>60.300000</td>\n",
              "      <td>47.800000</td>\n",
              "      <td>5151.000000</td>\n",
              "    </tr>\n",
              "    <tr>\n",
              "      <th>25%</th>\n",
              "      <td>165.300000</td>\n",
              "      <td>64.000000</td>\n",
              "      <td>50.800000</td>\n",
              "      <td>7372.000000</td>\n",
              "    </tr>\n",
              "    <tr>\n",
              "      <th>50%</th>\n",
              "      <td>173.200000</td>\n",
              "      <td>65.400000</td>\n",
              "      <td>53.700000</td>\n",
              "      <td>10945.000000</td>\n",
              "    </tr>\n",
              "    <tr>\n",
              "      <th>75%</th>\n",
              "      <td>183.150000</td>\n",
              "      <td>67.900000</td>\n",
              "      <td>55.250000</td>\n",
              "      <td>17000.000000</td>\n",
              "    </tr>\n",
              "    <tr>\n",
              "      <th>max</th>\n",
              "      <td>208.100000</td>\n",
              "      <td>72.000000</td>\n",
              "      <td>59.800000</td>\n",
              "      <td>45400.000000</td>\n",
              "    </tr>\n",
              "  </tbody>\n",
              "</table>\n",
              "</div>"
            ],
            "text/plain": [
              "        carlength    carwidth   carheight         price\n",
              "count  119.000000  119.000000  119.000000    119.000000\n",
              "mean   173.768908   66.050420   53.427731  13996.261908\n",
              "std     14.154641    2.452286    2.577508   8920.732508\n",
              "min    141.100000   60.300000   47.800000   5151.000000\n",
              "25%    165.300000   64.000000   50.800000   7372.000000\n",
              "50%    173.200000   65.400000   53.700000  10945.000000\n",
              "75%    183.150000   67.900000   55.250000  17000.000000\n",
              "max    208.100000   72.000000   59.800000  45400.000000"
            ]
          },
          "execution_count": 11,
          "metadata": {},
          "output_type": "execute_result"
        }
      ]
    },
    {
      "cell_type": "code",
      "metadata": {
        "id": "JiOcyipSTqYF",
        "outputId": "bea90a37-939d-49ee-d13e-22417625bfc1"
      },
      "source": [
        "plt.boxplot(df.carlength)"
      ],
      "execution_count": null,
      "outputs": [
        {
          "data": {
            "text/plain": [
              "{'whiskers': [<matplotlib.lines.Line2D at 0x1d8ee718f98>,\n",
              "  <matplotlib.lines.Line2D at 0x1d8ee731390>],\n",
              " 'caps': [<matplotlib.lines.Line2D at 0x1d8ee731710>,\n",
              "  <matplotlib.lines.Line2D at 0x1d8ee731a90>],\n",
              " 'boxes': [<matplotlib.lines.Line2D at 0x1d8ee718e48>],\n",
              " 'medians': [<matplotlib.lines.Line2D at 0x1d8ee731e10>],\n",
              " 'fliers': [<matplotlib.lines.Line2D at 0x1d8ee73d1d0>],\n",
              " 'means': []}"
            ]
          },
          "execution_count": 12,
          "metadata": {},
          "output_type": "execute_result"
        },
        {
          "data": {
            "image/png": "[encoded data removed]",
            "text/plain": [
              "<Figure size 432x288 with 1 Axes>"
            ]
          },
          "metadata": {
            "needs_background": "light"
          },
          "output_type": "display_data"
        }
      ]
    },
    {
      "cell_type": "code",
      "metadata": {
        "id": "sXSAt5H_TqYG",
        "outputId": "3ee32921-e22c-41ba-8d87-87c4ad0cb8f8"
      },
      "source": [
        "sns.boxplot(df.carwidth,orient='v')"
      ],
      "execution_count": null,
      "outputs": [
        {
          "data": {
            "text/plain": [
              "<matplotlib.axes._subplots.AxesSubplot at 0x1d8ee777908>"
            ]
          },
          "execution_count": 13,
          "metadata": {},
          "output_type": "execute_result"
        },
        {
          "data": {
            "image/png": "[encoded data removed]",
            "text/plain": [
              "<Figure size 432x288 with 1 Axes>"
            ]
          },
          "metadata": {
            "needs_background": "light"
          },
          "output_type": "display_data"
        }
      ]
    },
    {
      "cell_type": "code",
      "metadata": {
        "id": "NYyoxg6pTqYH",
        "outputId": "20eaf938-2b1d-42ef-fd2d-f505bab65d2a"
      },
      "source": [
        "sns.boxplot(df['carheight'])"
      ],
      "execution_count": null,
      "outputs": [
        {
          "data": {
            "text/plain": [
              "<matplotlib.axes._subplots.AxesSubplot at 0x1d8ee7ecbe0>"
            ]
          },
          "execution_count": 14,
          "metadata": {},
          "output_type": "execute_result"
        },
        {
          "data": {
            "image/png": "[encoded data removed]",
            "text/plain": [
              "<Figure size 432x288 with 1 Axes>"
            ]
          },
          "metadata": {
            "needs_background": "light"
          },
          "output_type": "display_data"
        }
      ]
    },
    {
      "cell_type": "code",
      "metadata": {
        "id": "b1jqBwFLTqYI",
        "outputId": "4dde001a-40f1-4247-b030-d31ab850af1f"
      },
      "source": [
        "sns.boxplot(df['price'],orient='h')"
      ],
      "execution_count": null,
      "outputs": [
        {
          "data": {
            "text/plain": [
              "<matplotlib.axes._subplots.AxesSubplot at 0x1d8ee812e10>"
            ]
          },
          "execution_count": 15,
          "metadata": {},
          "output_type": "execute_result"
        },
        {
          "data": {
            "image/png": "[encoded data removed]",
            "text/plain": [
              "<Figure size 432x288 with 1 Axes>"
            ]
          },
          "metadata": {
            "needs_background": "light"
          },
          "output_type": "display_data"
        }
      ]
    },
    {
      "cell_type": "code",
      "metadata": {
        "id": "FtV6fcAPTqYJ",
        "outputId": "f339f8f0-8691-47d7-8d98-34ae8d7a2def"
      },
      "source": [
        "df.price.value_counts().head()"
      ],
      "execution_count": null,
      "outputs": [
        {
          "data": {
            "text/plain": [
              "16500.0    2\n",
              "8916.5     2\n",
              "5572.0     2\n",
              "13499.0    2\n",
              "8845.0     2\n",
              "Name: price, dtype: int64"
            ]
          },
          "execution_count": 16,
          "metadata": {},
          "output_type": "execute_result"
        }
      ]
    },
    {
      "cell_type": "code",
      "metadata": {
        "id": "RpITu8deTqYJ",
        "outputId": "84c43e53-da01-4991-d9e6-5f1008034c2a"
      },
      "source": [
        "df.carheight.value_counts().head()"
      ],
      "execution_count": null,
      "outputs": [
        {
          "data": {
            "text/plain": [
              "50.8    11\n",
              "54.1     8\n",
              "56.7     8\n",
              "54.5     7\n",
              "54.3     6\n",
              "Name: carheight, dtype: int64"
            ]
          },
          "execution_count": 17,
          "metadata": {},
          "output_type": "execute_result"
        }
      ]
    },
    {
      "cell_type": "code",
      "metadata": {
        "id": "3WRdVq5KTqYK",
        "outputId": "855f8b4d-f0c9-47db-db0f-daaae5c24eec"
      },
      "source": [
        "plt.hist(df.carlength)"
      ],
      "execution_count": null,
      "outputs": [
        {
          "data": {
            "text/plain": [
              "(array([ 3.,  3., 20., 13., 26., 23., 11.,  9.,  8.,  3.]),\n",
              " array([141.1, 147.8, 154.5, 161.2, 167.9, 174.6, 181.3, 188. , 194.7,\n",
              "        201.4, 208.1]),\n",
              " <a list of 10 Patch objects>)"
            ]
          },
          "execution_count": 18,
          "metadata": {},
          "output_type": "execute_result"
        },
        {
          "data": {
            "image/png": "[encoded data removed]",
            "text/plain": [
              "<Figure size 432x288 with 1 Axes>"
            ]
          },
          "metadata": {
            "needs_background": "light"
          },
          "output_type": "display_data"
        }
      ]
    },
    {
      "cell_type": "code",
      "metadata": {
        "id": "aOao7cdeTqYL",
        "outputId": "43336965-9974-4426-e959-793e41f0c1ac"
      },
      "source": [
        "plt.hist(df.columns)"
      ],
      "execution_count": null,
      "outputs": [
        {
          "data": {
            "text/plain": [
              "(array([1., 0., 1., 0., 0., 1., 0., 1., 0., 1.]),\n",
              " array([0. , 0.4, 0.8, 1.2, 1.6, 2. , 2.4, 2.8, 3.2, 3.6, 4. ]),\n",
              " <a list of 10 Patch objects>)"
            ]
          },
          "execution_count": 19,
          "metadata": {},
          "output_type": "execute_result"
        },
        {
          "data": {
            "image/png": "[encoded data removed]",
            "text/plain": [
              "<Figure size 432x288 with 1 Axes>"
            ]
          },
          "metadata": {
            "needs_background": "light"
          },
          "output_type": "display_data"
        }
      ]
    },
    {
      "cell_type": "code",
      "metadata": {
        "id": "Zff_etqDTqYM",
        "outputId": "8242abd8-9681-4cc7-9629-59854663db30"
      },
      "source": [
        "plt.style.use('ggplot') # Using ggplot2 style visuals \n",
        "f, ax = plt.subplots(figsize=(11, 15))\n",
        "ax.set_facecolor('white') \n",
        "ax.set(xlim=(-50, 250)) \n",
        "plt.ylabel('Variables') \n",
        "plt.title(\"Overview Data Set\") \n",
        "ax = sns.boxplot(data = df,   \n",
        "                 orient = 'h',   \n",
        "                 palette = 'Set2')"
      ],
      "execution_count": null,
      "outputs": [
        {
          "data": {
            "image/png": "[encoded data removed]",
            "text/plain": [
              "<Figure size 792x1080 with 1 Axes>"
            ]
          },
          "metadata": {},
          "output_type": "display_data"
        }
      ]
    },
    {
      "cell_type": "code",
      "metadata": {
        "id": "td6pKsd6TqYN",
        "outputId": "b6406279-1367-4002-a10c-f98223cee541"
      },
      "source": [
        "plt.figure(figsize=(8,8)) \n",
        "sns.heatmap(df.corr(),annot = True)"
      ],
      "execution_count": null,
      "outputs": [
        {
          "data": {
            "text/plain": [
              "<matplotlib.axes._subplots.AxesSubplot at 0x1d8eea98978>"
            ]
          },
          "execution_count": 21,
          "metadata": {},
          "output_type": "execute_result"
        },
        {
          "data": {
            "image/png": "[encoded data removed]",
            "text/plain": [
              "<Figure size 576x576 with 2 Axes>"
            ]
          },
          "metadata": {},
          "output_type": "display_data"
        }
      ]
    },
    {
      "cell_type": "code",
      "metadata": {
        "id": "bHqVGvPqTqYN",
        "outputId": "39ab4ed4-7c55-403e-af7c-f16c6e6bd1be"
      },
      "source": [
        "plt.scatter(df.carwidth,df.carlength)"
      ],
      "execution_count": null,
      "outputs": [
        {
          "data": {
            "text/plain": [
              "<matplotlib.collections.PathCollection at 0x1d8eeb263c8>"
            ]
          },
          "execution_count": 22,
          "metadata": {},
          "output_type": "execute_result"
        },
        {
          "data": {
            "image/png": "[encoded data removed]",
            "text/plain": [
              "<Figure size 432x288 with 1 Axes>"
            ]
          },
          "metadata": {},
          "output_type": "display_data"
        }
      ]
    },
    {
      "cell_type": "code",
      "metadata": {
        "id": "4PkBsA8dTqYO",
        "outputId": "e604ef77-6183-4a15-b11d-81f279350cae"
      },
      "source": [
        "sns.regplot(df.carwidth,df.carlength,data=df)"
      ],
      "execution_count": null,
      "outputs": [
        {
          "data": {
            "text/plain": [
              "<matplotlib.axes._subplots.AxesSubplot at 0x1d8ee9c0f60>"
            ]
          },
          "execution_count": 23,
          "metadata": {},
          "output_type": "execute_result"
        },
        {
          "data": {
            "image/png": "[encoded data removed]",
            "text/plain": [
              "<Figure size 432x288 with 1 Axes>"
            ]
          },
          "metadata": {},
          "output_type": "display_data"
        }
      ]
    },
    {
      "cell_type": "code",
      "metadata": {
        "id": "UvUyAl7pTqYO",
        "outputId": "c2d5e2ee-3894-43f9-b194-a209401f80ae"
      },
      "source": [
        "sns.regplot(df.carwidth,df.carheight,data=df)"
      ],
      "execution_count": null,
      "outputs": [
        {
          "data": {
            "text/plain": [
              "<matplotlib.axes._subplots.AxesSubplot at 0x1d8ee9d5438>"
            ]
          },
          "execution_count": 24,
          "metadata": {},
          "output_type": "execute_result"
        },
        {
          "data": {
            "image/png": "[encoded data removed]",
            "text/plain": [
              "<Figure size 432x288 with 1 Axes>"
            ]
          },
          "metadata": {},
          "output_type": "display_data"
        }
      ]
    },
    {
      "cell_type": "code",
      "metadata": {
        "id": "A-8bEO_7TqYP",
        "outputId": "230e2447-105e-4c67-cf67-41807ef0a785"
      },
      "source": [
        "sns.regplot(df.carwidth,df.price,data=df)"
      ],
      "execution_count": null,
      "outputs": [
        {
          "data": {
            "text/plain": [
              "<matplotlib.axes._subplots.AxesSubplot at 0x1d8ee980f28>"
            ]
          },
          "execution_count": 25,
          "metadata": {},
          "output_type": "execute_result"
        },
        {
          "data": {
            "image/png": "[encoded data removed]",
            "text/plain": [
              "<Figure size 432x288 with 1 Axes>"
            ]
          },
          "metadata": {},
          "output_type": "display_data"
        }
      ]
    },
    {
      "cell_type": "code",
      "metadata": {
        "id": "TvykwIuUTqYQ"
      },
      "source": [
        "X=df[['carlength','carwidth','carheight','price']]\n",
        "y=df['Affordable']"
      ],
      "execution_count": null,
      "outputs": []
    },
    {
      "cell_type": "code",
      "metadata": {
        "id": "39KByshwTqYR"
      },
      "source": [
        "from sklearn.model_selection import train_test_split"
      ],
      "execution_count": null,
      "outputs": []
    },
    {
      "cell_type": "code",
      "metadata": {
        "id": "RedjwdibTqYS"
      },
      "source": [
        "X_train,X_test,y_train,y_test = train_test_split(X,y,test_size = 0.3,random_state=10)"
      ],
      "execution_count": null,
      "outputs": []
    },
    {
      "cell_type": "code",
      "metadata": {
        "id": "LTzZXUefTqYS"
      },
      "source": [
        "from sklearn.linear_model import LogisticRegression"
      ],
      "execution_count": null,
      "outputs": []
    },
    {
      "cell_type": "code",
      "metadata": {
        "id": "MNpvNZCHTqYT"
      },
      "source": [
        "model = LogisticRegression()"
      ],
      "execution_count": null,
      "outputs": []
    },
    {
      "cell_type": "code",
      "metadata": {
        "id": "QPZie2UTTqYT",
        "outputId": "6509067b-4d0b-49bc-efc9-9d74e8a4d20f"
      },
      "source": [
        "model.fit(X_train,y_train)"
      ],
      "execution_count": null,
      "outputs": [
        {
          "name": "stderr",
          "output_type": "stream",
          "text": [
            "C:\\Users\\lipsita\\Anaconda3\\lib\\site-packages\\sklearn\\linear_model\\logistic.py:432: FutureWarning: Default solver will be changed to 'lbfgs' in 0.22. Specify a solver to silence this warning.\n",
            "  FutureWarning)\n"
          ]
        },
        {
          "data": {
            "text/plain": [
              "LogisticRegression(C=1.0, class_weight=None, dual=False, fit_intercept=True,\n",
              "                   intercept_scaling=1, l1_ratio=None, max_iter=100,\n",
              "                   multi_class='warn', n_jobs=None, penalty='l2',\n",
              "                   random_state=None, solver='warn', tol=0.0001, verbose=0,\n",
              "                   warm_start=False)"
            ]
          },
          "execution_count": 31,
          "metadata": {},
          "output_type": "execute_result"
        }
      ]
    },
    {
      "cell_type": "code",
      "metadata": {
        "id": "JdXVqB1WTqYU",
        "outputId": "509a58c1-e9c1-4581-8ac7-f3f5af97bf00"
      },
      "source": [
        "model.score(X_test,y_test)"
      ],
      "execution_count": null,
      "outputs": [
        {
          "data": {
            "text/plain": [
              "0.9722222222222222"
            ]
          },
          "execution_count": 32,
          "metadata": {},
          "output_type": "execute_result"
        }
      ]
    },
    {
      "cell_type": "code",
      "metadata": {
        "id": "toBGd8mcTqYV"
      },
      "source": [
        "y_pred=model.predict(X_test)"
      ],
      "execution_count": null,
      "outputs": []
    },
    {
      "cell_type": "code",
      "metadata": {
        "id": "dBaGAVShTqYV",
        "outputId": "f40f4cce-17ac-4b20-f1eb-8aeb4ae10d17"
      },
      "source": [
        "y_test"
      ],
      "execution_count": null,
      "outputs": [
        {
          "data": {
            "text/plain": [
              "45     YES\n",
              "95      NO\n",
              "56     YES\n",
              "84      NO\n",
              "98      NO\n",
              "41     YES\n",
              "80      NO\n",
              "109     NO\n",
              "48     YES\n",
              "2      YES\n",
              "53     YES\n",
              "52     YES\n",
              "111     NO\n",
              "43     YES\n",
              "79      NO\n",
              "1      YES\n",
              "10     YES\n",
              "35     YES\n",
              "47     YES\n",
              "26     YES\n",
              "68      NO\n",
              "81      NO\n",
              "37     YES\n",
              "19     YES\n",
              "14     YES\n",
              "39     YES\n",
              "38     YES\n",
              "63     YES\n",
              "103     NO\n",
              "110     NO\n",
              "3      YES\n",
              "75      NO\n",
              "70      NO\n",
              "107     NO\n",
              "96      NO\n",
              "99      NO\n",
              "Name: Affordable, dtype: object"
            ]
          },
          "execution_count": 34,
          "metadata": {},
          "output_type": "execute_result"
        }
      ]
    },
    {
      "cell_type": "code",
      "metadata": {
        "id": "xm5KxqwPTqYW",
        "outputId": "177ba582-5960-47bf-bd3a-bcdd1a90aa5d"
      },
      "source": [
        "y_pred"
      ],
      "execution_count": null,
      "outputs": [
        {
          "data": {
            "text/plain": [
              "array(['YES', 'NO', 'YES', 'NO', 'NO', 'YES', 'NO', 'NO', 'YES', 'YES',\n",
              "       'YES', 'YES', 'NO', 'YES', 'NO', 'YES', 'YES', 'YES', 'YES', 'YES',\n",
              "       'YES', 'NO', 'YES', 'YES', 'YES', 'YES', 'YES', 'YES', 'NO', 'NO',\n",
              "       'YES', 'NO', 'NO', 'NO', 'NO', 'NO'], dtype=object)"
            ]
          },
          "execution_count": 35,
          "metadata": {},
          "output_type": "execute_result"
        }
      ]
    },
    {
      "cell_type": "code",
      "metadata": {
        "id": "6jxVeMY2TqYW",
        "outputId": "e3df23db-d345-4b32-8236-75ae119314e4"
      },
      "source": [
        "from sklearn.metrics import confusion_matrix \n",
        "confusion_matrix(y_test,y_pred)"
      ],
      "execution_count": null,
      "outputs": [
        {
          "data": {
            "text/plain": [
              "array([[15,  1],\n",
              "       [ 0, 20]], dtype=int64)"
            ]
          },
          "execution_count": 36,
          "metadata": {},
          "output_type": "execute_result"
        }
      ]
    },
    {
      "cell_type": "code",
      "metadata": {
        "id": "2zISceElTqYX"
      },
      "source": [
        "res=model.predict([[13,46,57,27]])"
      ],
      "execution_count": null,
      "outputs": []
    },
    {
      "cell_type": "code",
      "metadata": {
        "id": "qtfYzT8MTqYY",
        "outputId": "6ff68384-9739-4e46-bd02-41f1c7351659"
      },
      "source": [
        "res"
      ],
      "execution_count": null,
      "outputs": [
        {
          "data": {
            "text/plain": [
              "array(['YES'], dtype=object)"
            ]
          },
          "execution_count": 38,
          "metadata": {},
          "output_type": "execute_result"
        }
      ]
    },
    {
      "cell_type": "code",
      "metadata": {
        "id": "ICTr7FUSTqYZ",
        "outputId": "8e221f78-e408-496e-fc43-9276a5c77566"
      },
      "source": [
        "import sklearn .externals\n",
        "import joblib\n",
        "joblib.dump(model,'car price analysis.pkl')"
      ],
      "execution_count": null,
      "outputs": [
        {
          "data": {
            "text/plain": [
              "['car price analysis.pkl']"
            ]
          },
          "execution_count": 39,
          "metadata": {},
          "output_type": "execute_result"
        }
      ]
    },
    {
      "cell_type": "code",
      "metadata": {
        "id": "4e5_uhQiTqYZ"
      },
      "source": [
        ""
      ],
      "execution_count": null,
      "outputs": []
    },
    {
      "cell_type": "code",
      "metadata": {
        "id": "SdEh1pw2TqYa"
      },
      "source": [
        ""
      ],
      "execution_count": null,
      "outputs": []
    }
  ]
}